{
 "cells": [
  {
   "cell_type": "markdown",
   "metadata": {},
   "source": [
    "# EDA and Data Visualizations "
   ]
  },
  {
   "cell_type": "markdown",
   "metadata": {},
   "source": [
    "_by Anna Funsten_"
   ]
  },
  {
   "cell_type": "markdown",
   "metadata": {},
   "source": [
    "### Contents:\n",
    " - [Exploring Data on CDC Website Related to Asthma](#Exploring-Data-on-CDC-Website-Related-to-Asthma)\n",
    "    - [Find the US Cities with Highest Number of Adults with Asthma in 2017](#Find-the-US-Cities-with-Highest-Number-of-Adults-with-Asthma-in-2017)\n",
    " - [EDA of AQI and Temperature Data](#EDA-of-AQI-and-Temperature-Data)\n",
    "     - [Heatmap](#Heatmap)\n",
    "     - [Pairplot](#Pairplot)\n",
    "     - [Visualizations Exploring Temperature and Pollutants](#Visualizations-Exploring-Temperature-and-Pollutants)\n",
    "     - [Visualization Exploring Cumulative AQI Regarding Time](#-Visualization-Exploring-Cumulative-AQI-Regarding-Time)\n"
   ]
  },
  {
   "cell_type": "code",
   "execution_count": 1,
   "metadata": {},
   "outputs": [],
   "source": [
    "import pandas as pd\n",
    "import numpy as np\n",
    "import matplotlib.pyplot as plt\n",
    "import seaborn as sns\n",
    "%matplotlib inline"
   ]
  },
  {
   "cell_type": "markdown",
   "metadata": {},
   "source": [
    "## Exploring Data on CDC Website Related to Asthma\n",
    "[(back to top)](#EDA-and-Data-Visualizations)"
   ]
  },
  {
   "cell_type": "code",
   "execution_count": 2,
   "metadata": {},
   "outputs": [],
   "source": [
    "df_asthma = pd.read_csv('../data/500_Cities__Current_asthma_among_adults_aged___18_years.csv')"
   ]
  },
  {
   "cell_type": "code",
   "execution_count": 3,
   "metadata": {},
   "outputs": [
    {
     "data": {
      "text/html": [
       "<div>\n",
       "<style scoped>\n",
       "    .dataframe tbody tr th:only-of-type {\n",
       "        vertical-align: middle;\n",
       "    }\n",
       "\n",
       "    .dataframe tbody tr th {\n",
       "        vertical-align: top;\n",
       "    }\n",
       "\n",
       "    .dataframe thead th {\n",
       "        text-align: right;\n",
       "    }\n",
       "</style>\n",
       "<table border=\"1\" class=\"dataframe\">\n",
       "  <thead>\n",
       "    <tr style=\"text-align: right;\">\n",
       "      <th></th>\n",
       "      <th>0</th>\n",
       "      <th>1</th>\n",
       "    </tr>\n",
       "  </thead>\n",
       "  <tbody>\n",
       "    <tr>\n",
       "      <th>Year</th>\n",
       "      <td>2017</td>\n",
       "      <td>2017</td>\n",
       "    </tr>\n",
       "    <tr>\n",
       "      <th>StateAbbr</th>\n",
       "      <td>CA</td>\n",
       "      <td>CA</td>\n",
       "    </tr>\n",
       "    <tr>\n",
       "      <th>StateDesc</th>\n",
       "      <td>California</td>\n",
       "      <td>California</td>\n",
       "    </tr>\n",
       "    <tr>\n",
       "      <th>CityName</th>\n",
       "      <td>Livermore</td>\n",
       "      <td>Compton</td>\n",
       "    </tr>\n",
       "    <tr>\n",
       "      <th>GeographicLevel</th>\n",
       "      <td>City</td>\n",
       "      <td>City</td>\n",
       "    </tr>\n",
       "    <tr>\n",
       "      <th>DataSource</th>\n",
       "      <td>BRFSS</td>\n",
       "      <td>BRFSS</td>\n",
       "    </tr>\n",
       "    <tr>\n",
       "      <th>Category</th>\n",
       "      <td>Health Outcomes</td>\n",
       "      <td>Health Outcomes</td>\n",
       "    </tr>\n",
       "    <tr>\n",
       "      <th>UniqueID</th>\n",
       "      <td>0641992</td>\n",
       "      <td>0615044</td>\n",
       "    </tr>\n",
       "    <tr>\n",
       "      <th>Measure</th>\n",
       "      <td>Current asthma among adults aged &gt;=18 Years</td>\n",
       "      <td>Current asthma among adults aged &gt;=18 Years</td>\n",
       "    </tr>\n",
       "    <tr>\n",
       "      <th>Data_Value_Unit</th>\n",
       "      <td>%</td>\n",
       "      <td>%</td>\n",
       "    </tr>\n",
       "    <tr>\n",
       "      <th>DataValueTypeID</th>\n",
       "      <td>CrdPrv</td>\n",
       "      <td>CrdPrv</td>\n",
       "    </tr>\n",
       "    <tr>\n",
       "      <th>Data_Value_Type</th>\n",
       "      <td>Crude prevalence</td>\n",
       "      <td>Crude prevalence</td>\n",
       "    </tr>\n",
       "    <tr>\n",
       "      <th>Data_Value</th>\n",
       "      <td>8.9</td>\n",
       "      <td>10.9</td>\n",
       "    </tr>\n",
       "    <tr>\n",
       "      <th>Low_Confidence_Limit</th>\n",
       "      <td>8.8</td>\n",
       "      <td>10.7</td>\n",
       "    </tr>\n",
       "    <tr>\n",
       "      <th>High_Confidence_Limit</th>\n",
       "      <td>9.0</td>\n",
       "      <td>11.0</td>\n",
       "    </tr>\n",
       "    <tr>\n",
       "      <th>Data_Value_Footnote_Symbol</th>\n",
       "      <td>NaN</td>\n",
       "      <td>NaN</td>\n",
       "    </tr>\n",
       "    <tr>\n",
       "      <th>Data_Value_Footnote</th>\n",
       "      <td>NaN</td>\n",
       "      <td>NaN</td>\n",
       "    </tr>\n",
       "    <tr>\n",
       "      <th>PopulationCount</th>\n",
       "      <td>80968</td>\n",
       "      <td>96455</td>\n",
       "    </tr>\n",
       "    <tr>\n",
       "      <th>GeoLocation</th>\n",
       "      <td>(37.6865101361, -121.764357841)</td>\n",
       "      <td>(33.892965693, -118.227506568)</td>\n",
       "    </tr>\n",
       "    <tr>\n",
       "      <th>CategoryID</th>\n",
       "      <td>HLTHOUT</td>\n",
       "      <td>HLTHOUT</td>\n",
       "    </tr>\n",
       "    <tr>\n",
       "      <th>MeasureId</th>\n",
       "      <td>CASTHMA</td>\n",
       "      <td>CASTHMA</td>\n",
       "    </tr>\n",
       "    <tr>\n",
       "      <th>CityFIPS</th>\n",
       "      <td>641992.0</td>\n",
       "      <td>615044.0</td>\n",
       "    </tr>\n",
       "    <tr>\n",
       "      <th>TractFIPS</th>\n",
       "      <td>NaN</td>\n",
       "      <td>NaN</td>\n",
       "    </tr>\n",
       "    <tr>\n",
       "      <th>Short_Question_Text</th>\n",
       "      <td>Current Asthma</td>\n",
       "      <td>Current Asthma</td>\n",
       "    </tr>\n",
       "  </tbody>\n",
       "</table>\n",
       "</div>"
      ],
      "text/plain": [
       "                                                                      0  \\\n",
       "Year                                                               2017   \n",
       "StateAbbr                                                            CA   \n",
       "StateDesc                                                    California   \n",
       "CityName                                                      Livermore   \n",
       "GeographicLevel                                                    City   \n",
       "DataSource                                                        BRFSS   \n",
       "Category                                                Health Outcomes   \n",
       "UniqueID                                                        0641992   \n",
       "Measure                     Current asthma among adults aged >=18 Years   \n",
       "Data_Value_Unit                                                       %   \n",
       "DataValueTypeID                                                  CrdPrv   \n",
       "Data_Value_Type                                        Crude prevalence   \n",
       "Data_Value                                                          8.9   \n",
       "Low_Confidence_Limit                                                8.8   \n",
       "High_Confidence_Limit                                               9.0   \n",
       "Data_Value_Footnote_Symbol                                          NaN   \n",
       "Data_Value_Footnote                                                 NaN   \n",
       "PopulationCount                                                   80968   \n",
       "GeoLocation                             (37.6865101361, -121.764357841)   \n",
       "CategoryID                                                      HLTHOUT   \n",
       "MeasureId                                                       CASTHMA   \n",
       "CityFIPS                                                       641992.0   \n",
       "TractFIPS                                                           NaN   \n",
       "Short_Question_Text                                      Current Asthma   \n",
       "\n",
       "                                                                      1  \n",
       "Year                                                               2017  \n",
       "StateAbbr                                                            CA  \n",
       "StateDesc                                                    California  \n",
       "CityName                                                        Compton  \n",
       "GeographicLevel                                                    City  \n",
       "DataSource                                                        BRFSS  \n",
       "Category                                                Health Outcomes  \n",
       "UniqueID                                                        0615044  \n",
       "Measure                     Current asthma among adults aged >=18 Years  \n",
       "Data_Value_Unit                                                       %  \n",
       "DataValueTypeID                                                  CrdPrv  \n",
       "Data_Value_Type                                        Crude prevalence  \n",
       "Data_Value                                                         10.9  \n",
       "Low_Confidence_Limit                                               10.7  \n",
       "High_Confidence_Limit                                              11.0  \n",
       "Data_Value_Footnote_Symbol                                          NaN  \n",
       "Data_Value_Footnote                                                 NaN  \n",
       "PopulationCount                                                   96455  \n",
       "GeoLocation                              (33.892965693, -118.227506568)  \n",
       "CategoryID                                                      HLTHOUT  \n",
       "MeasureId                                                       CASTHMA  \n",
       "CityFIPS                                                       615044.0  \n",
       "TractFIPS                                                           NaN  \n",
       "Short_Question_Text                                      Current Asthma  "
      ]
     },
     "execution_count": 3,
     "metadata": {},
     "output_type": "execute_result"
    }
   ],
   "source": [
    "df_asthma.head(2).T"
   ]
  },
  {
   "cell_type": "markdown",
   "metadata": {},
   "source": [
    "### Find the US Cities with Highest Number of Adults with Asthma in 2017\n",
    "[(back to top)](#EDA-and-Data-Visualizations)"
   ]
  },
  {
   "cell_type": "code",
   "execution_count": 4,
   "metadata": {},
   "outputs": [
    {
     "data": {
      "text/plain": [
       "20727    17.8\n",
       "15169    17.5\n",
       "21445    17.5\n",
       "14231    17.4\n",
       "14542    17.4\n",
       "21108    17.3\n",
       "21117    17.2\n",
       "21197    17.1\n",
       "41       17.0\n",
       "27633    17.0\n",
       "Name: Data_Value, dtype: float64"
      ]
     },
     "execution_count": 4,
     "metadata": {},
     "output_type": "execute_result"
    }
   ],
   "source": [
    "top_10 = df_asthma['Data_Value'].sort_values(ascending = False)[:10]\n",
    "top_10"
   ]
  },
  {
   "cell_type": "code",
   "execution_count": 5,
   "metadata": {},
   "outputs": [],
   "source": [
    "mask = df_asthma['Data_Value'] > 17 \n",
    "# finding all cities with asthma rates higher than 17"
   ]
  },
  {
   "cell_type": "code",
   "execution_count": 6,
   "metadata": {},
   "outputs": [],
   "source": [
    "high_asthma_rate_df = df_asthma[mask].sort_values(by = 'Data_Value', ascending = True)"
   ]
  },
  {
   "cell_type": "code",
   "execution_count": 7,
   "metadata": {},
   "outputs": [],
   "source": [
    "high_asthma_rate_df = high_asthma_rate_df[['StateAbbr','CityName','Data_Value']]"
   ]
  },
  {
   "cell_type": "code",
   "execution_count": 8,
   "metadata": {},
   "outputs": [
    {
     "data": {
      "image/png": "[encoded data removed]",
      "text/plain": [
       "<Figure size 576x360 with 1 Axes>"
      ]
     },
     "metadata": {
      "needs_background": "light"
     },
     "output_type": "display_data"
    }
   ],
   "source": [
    "plt.figure(figsize = (8,5))\n",
    "plt.title('Top 5 US City Asthma Rate in 2017',fontsize = 17)\n",
    "sns.barplot(data = high_asthma_rate_df, x = 'CityName', y = 'Data_Value');\n",
    "plt.xlabel('City Name', fontsize = 13)\n",
    "plt.ylabel(\"Percent of Adult's with Asthma\", fontsize = 13);"
   ]
  },
  {
   "cell_type": "markdown",
   "metadata": {},
   "source": [
    "Cleveland with the highest US asthma rate for adults older than 18 years old based on CDC data from 2017. 17.5% of all adults in Cleveland have Asthma. Seeing that Cleveland had a high asthma rate narrowed allowed us to narrow in on one city to look at air quality  "
   ]
  },
  {
   "cell_type": "markdown",
   "metadata": {},
   "source": [
    "## EDA of AQI and Temperature Data \n",
    "[(back to top)](#EDA-and-Data-Visualizations)"
   ]
  },
  {
   "cell_type": "code",
   "execution_count": 9,
   "metadata": {},
   "outputs": [],
   "source": [
    "df = pd.read_csv('../data/cleaned_aqi_and_temp_data_2017-2019.csv')"
   ]
  },
  {
   "cell_type": "code",
   "execution_count": 10,
   "metadata": {},
   "outputs": [
    {
     "data": {
      "text/html": [
       "<div>\n",
       "<style scoped>\n",
       "    .dataframe tbody tr th:only-of-type {\n",
       "        vertical-align: middle;\n",
       "    }\n",
       "\n",
       "    .dataframe tbody tr th {\n",
       "        vertical-align: top;\n",
       "    }\n",
       "\n",
       "    .dataframe thead th {\n",
       "        text-align: right;\n",
       "    }\n",
       "</style>\n",
       "<table border=\"1\" class=\"dataframe\">\n",
       "  <thead>\n",
       "    <tr style=\"text-align: right;\">\n",
       "      <th></th>\n",
       "      <th>date</th>\n",
       "      <th>co_max</th>\n",
       "      <th>co_aqi_val</th>\n",
       "      <th>no2_max</th>\n",
       "      <th>no2_aqi_val</th>\n",
       "      <th>ozone_max</th>\n",
       "      <th>ozone_aqi_val</th>\n",
       "      <th>pm10_mean</th>\n",
       "      <th>pm10_aqi_val</th>\n",
       "      <th>pm2.5_mean</th>\n",
       "      <th>pm2.5_aqi_val</th>\n",
       "      <th>so2_max</th>\n",
       "      <th>so2_aqi_val</th>\n",
       "      <th>cumulative_aqi</th>\n",
       "      <th>temp_high</th>\n",
       "      <th>temp_low</th>\n",
       "      <th>temp_avg</th>\n",
       "      <th>month</th>\n",
       "      <th>weekday</th>\n",
       "    </tr>\n",
       "  </thead>\n",
       "  <tbody>\n",
       "    <tr>\n",
       "      <th>0</th>\n",
       "      <td>1/1/2017</td>\n",
       "      <td>0.5</td>\n",
       "      <td>6.0</td>\n",
       "      <td>36.0</td>\n",
       "      <td>34.0</td>\n",
       "      <td>0.026</td>\n",
       "      <td>24.0</td>\n",
       "      <td>21.0</td>\n",
       "      <td>19.0</td>\n",
       "      <td>9.6</td>\n",
       "      <td>40.0</td>\n",
       "      <td>5.0</td>\n",
       "      <td>7.0</td>\n",
       "      <td>40</td>\n",
       "      <td>43</td>\n",
       "      <td>27</td>\n",
       "      <td>35.0</td>\n",
       "      <td>1</td>\n",
       "      <td>6</td>\n",
       "    </tr>\n",
       "    <tr>\n",
       "      <th>1</th>\n",
       "      <td>1/2/2017</td>\n",
       "      <td>0.5</td>\n",
       "      <td>6.0</td>\n",
       "      <td>33.0</td>\n",
       "      <td>31.0</td>\n",
       "      <td>0.009</td>\n",
       "      <td>8.0</td>\n",
       "      <td>18.0</td>\n",
       "      <td>17.0</td>\n",
       "      <td>14.1</td>\n",
       "      <td>55.0</td>\n",
       "      <td>2.0</td>\n",
       "      <td>3.0</td>\n",
       "      <td>55</td>\n",
       "      <td>50</td>\n",
       "      <td>34</td>\n",
       "      <td>42.0</td>\n",
       "      <td>1</td>\n",
       "      <td>0</td>\n",
       "    </tr>\n",
       "    <tr>\n",
       "      <th>2</th>\n",
       "      <td>1/3/2017</td>\n",
       "      <td>0.4</td>\n",
       "      <td>5.0</td>\n",
       "      <td>24.0</td>\n",
       "      <td>23.0</td>\n",
       "      <td>0.015</td>\n",
       "      <td>14.0</td>\n",
       "      <td>9.0</td>\n",
       "      <td>8.0</td>\n",
       "      <td>7.7</td>\n",
       "      <td>32.0</td>\n",
       "      <td>0.0</td>\n",
       "      <td>0.0</td>\n",
       "      <td>32</td>\n",
       "      <td>50</td>\n",
       "      <td>40</td>\n",
       "      <td>45.0</td>\n",
       "      <td>1</td>\n",
       "      <td>1</td>\n",
       "    </tr>\n",
       "    <tr>\n",
       "      <th>3</th>\n",
       "      <td>1/4/2017</td>\n",
       "      <td>0.2</td>\n",
       "      <td>2.0</td>\n",
       "      <td>NaN</td>\n",
       "      <td>NaN</td>\n",
       "      <td>0.027</td>\n",
       "      <td>25.0</td>\n",
       "      <td>19.0</td>\n",
       "      <td>18.0</td>\n",
       "      <td>4.6</td>\n",
       "      <td>19.0</td>\n",
       "      <td>0.0</td>\n",
       "      <td>0.0</td>\n",
       "      <td>25</td>\n",
       "      <td>40</td>\n",
       "      <td>20</td>\n",
       "      <td>30.0</td>\n",
       "      <td>1</td>\n",
       "      <td>2</td>\n",
       "    </tr>\n",
       "    <tr>\n",
       "      <th>4</th>\n",
       "      <td>1/5/2017</td>\n",
       "      <td>NaN</td>\n",
       "      <td>NaN</td>\n",
       "      <td>19.0</td>\n",
       "      <td>18.0</td>\n",
       "      <td>0.020</td>\n",
       "      <td>19.0</td>\n",
       "      <td>11.0</td>\n",
       "      <td>10.0</td>\n",
       "      <td>5.3</td>\n",
       "      <td>22.0</td>\n",
       "      <td>0.0</td>\n",
       "      <td>0.0</td>\n",
       "      <td>22</td>\n",
       "      <td>21</td>\n",
       "      <td>13</td>\n",
       "      <td>17.0</td>\n",
       "      <td>1</td>\n",
       "      <td>3</td>\n",
       "    </tr>\n",
       "  </tbody>\n",
       "</table>\n",
       "</div>"
      ],
      "text/plain": [
       "       date  co_max  co_aqi_val  no2_max  no2_aqi_val  ozone_max  \\\n",
       "0  1/1/2017     0.5         6.0     36.0         34.0      0.026   \n",
       "1  1/2/2017     0.5         6.0     33.0         31.0      0.009   \n",
       "2  1/3/2017     0.4         5.0     24.0         23.0      0.015   \n",
       "3  1/4/2017     0.2         2.0      NaN          NaN      0.027   \n",
       "4  1/5/2017     NaN         NaN     19.0         18.0      0.020   \n",
       "\n",
       "   ozone_aqi_val  pm10_mean  pm10_aqi_val  pm2.5_mean  pm2.5_aqi_val  so2_max  \\\n",
       "0           24.0       21.0          19.0         9.6           40.0      5.0   \n",
       "1            8.0       18.0          17.0        14.1           55.0      2.0   \n",
       "2           14.0        9.0           8.0         7.7           32.0      0.0   \n",
       "3           25.0       19.0          18.0         4.6           19.0      0.0   \n",
       "4           19.0       11.0          10.0         5.3           22.0      0.0   \n",
       "\n",
       "   so2_aqi_val  cumulative_aqi  temp_high  temp_low  temp_avg  month  weekday  \n",
       "0          7.0              40         43        27      35.0      1        6  \n",
       "1          3.0              55         50        34      42.0      1        0  \n",
       "2          0.0              32         50        40      45.0      1        1  \n",
       "3          0.0              25         40        20      30.0      1        2  \n",
       "4          0.0              22         21        13      17.0      1        3  "
      ]
     },
     "execution_count": 10,
     "metadata": {},
     "output_type": "execute_result"
    }
   ],
   "source": [
    "df.head()"
   ]
  },
  {
   "cell_type": "code",
   "execution_count": 11,
   "metadata": {},
   "outputs": [
    {
     "name": "stdout",
     "output_type": "stream",
     "text": [
      "<class 'pandas.core.frame.DataFrame'>\n",
      "RangeIndex: 1093 entries, 0 to 1092\n",
      "Data columns (total 19 columns):\n",
      " #   Column          Non-Null Count  Dtype  \n",
      "---  ------          --------------  -----  \n",
      " 0   date            1093 non-null   object \n",
      " 1   co_max          1062 non-null   float64\n",
      " 2   co_aqi_val      1062 non-null   float64\n",
      " 3   no2_max         1038 non-null   float64\n",
      " 4   no2_aqi_val     1038 non-null   float64\n",
      " 5   ozone_max       1057 non-null   float64\n",
      " 6   ozone_aqi_val   1057 non-null   float64\n",
      " 7   pm10_mean       1050 non-null   float64\n",
      " 8   pm10_aqi_val    1050 non-null   float64\n",
      " 9   pm2.5_mean      980 non-null    float64\n",
      " 10  pm2.5_aqi_val   980 non-null    float64\n",
      " 11  so2_max         1073 non-null   float64\n",
      " 12  so2_aqi_val     1073 non-null   float64\n",
      " 13  cumulative_aqi  1093 non-null   int64  \n",
      " 14  temp_high       1093 non-null   int64  \n",
      " 15  temp_low        1093 non-null   int64  \n",
      " 16  temp_avg        1093 non-null   float64\n",
      " 17  month           1093 non-null   int64  \n",
      " 18  weekday         1093 non-null   int64  \n",
      "dtypes: float64(13), int64(5), object(1)\n",
      "memory usage: 162.4+ KB\n"
     ]
    }
   ],
   "source": [
    "df.info()"
   ]
  },
  {
   "cell_type": "code",
   "execution_count": 12,
   "metadata": {},
   "outputs": [],
   "source": [
    "df[\"weekday\"] = df[\"weekday\"].astype(\"category\")"
   ]
  },
  {
   "cell_type": "code",
   "execution_count": 13,
   "metadata": {},
   "outputs": [],
   "source": [
    "df[\"month\"] = df[\"month\"].astype(\"category\")"
   ]
  },
  {
   "cell_type": "code",
   "execution_count": 14,
   "metadata": {},
   "outputs": [],
   "source": [
    "df['date'] = pd.to_datetime(df['date'])"
   ]
  },
  {
   "cell_type": "code",
   "execution_count": 15,
   "metadata": {},
   "outputs": [
    {
     "ename": "KeyError",
     "evalue": "\"['pct_change_aqi'] not found in axis\"",
     "output_type": "error",
     "traceback": [
      "\u001b[1;31m---------------------------------------------------------------------------\u001b[0m",
      "\u001b[1;31mKeyError\u001b[0m                                  Traceback (most recent call last)",
      "\u001b[1;32m<ipython-input-15-fd484d7f30f7>\u001b[0m in \u001b[0;36m<module>\u001b[1;34m\u001b[0m\n\u001b[1;32m----> 1\u001b[1;33m \u001b[0mdf\u001b[0m\u001b[1;33m.\u001b[0m\u001b[0mdrop\u001b[0m\u001b[1;33m(\u001b[0m\u001b[1;34m'pct_change_aqi'\u001b[0m\u001b[1;33m,\u001b[0m \u001b[0maxis\u001b[0m \u001b[1;33m=\u001b[0m \u001b[1;36m1\u001b[0m\u001b[1;33m,\u001b[0m \u001b[0minplace\u001b[0m \u001b[1;33m=\u001b[0m \u001b[1;32mTrue\u001b[0m\u001b[1;33m)\u001b[0m\u001b[1;33m\u001b[0m\u001b[1;33m\u001b[0m\u001b[0m\n\u001b[0m",
      "\u001b[1;32mC:\\ProgramData\\Anaconda3\\lib\\site-packages\\pandas\\core\\frame.py\u001b[0m in \u001b[0;36mdrop\u001b[1;34m(self, labels, axis, index, columns, level, inplace, errors)\u001b[0m\n\u001b[0;32m   4306\u001b[0m                 \u001b[0mweight\u001b[0m  \u001b[1;36m1.0\u001b[0m     \u001b[1;36m0.8\u001b[0m\u001b[1;33m\u001b[0m\u001b[1;33m\u001b[0m\u001b[0m\n\u001b[0;32m   4307\u001b[0m         \"\"\"\n\u001b[1;32m-> 4308\u001b[1;33m         return super().drop(\n\u001b[0m\u001b[0;32m   4309\u001b[0m             \u001b[0mlabels\u001b[0m\u001b[1;33m=\u001b[0m\u001b[0mlabels\u001b[0m\u001b[1;33m,\u001b[0m\u001b[1;33m\u001b[0m\u001b[1;33m\u001b[0m\u001b[0m\n\u001b[0;32m   4310\u001b[0m             \u001b[0maxis\u001b[0m\u001b[1;33m=\u001b[0m\u001b[0maxis\u001b[0m\u001b[1;33m,\u001b[0m\u001b[1;33m\u001b[0m\u001b[1;33m\u001b[0m\u001b[0m\n",
      "\u001b[1;32mC:\\ProgramData\\Anaconda3\\lib\\site-packages\\pandas\\core\\generic.py\u001b[0m in \u001b[0;36mdrop\u001b[1;34m(self, labels, axis, index, columns, level, inplace, errors)\u001b[0m\n\u001b[0;32m   4151\u001b[0m         \u001b[1;32mfor\u001b[0m \u001b[0maxis\u001b[0m\u001b[1;33m,\u001b[0m \u001b[0mlabels\u001b[0m \u001b[1;32min\u001b[0m \u001b[0maxes\u001b[0m\u001b[1;33m.\u001b[0m\u001b[0mitems\u001b[0m\u001b[1;33m(\u001b[0m\u001b[1;33m)\u001b[0m\u001b[1;33m:\u001b[0m\u001b[1;33m\u001b[0m\u001b[1;33m\u001b[0m\u001b[0m\n\u001b[0;32m   4152\u001b[0m             \u001b[1;32mif\u001b[0m \u001b[0mlabels\u001b[0m \u001b[1;32mis\u001b[0m \u001b[1;32mnot\u001b[0m \u001b[1;32mNone\u001b[0m\u001b[1;33m:\u001b[0m\u001b[1;33m\u001b[0m\u001b[1;33m\u001b[0m\u001b[0m\n\u001b[1;32m-> 4153\u001b[1;33m                 \u001b[0mobj\u001b[0m \u001b[1;33m=\u001b[0m \u001b[0mobj\u001b[0m\u001b[1;33m.\u001b[0m\u001b[0m_drop_axis\u001b[0m\u001b[1;33m(\u001b[0m\u001b[0mlabels\u001b[0m\u001b[1;33m,\u001b[0m \u001b[0maxis\u001b[0m\u001b[1;33m,\u001b[0m \u001b[0mlevel\u001b[0m\u001b[1;33m=\u001b[0m\u001b[0mlevel\u001b[0m\u001b[1;33m,\u001b[0m \u001b[0merrors\u001b[0m\u001b[1;33m=\u001b[0m\u001b[0merrors\u001b[0m\u001b[1;33m)\u001b[0m\u001b[1;33m\u001b[0m\u001b[1;33m\u001b[0m\u001b[0m\n\u001b[0m\u001b[0;32m   4154\u001b[0m \u001b[1;33m\u001b[0m\u001b[0m\n\u001b[0;32m   4155\u001b[0m         \u001b[1;32mif\u001b[0m \u001b[0minplace\u001b[0m\u001b[1;33m:\u001b[0m\u001b[1;33m\u001b[0m\u001b[1;33m\u001b[0m\u001b[0m\n",
      "\u001b[1;32mC:\\ProgramData\\Anaconda3\\lib\\site-packages\\pandas\\core\\generic.py\u001b[0m in \u001b[0;36m_drop_axis\u001b[1;34m(self, labels, axis, level, errors)\u001b[0m\n\u001b[0;32m   4186\u001b[0m                 \u001b[0mnew_axis\u001b[0m \u001b[1;33m=\u001b[0m \u001b[0maxis\u001b[0m\u001b[1;33m.\u001b[0m\u001b[0mdrop\u001b[0m\u001b[1;33m(\u001b[0m\u001b[0mlabels\u001b[0m\u001b[1;33m,\u001b[0m \u001b[0mlevel\u001b[0m\u001b[1;33m=\u001b[0m\u001b[0mlevel\u001b[0m\u001b[1;33m,\u001b[0m \u001b[0merrors\u001b[0m\u001b[1;33m=\u001b[0m\u001b[0merrors\u001b[0m\u001b[1;33m)\u001b[0m\u001b[1;33m\u001b[0m\u001b[1;33m\u001b[0m\u001b[0m\n\u001b[0;32m   4187\u001b[0m             \u001b[1;32melse\u001b[0m\u001b[1;33m:\u001b[0m\u001b[1;33m\u001b[0m\u001b[1;33m\u001b[0m\u001b[0m\n\u001b[1;32m-> 4188\u001b[1;33m                 \u001b[0mnew_axis\u001b[0m \u001b[1;33m=\u001b[0m \u001b[0maxis\u001b[0m\u001b[1;33m.\u001b[0m\u001b[0mdrop\u001b[0m\u001b[1;33m(\u001b[0m\u001b[0mlabels\u001b[0m\u001b[1;33m,\u001b[0m \u001b[0merrors\u001b[0m\u001b[1;33m=\u001b[0m\u001b[0merrors\u001b[0m\u001b[1;33m)\u001b[0m\u001b[1;33m\u001b[0m\u001b[1;33m\u001b[0m\u001b[0m\n\u001b[0m\u001b[0;32m   4189\u001b[0m             \u001b[0mresult\u001b[0m \u001b[1;33m=\u001b[0m \u001b[0mself\u001b[0m\u001b[1;33m.\u001b[0m\u001b[0mreindex\u001b[0m\u001b[1;33m(\u001b[0m\u001b[1;33m**\u001b[0m\u001b[1;33m{\u001b[0m\u001b[0maxis_name\u001b[0m\u001b[1;33m:\u001b[0m \u001b[0mnew_axis\u001b[0m\u001b[1;33m}\u001b[0m\u001b[1;33m)\u001b[0m\u001b[1;33m\u001b[0m\u001b[1;33m\u001b[0m\u001b[0m\n\u001b[0;32m   4190\u001b[0m \u001b[1;33m\u001b[0m\u001b[0m\n",
      "\u001b[1;32mC:\\ProgramData\\Anaconda3\\lib\\site-packages\\pandas\\core\\indexes\\base.py\u001b[0m in \u001b[0;36mdrop\u001b[1;34m(self, labels, errors)\u001b[0m\n\u001b[0;32m   5589\u001b[0m         \u001b[1;32mif\u001b[0m \u001b[0mmask\u001b[0m\u001b[1;33m.\u001b[0m\u001b[0many\u001b[0m\u001b[1;33m(\u001b[0m\u001b[1;33m)\u001b[0m\u001b[1;33m:\u001b[0m\u001b[1;33m\u001b[0m\u001b[1;33m\u001b[0m\u001b[0m\n\u001b[0;32m   5590\u001b[0m             \u001b[1;32mif\u001b[0m \u001b[0merrors\u001b[0m \u001b[1;33m!=\u001b[0m \u001b[1;34m\"ignore\"\u001b[0m\u001b[1;33m:\u001b[0m\u001b[1;33m\u001b[0m\u001b[1;33m\u001b[0m\u001b[0m\n\u001b[1;32m-> 5591\u001b[1;33m                 \u001b[1;32mraise\u001b[0m \u001b[0mKeyError\u001b[0m\u001b[1;33m(\u001b[0m\u001b[1;34mf\"{labels[mask]} not found in axis\"\u001b[0m\u001b[1;33m)\u001b[0m\u001b[1;33m\u001b[0m\u001b[1;33m\u001b[0m\u001b[0m\n\u001b[0m\u001b[0;32m   5592\u001b[0m             \u001b[0mindexer\u001b[0m \u001b[1;33m=\u001b[0m \u001b[0mindexer\u001b[0m\u001b[1;33m[\u001b[0m\u001b[1;33m~\u001b[0m\u001b[0mmask\u001b[0m\u001b[1;33m]\u001b[0m\u001b[1;33m\u001b[0m\u001b[1;33m\u001b[0m\u001b[0m\n\u001b[0;32m   5593\u001b[0m         \u001b[1;32mreturn\u001b[0m \u001b[0mself\u001b[0m\u001b[1;33m.\u001b[0m\u001b[0mdelete\u001b[0m\u001b[1;33m(\u001b[0m\u001b[0mindexer\u001b[0m\u001b[1;33m)\u001b[0m\u001b[1;33m\u001b[0m\u001b[1;33m\u001b[0m\u001b[0m\n",
      "\u001b[1;31mKeyError\u001b[0m: \"['pct_change_aqi'] not found in axis\""
     ]
    }
   ],
   "source": [
    "df.drop('pct_change_aqi', axis = 1, inplace = True)"
   ]
  },
  {
   "cell_type": "code",
   "execution_count": null,
   "metadata": {},
   "outputs": [],
   "source": [
    "df.info()"
   ]
  },
  {
   "cell_type": "code",
   "execution_count": null,
   "metadata": {},
   "outputs": [],
   "source": [
    "df.set_index('date', inplace = True)"
   ]
  },
  {
   "cell_type": "code",
   "execution_count": null,
   "metadata": {},
   "outputs": [],
   "source": [
    "df.describe().T"
   ]
  },
  {
   "cell_type": "markdown",
   "metadata": {},
   "source": [
    "Mean of cumulative AQI is 43.040256 showing that on average the levels are not in dangerous zones but are near the moderate zone. The max is 115 which is considered unhealthy for sensitive groups and 50% of the daily cumulative AQI data is between 32 and 52 showing that 50% of the cumulative daily readings are nearing the moderate zone. "
   ]
  },
  {
   "cell_type": "code",
   "execution_count": null,
   "metadata": {},
   "outputs": [],
   "source": [
    "df.isna().sum()"
   ]
  },
  {
   "cell_type": "markdown",
   "metadata": {},
   "source": [
    "### Heatmap\n",
    "[(back to top)](#EDA-and-Data-Visualizations)"
   ]
  },
  {
   "cell_type": "code",
   "execution_count": null,
   "metadata": {},
   "outputs": [],
   "source": [
    "plt.figure(figsize=(15,15)) \n",
    "mask = np.zeros_like(df.corr())\n",
    "mask[np.triu_indices_from(mask)] = True\n",
    "sns.heatmap(df.corr(), annot = True, mask = mask, square = True);"
   ]
  },
  {
   "cell_type": "markdown",
   "metadata": {},
   "source": [
    "##### Correlation\n",
    "\n",
    "- pm 2.5 mean and pm 2.5 aqi are highly correlated with cumulative aqi\n",
    "\n",
    "- there is multicolinearity seen between aqi readings and pollutant measurement values which is to be expected since the aqi values are scored based from the pollutant measurement\n",
    "\n",
    "- there is also multicolinearity between temperature values which is to expected has well since when we have lower average temperature then the low temperature of the day and the high temperature of the day will all be related. "
   ]
  },
  {
   "cell_type": "markdown",
   "metadata": {},
   "source": [
    "### Pairplot\n",
    "[(back to top)](#EDA-and-Data-Visualizations)"
   ]
  },
  {
   "cell_type": "code",
   "execution_count": null,
   "metadata": {},
   "outputs": [],
   "source": [
    "sns.pairplot(data = df, corner = True)"
   ]
  },
  {
   "cell_type": "markdown",
   "metadata": {},
   "source": [
    "### Visualizations Exploring Temperature and Pollutants \n",
    "[(back to top)](#EDA-and-Data-Visualizations)"
   ]
  },
  {
   "cell_type": "code",
   "execution_count": null,
   "metadata": {},
   "outputs": [],
   "source": [
    "fig, ax = plt.subplots(nrows=1,ncols=2,figsize=(13,7))\n",
    "\n",
    "sns.scatterplot(x = 'pm2.5_aqi_val', y = 'cumulative_aqi' , hue = 'temp_high', data = df, ax=ax[0]).set(\n",
    "    title=\"PM 2.5 Daily AQI Value vs Cumulative Daily AQI \\n with Relation to Daily High Temperature\",\n",
    "    xlabel='PM 2.5 AQI Value', \n",
    "    ylabel='Cumulative Daily AQI')\n",
    "\n",
    "\n",
    "sns.scatterplot(x = 'pm2.5_mean', y = 'cumulative_aqi' , hue = 'temp_high', data = df, ax=ax[1]).set(\n",
    "    title=\"PM 2.5 Mean Daily Value vs Cumulative Daily AQI \\n with Relation to Daily High Temperature\", \n",
    "    xlabel='PM 2.5 Mean Value', \n",
    "    ylabel='Cumulative Daily AQI', \n",
    "    label = 'High Temp');\n"
   ]
  },
  {
   "cell_type": "markdown",
   "metadata": {},
   "source": [
    "This graphs shows that at times there is a direct correlation with cumulative daily aqi and pm 2.5 daily aqi value showing that on these days pm 2.5 is usually the highest pollutant aqi value on that day. This shows that pm 2.5 has a strong relationship with influencing total AQI value. We can also see as temperature is getting warmer there is a slight association with increase AQI and very high temperatures."
   ]
  },
  {
   "cell_type": "code",
   "execution_count": null,
   "metadata": {},
   "outputs": [],
   "source": [
    "fig, ax = plt.subplots(nrows=1,ncols=2,figsize=(13,7))\n",
    "\n",
    "sns.scatterplot(x = 'ozone_aqi_val', y = 'cumulative_aqi' , hue = 'temp_high', data = df, ax=ax[0]).set(\n",
    "    title=\"Ozone Daily AQI Value vs Cumulative Daily AQI \\n with Relation to Daily High Temperature\", \n",
    "    xlabel='Ozone AQI Value', \n",
    "    ylabel='Cumulative Daily AQI')\n",
    "\n",
    "\n",
    "sns.scatterplot(x = 'ozone_max', y = 'cumulative_aqi' , hue = 'temp_high', data = df, ax=ax[1]).set(\n",
    "    title=\"Ozone Max Daily Value vs Cumulative Daily AQI \\n with Relation to Daily High Temperature\",\n",
    "    xlabel='Ozone Max Value', \n",
    "    ylabel='Cumulative Daily AQI', \n",
    "    label = 'High Temp');\n"
   ]
  },
  {
   "cell_type": "markdown",
   "metadata": {},
   "source": [
    "We can also see a relationship between cumulative Daily AQI and Ozone AQI readings. As Ozone readings get to very high values, they are more likely to be the highest daily AQI reading compared to other pollutants. There is also a relationship with increasing temperature and higher AQI/ Ozone AQI and values. "
   ]
  },
  {
   "cell_type": "markdown",
   "metadata": {},
   "source": [
    "### Visualization Exploring Cumulative AQI Regarding Time\n",
    "[(back to top)](#EDA-and-Data-Visualizations)"
   ]
  },
  {
   "cell_type": "code",
   "execution_count": null,
   "metadata": {},
   "outputs": [],
   "source": [
    "sns.histplot(x = 'cumulative_aqi', data = df).set(\n",
    "    title=\"Distribution of Daily Cumulative AQI Readings\",\n",
    "    xlabel='Cumulative Daily AQI Readings');"
   ]
  },
  {
   "cell_type": "markdown",
   "metadata": {},
   "source": [
    "We can see that most the  daily AQI values are around 40 and the distribution is skewed to the right indicating that the are fewer dangerous level but there are still daily levels reaching past 100 "
   ]
  },
  {
   "cell_type": "code",
   "execution_count": null,
   "metadata": {},
   "outputs": [],
   "source": [
    "df['cumulative_aqi'].resample('m').mean().plot(figsize=(12, 4), title='2017-2019 Average Monthly Cumulative AQI in Cleveland, OH');\n",
    "plt.xlabel('Date', fontsize = 10);"
   ]
  },
  {
   "cell_type": "markdown",
   "metadata": {},
   "source": [
    "From the above chart, we can see that there was a low average monthly AQI level in Nov 2017. There was another low averaye monthly AQI in Oct 2018 and Oct 2019. However, there are spikes in average monthly AQI in May 2018, Dec 2018, and July 2019."
   ]
  },
  {
   "cell_type": "code",
   "execution_count": null,
   "metadata": {},
   "outputs": [],
   "source": [
    "high_mask = df['temp_avg'] > 75\n",
    "\n",
    "high_temp_df = df[high_mask]\n",
    "\n",
    "low_mask = df['temp_avg'] < 75\n",
    "\n",
    "low_temp_df = df[low_mask]"
   ]
  },
  {
   "cell_type": "code",
   "execution_count": null,
   "metadata": {},
   "outputs": [],
   "source": [
    "plt.figure(figsize=(12,8))\n",
    "plt.title('2017-2019 Monthly Average Cumulative AQI in Cleveland in Relation to Average Daily Temperature')\n",
    "high_temp_df['cumulative_aqi'].rolling(window=30).mean().plot(label = \"Temp in F Greater than 75\");\n",
    "low_temp_df['cumulative_aqi'].rolling(window=30).mean().plot(label = \"Temp in F Lower than 75\");\n",
    "plt.legend(loc='best');\n",
    "plt.xlabel('Date', fontsize = 13)\n",
    "plt.ylabel('Monthly Average AQI Level', fontsize = 13);"
   ]
  },
  {
   "cell_type": "markdown",
   "metadata": {},
   "source": [
    "From this chart, we can see that there usually higher temperature is associated with higher average AQI readings. However between 1-2019 and 5-2019 lower average temperatures were associated with higher AQI readings. "
   ]
  },
  {
   "cell_type": "code",
   "execution_count": null,
   "metadata": {},
   "outputs": [],
   "source": [
    "df_2017 = df.loc['2017']"
   ]
  },
  {
   "cell_type": "code",
   "execution_count": null,
   "metadata": {},
   "outputs": [],
   "source": [
    "df_2018 = df.loc['2018']"
   ]
  },
  {
   "cell_type": "code",
   "execution_count": null,
   "metadata": {},
   "outputs": [],
   "source": [
    "df_2019 = df.loc['2019']"
   ]
  },
  {
   "cell_type": "code",
   "execution_count": null,
   "metadata": {},
   "outputs": [],
   "source": [
    "df_2017[['co_aqi_val','no2_aqi_val', \n",
    "         'ozone_aqi_val', 'pm10_aqi_val', \n",
    "         'pm2.5_aqi_val', \n",
    "         'so2_aqi_val' ]].resample('m').mean().plot(figsize=(12, 4), \n",
    "            title = '2017 Monthly Mean AQI Level Per Pollutant', xlabel = 'Month');"
   ]
  },
  {
   "cell_type": "markdown",
   "metadata": {},
   "source": [
    "The above chart shows for 2017 ozone AQI levels were the highest consitently over the year compared to other pollutants"
   ]
  },
  {
   "cell_type": "code",
   "execution_count": null,
   "metadata": {},
   "outputs": [],
   "source": [
    "df_2018[['co_aqi_val','no2_aqi_val', 'ozone_aqi_val', \n",
    "         'pm10_aqi_val', 'pm2.5_aqi_val', \n",
    "         'so2_aqi_val' ]].resample('m').mean().plot(figsize=(12, 4), title = '2018 Monthly Mean AQI Level Per Pollutant', xlabel = 'Month');"
   ]
  },
  {
   "cell_type": "markdown",
   "metadata": {},
   "source": [
    "The above chart shows that ozone and pm 2.5 showed the highest average monthly AQI readings over 2018"
   ]
  },
  {
   "cell_type": "code",
   "execution_count": null,
   "metadata": {},
   "outputs": [],
   "source": [
    "df_2019[['co_aqi_val','no2_aqi_val', 'ozone_aqi_val', 'pm10_aqi_val', 'pm2.5_aqi_val', 'so2_aqi_val' ]].resample('m').mean().plot(figsize=(12, 4), title = '2019 Monthly Mean AQI Level Per Pollutant', xlabel = 'Month');"
   ]
  },
  {
   "cell_type": "markdown",
   "metadata": {},
   "source": [
    "The above chart shows that we are noticing even more prevalence of pm 2.5 reaching highest monthly average AQI levels. Ozone also reaching high average monthly AQI levels compared to other pollutants. "
   ]
  },
  {
   "cell_type": "code",
   "execution_count": null,
   "metadata": {},
   "outputs": [],
   "source": [
    "df[['co_aqi_val','no2_aqi_val', \n",
    "         'ozone_aqi_val', 'pm10_aqi_val', \n",
    "         'pm2.5_aqi_val', \n",
    "         'so2_aqi_val']].resample('q').mean().plot(figsize=(13, 6), \n",
    "            title = 'Quartly Mean Cumulative AQI Level Per Pollutant', xlabel = 'Quarter of a Year', ylabel = 'Mean Cumulative AQI');"
   ]
  },
  {
   "cell_type": "markdown",
   "metadata": {},
   "source": [
    "pm 2.5 AQI and ozone aqi consistently show strong relationship to high overall AQI readings."
   ]
  },
  {
   "cell_type": "code",
   "execution_count": null,
   "metadata": {},
   "outputs": [],
   "source": [
    "df['pm2.5_aqi_val'].resample('m').mean().plot(figsize=(12, 4), \n",
    "            title = '2017-2019 Monthly Mean AQI Level for PM 2.5 Pollutant', xlabel = 'Month');"
   ]
  },
  {
   "cell_type": "markdown",
   "metadata": {},
   "source": [
    "From the above graph we can see that as the years progress, PM 2.5 AQI levels are increasing"
   ]
  },
  {
   "cell_type": "code",
   "execution_count": null,
   "metadata": {},
   "outputs": [],
   "source": []
  }
 ],
 "metadata": {
  "kernelspec": {
   "display_name": "Python 3",
   "language": "python",
   "name": "python3"
  },
  "language_info": {
   "codemirror_mode": {
    "name": "ipython",
    "version": 3
   },
   "file_extension": ".py",
   "mimetype": "text/x-python",
   "name": "python",
   "nbconvert_exporter": "python",
   "pygments_lexer": "ipython3",
   "version": "3.8.5"
  }
 },
 "nbformat": 4,
 "nbformat_minor": 4
}
