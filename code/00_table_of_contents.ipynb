{
 "cells": [
  {
   "cell_type": "markdown",
   "id": "numerical-video",
   "metadata": {},
   "source": [
    "# Table of Contents"
   ]
  },
  {
   "cell_type": "markdown",
   "id": "incident-biodiversity",
   "metadata": {
    "tags": []
   },
   "source": [
    "[01 - Cleaning](01_cleaning.ipynb)<br />\n",
    "\n",
    "Cleaning process for our data. Please note that some features were added or removed after the EDA process.\n",
    "\n",
    " - Import for Cleaning <br/>\n",
    " - Inspecting before Cleaning <br/>\n",
    " - Getting similar Data <br/>\n",
    " - More Data <br/>\n",
    " - Cleaning Functions <br/>\n",
    " - Merge Clean Data <br/>\n",
    " - More Data to Import <br/>\n",
    " - More Data to Merge <br/>\n",
    " - Putting the years together <br/>\n",
    " - Add Percent Change Column <br/>\n",
    " - Rename Columns <br/>\n",
    " - Export Clean Data <br/>\n"
   ]
  },
  {
   "cell_type": "markdown",
   "id": "brilliant-wright",
   "metadata": {
    "tags": []
   },
   "source": [
    "[02 - EDA](02_eda.ipynb)<br />\n",
    " - Overview and Import <br />\n",
    " - Features <br />\n",
    " - Train Test Split <br />\n",
    " - Another Regression Model <br />\n",
    " - Predictions <br />\n",
    " - Data Dictionary <br />\n",
    "\n"
   ]
  },
  {
   "cell_type": "markdown",
   "id": "gothic-crowd",
   "metadata": {},
   "source": [
    "[03 - EDA Visualizations](03_eda_visualizations.ipynb)<br />\n",
    " - Exploring Data on CDC Website Related to Asthma <br />\n",
    " - Find the US Cities with Highest Number of Adults with Asthma in 2017 <br />\n",
    " - EDA of AQI and Temperature Data <br />\n",
    " - Heatmap <br />\n",
    " - Pairplot <br />\n",
    " - Visualizations Exploring Temperature and Pollutants <br />\n",
    " - Visualization Exploring Cumulative AQI Regarding Time <br />\n",
    "\n"
   ]
  },
  {
   "cell_type": "markdown",
   "id": "prescription-remedy",
   "metadata": {},
   "source": [
    "[04 - Modelling with Regression](04_modelling_with_regression.ipynb)<br />\n",
    " - Import and Set up Data <br />\n",
    " - Null Model <br />\n",
    " - Model 1: Linear Regression <br />\n",
    " - Model 2: Linear Regression with RFE <br />\n",
    " - Model 3: RFE and Ridge <br />\n",
    " - Model 4: Lasso with RFE <br />\n",
    " - Model 5: ElasticNet with RFE <br />\n",
    " - Model 6: Linear Regression with Limited Features <br />\n",
    " - Model 7: Elastic Net with Limited Features <br />\n",
    " - Model 8: Lasso with Limited Features <br />\n",
    " - Model 9: Ridge with Limited Features <br />\n",
    " - Model 10: KNN Regressor <br />\n",
    " - Model 11: Simple Neural Networks <br />\n",
    " - Model 12: Best Model: Neural Networks adding Layers and Early Stopping <br />\n",
    " - Model 13: Decision Tree Regressor <br />\n"
   ]
  },
  {
   "cell_type": "markdown",
   "id": "comprehensive-chassis",
   "metadata": {},
   "source": [
    "[05 - Modelling with Time-Series](05_modelling_with_time_series.ipynb)<br />\n",
    " - Import for Time Series Models\n",
    " - Set X and y and TTS <br />\n",
    " - Plot Data and Null Model <br />\n",
    " - Model by Months <br />\n",
    "   - Seasonal Model by Months <br />\n",
    "   - SARIMA by Months <br />\n",
    "   - Holt-Winters, Auto by Months <br />\n",
    "   - Holt-Winters, Manual by Months <br />\n",
    "   - Ensemble Forecasts by Months <br />\n",
    " - Model by Weeks <br />\n",
    "   - Seasonal Model by Weeks <br />\n",
    "   - SARIMA by Weeks <br />\n",
    "   - Holt-Winters, Auto by Weeks <br />\n",
    "   - Holt-Winters, Manual by Weeks <br />\n",
    "   - Ensemble Forecasts, by Weeks <br />\n",
    " - Save Time Series Model <br />\n"
   ]
  },
  {
   "cell_type": "markdown",
   "id": "julian-palmer",
   "metadata": {},
   "source": [
    "[06 - Production Model](06_production_model.ipynb)<br />\n",
    " - Import for Neural Net <br />\n",
    " - Set Data Types <br />\n",
    " - Set X, y, and Preprocessing <br />\n",
    " - Create Neural Net <br />\n",
    " - Predictions and Analysis <br />\n",
    " - Plot Neural Net Results <br />\n",
    "\n"
   ]
  },
  {
   "cell_type": "markdown",
   "id": "personal-planning",
   "metadata": {},
   "source": [
    "[07 - Streamlit App](07_streamlit_app.ipynb) <br />\n",
    " - The Source Code <br />\n",
    " - The Application <br />\n"
   ]
  },
  {
   "cell_type": "markdown",
   "id": "assigned-emperor",
   "metadata": {},
   "source": [
    "[08 - Conclusion](08_conclusion.ipynb)<br />\n",
    " - Executive Summary <br/>\n",
    " - Conclusions and Recommendations <br/>\n",
    " - Limitations <br/>\n",
    " - Areas for Further Research and Study <br/>\n",
    "\n"
   ]
  },
  {
   "cell_type": "code",
   "execution_count": null,
   "id": "consolidated-germany",
   "metadata": {},
   "outputs": [],
   "source": []
  }
 ],
 "metadata": {
  "kernelspec": {
   "display_name": "Python 3",
   "language": "python",
   "name": "python3"
  },
  "language_info": {
   "codemirror_mode": {
    "name": "ipython",
    "version": 3
   },
   "file_extension": ".py",
   "mimetype": "text/x-python",
   "name": "python",
   "nbconvert_exporter": "python",
   "pygments_lexer": "ipython3",
   "version": "3.8.5"
  }
 },
 "nbformat": 4,
 "nbformat_minor": 5
}
