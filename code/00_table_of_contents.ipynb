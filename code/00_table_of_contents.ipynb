{
 "cells": [
  {
   "cell_type": "markdown",
   "id": "progressive-redhead",
   "metadata": {},
   "source": [
    "# Table of Contents"
   ]
  },
  {
   "cell_type": "markdown",
   "id": "perceived-cutting",
   "metadata": {
    "tags": []
   },
   "source": [
    "[01 - Cleaning](01_cleaning.ipynb)<br />\n",
    "\n",
    "Cleaning process for our data. Please note that some features were added in after the EDA process.\n",
    "\n",
    " - Import for Cleaning <br/>\n",
    " - Inspecting before Cleaning <br/>\n",
    " - Getting similar Data <br/>\n",
    " - More Data <br/>\n",
    " - Cleaning Functions <br/>\n",
    " - Merge Clean Data <br/>\n",
    " - More Data to Import <br/>\n",
    " - More Data to Merge <br/>\n",
    " - Putting the years together <br/>\n",
    " - Add Percent Change Column <br/>\n",
    " - Rename Columns <br/>\n",
    " - Export Clean Data <br/>\n"
   ]
  },
  {
   "cell_type": "markdown",
   "id": "tamil-editor",
   "metadata": {
    "tags": []
   },
   "source": [
    "[02 - EDA](02_eda.ipynb)<br />\n",
    " - Data Dictionary <br />\n",
    " - Features <br />\n",
    " - Feature Engineering <br />\n",
    "\n",
    "...etc."
   ]
  },
  {
   "cell_type": "markdown",
   "id": "advisory-marketplace",
   "metadata": {},
   "source": [
    "[03 - EDA Visualizations](03_eda_visualizations.ipynb)<br />\n",
    " - Exploring Data on CDC Website Related to Asthma <br />\n",
    " - Find the US Cities with Highest Number of Adults with Asthma in 2017 <br />\n",
    " - EDA of AQI and Temperature Data <br />\n",
    " - Heatmap <br />\n",
    " - Pairplot <br />\n",
    " - Visualizations Exploring Temperature and Pollutants <br />\n",
    " - Visualization Exploring Cumulative AQI Regarding Time <br />\n",
    "\n"
   ]
  },
  {
   "cell_type": "markdown",
   "id": "white-modeling",
   "metadata": {},
   "source": [
    "[04 - Modelling with Regression](04_modelling_with_regression.ipynb)<br />\n",
    " - Import and Set up Data <br />\n",
    " - Null Model <br />\n",
    " - Model 1: Linear Regression <br />\n",
    " - Model 2: Linear Regression with RFE <br />\n",
    " - Model 3: RFE and Ridge <br />\n",
    " - Model 4: Lasso with RFE <br />\n",
    " - Model 5: ElasticNet with RFE <br />\n",
    " - Model 6: Linear Regression with Limited Features <br />\n",
    " - Model 7: Elastic Net with Limited Features <br />\n",
    " - Model 8: Lasso with Limited Features <br />\n",
    " - Model 9: Ridge with Limited Features <br />\n",
    " - Model 10: KNN Regressor <br />\n",
    " - Model 11: Simple Neural Networks <br />\n",
    " - Model 12: Best Model: Neural Networks adding Layers and Early Stopping <br />\n",
    " - Model 13: Decision Tree Regressor <br />\n"
   ]
  },
  {
   "cell_type": "markdown",
   "id": "manual-monthly",
   "metadata": {},
   "source": [
    "[05 - Modelling with Time-Series](05_modelling_with_time_series.ipynb)<br />\n",
    " - Import for Time Series Models\n",
    " - Set X and y and TTS <br />\n",
    " - Plot Data and Null Model <br />\n",
    " - Model by Months <br />\n",
    "   - Seasonal Model by Months <br />\n",
    "   - SARIMA by Months <br />\n",
    "   - Holt-Winters, Auto by Months <br />\n",
    "   - Holt-Winters, Manual by Months <br />\n",
    "   - Ensemble Forecasts by Months <br />\n",
    " - Model by Weeks <br />\n",
    "   - Seasonal Model by Weeks <br />\n",
    "   - SARIMA by Weeks <br />\n",
    "   - Holt-Winters, Auto by Weeks <br />\n",
    "   - Holt-Winters, Manual by Weeks <br />\n",
    "   - Ensemble Forecasts, by Weeks <br />\n",
    " - Save Time Series Model <br />\n"
   ]
  },
  {
   "cell_type": "markdown",
   "id": "norwegian-rapid",
   "metadata": {},
   "source": [
    "[06 - Production Model](06_production_model.ipynb)<br />\n",
    " - Best Models <br />\n",
    " - Using Models in the real world <br />\n",
    "\n",
    "...etc."
   ]
  },
  {
   "cell_type": "markdown",
   "id": "handy-yeast",
   "metadata": {},
   "source": [
    "[07 - Streamlit App](07_streamlit_app.ipynb) <br />\n",
    " - Overview <br />\n",
    " - [The app.py File](../Streamlit/app.py) <br />\n",
    "\n",
    "...etc."
   ]
  },
  {
   "cell_type": "markdown",
   "id": "fitting-script",
   "metadata": {},
   "source": [
    "[08 - Conclusion](08_conclusion.ipynb)<br />\n",
    " - Conclusion <br/>\n",
    " - Analysis <br/>\n",
    " - Recommendations <br/>\n",
    " - Limitations <br/>\n",
    " - Areas for Further Research and Study <br/>\n",
    "\n",
    "...etc."
   ]
  },
  {
   "cell_type": "code",
   "execution_count": null,
   "id": "another-brooklyn",
   "metadata": {},
   "outputs": [],
   "source": []
  }
 ],
 "metadata": {
  "kernelspec": {
   "display_name": "Python 3",
   "language": "python",
   "name": "python3"
  },
  "language_info": {
   "codemirror_mode": {
    "name": "ipython",
    "version": 3
   },
   "file_extension": ".py",
   "mimetype": "text/x-python",
   "name": "python",
   "nbconvert_exporter": "python",
   "pygments_lexer": "ipython3",
   "version": "3.8.5"
  }
 },
 "nbformat": 4,
 "nbformat_minor": 5
}
