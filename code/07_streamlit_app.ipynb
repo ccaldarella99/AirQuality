{
 "cells": [
  {
   "cell_type": "markdown",
   "id": "included-exception",
   "metadata": {},
   "source": [
    "# Streamlit App"
   ]
  },
  {
   "cell_type": "markdown",
   "id": "lasting-paradise",
   "metadata": {},
   "source": [
    "### Contents\n",
    " - Stuff.."
   ]
  },
  {
   "cell_type": "markdown",
   "id": "collective-equation",
   "metadata": {},
   "source": [
    "## The application\n",
    "\n",
    "\n",
    "\n",
    "https://airquality-streamlit.herokuapp.com/\n"
   ]
  },
  {
   "cell_type": "code",
   "execution_count": null,
   "id": "instrumental-capacity",
   "metadata": {},
   "outputs": [],
   "source": []
  }
 ],
 "metadata": {
  "kernelspec": {
   "display_name": "Python 3",
   "language": "python",
   "name": "python3"
  },
  "language_info": {
   "codemirror_mode": {
    "name": "ipython",
    "version": 3
   },
   "file_extension": ".py",
   "mimetype": "text/x-python",
   "name": "python",
   "nbconvert_exporter": "python",
   "pygments_lexer": "ipython3",
   "version": "3.8.5"
  }
 },
 "nbformat": 4,
 "nbformat_minor": 5
}
