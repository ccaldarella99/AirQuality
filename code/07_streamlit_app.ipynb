{
 "cells": [
  {
   "cell_type": "markdown",
   "id": "funky-parameter",
   "metadata": {},
   "source": [
    "# Streamlit App"
   ]
  },
  {
   "cell_type": "markdown",
   "id": "threatened-thailand",
   "metadata": {},
   "source": [
    "### Contents\n",
    " - [The Source Code](#The-Source-Code)\n",
    " - [The Application](#The-Application)"
   ]
  },
  {
   "cell_type": "markdown",
   "id": "arbitrary-carroll",
   "metadata": {},
   "source": [
    "## The Source Code\n",
    "[(back to top)](#Streamlit-App)"
   ]
  },
  {
   "cell_type": "markdown",
   "id": "interstate-harrison",
   "metadata": {},
   "source": [
    "The source code of [app.py](../Streamlit/app.py) is located in the Streamlit directory of this repository.\n",
    "\n",
    "Using the Streamlit framework we were able to quickly create an app to show how different features can affect the Air Quality Index.\n",
    "\n",
    "Importing Keras and Tensorflow, we were able to create and app using Neural Networks, which tend to have small files for their models. Using this method also required importing Scaling and Imputing pre-processor libraries."
   ]
  },
  {
   "cell_type": "markdown",
   "id": "separate-arthur",
   "metadata": {},
   "source": [
    "## The Application\n",
    "[(back to top)](#Streamlit-App)"
   ]
  },
  {
   "cell_type": "markdown",
   "id": "tutorial-discussion",
   "metadata": {},
   "source": [
    "Here is a [link to the app](https://airquality-streamlit.herokuapp.com/)\n",
    "\n",
    "Although we opted for a smaller model file-size, with a smaller model file-sizes came other challenges.\n",
    "\n",
    "Our first challenge wasencountered when we first tried deploying the app via Streamlit. It seems that Streamlit does not support libraries such as Tensorflow. So we had to host the application a different way. \n",
    "\n",
    "We ended up deploying the app on Heroku, but that had it's own Tensflow difficulties: Tensorflow is a 500MB library, and Heroku only allows 500MB for hosting free applications. After much research I found that the solution was to implement a smaller version. I found the \"tensorflow-cpu\" libraray to be adequate (about 300MB) and I did not have to change any calls in the application.\n",
    "\n",
    "We also had some difficulty getting images to show, but the model and user input worked, so we were happy. While this did not turn out to be the best model, we think it can be a useful for analysis (but less likely to be useful for predictive data).\n",
    "\n",
    "Below is an image of the app.\n",
    "\n",
    "![](../images/streamlit_app.png)"
   ]
  },
  {
   "cell_type": "code",
   "execution_count": null,
   "id": "solar-quantity",
   "metadata": {},
   "outputs": [],
   "source": []
  }
 ],
 "metadata": {
  "kernelspec": {
   "display_name": "Python 3",
   "language": "python",
   "name": "python3"
  },
  "language_info": {
   "codemirror_mode": {
    "name": "ipython",
    "version": 3
   },
   "file_extension": ".py",
   "mimetype": "text/x-python",
   "name": "python",
   "nbconvert_exporter": "python",
   "pygments_lexer": "ipython3",
   "version": "3.8.5"
  }
 },
 "nbformat": 4,
 "nbformat_minor": 5
}
