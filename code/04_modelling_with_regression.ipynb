{
 "cells": [
  {
   "cell_type": "markdown",
   "metadata": {},
   "source": [
    "# Regression Modeling"
   ]
  },
  {
   "cell_type": "markdown",
   "metadata": {},
   "source": [
    "_by Anna Funsten_"
   ]
  },
  {
   "cell_type": "markdown",
   "metadata": {},
   "source": [
    "### Contents:\n",
    " - [Import and Set up Data](#Import-and-Set-up-Data)\n",
    " - [Null Model ](#Null-Model)\n",
    " - [Model 1: Linear Regression ](#Model_1:_Linear_Regression)\n",
    " - [Model 2: Linear Regression with RFE](#Model_2:_Linear_Regression_with_RFE)\n",
    " - [Model 3: RFE and Ridge](#Model_3:_RFE_and_Ridge)\n",
    " - [Model 4: Lasso with RFE](#Model_4:_Lasso_with_RFE)\n",
    " - [Model 5: ElasticNet with RFE](#Model_5:_ElasticNet_with_RFE)\n",
    " - [Model 6: Linear Regression with Limited Features](#Model_6:_Linear_Regression_with_Limited_Features)\n",
    " - [Model 7: Elastic Net with Limited Features](#Model_7:_Elastic_Net_with_Limited_Features)\n",
    " - [Model 8: Lasso with Limited Features ](#Model_8:_Lasso_with_Limited_Features)\n",
    " - [Model 9: Ridge with Limited Features](#Model_9:_Ridge_with_Limited_Features)\n",
    " - [Model 10: KNN Regressor](#Model_10:_KNN_Regressor)\n",
    " - [Model 11: Simple Neural Networks](#Model_11:_Simple_Neural_Networks)\n",
    " - [Model 12: Best Model: Neural Networks adding Layers and Early Stopping](#Model_12:_Best_Model:_Neural_Networks_adding_Layers_and_Early_Stopping)\n",
    " - [Model 13: Decision Tree Regressor](#Model_13:_Decision_Tree_Regressor)\n",
    " \n"
   ]
  },
  {
   "cell_type": "code",
   "execution_count": 1,
   "metadata": {},
   "outputs": [],
   "source": [
    "import pandas as pd\n",
    "import numpy as np\n",
    "import matplotlib.pyplot as plt\n",
    "%matplotlib inline\n",
    "import pickle\n",
    "from sklearn.impute import KNNImputer\n",
    "from sklearn.neighbors import KNeighborsRegressor\n",
    "from sklearn.model_selection import train_test_split, GridSearchCV, cross_val_score\n",
    "from sklearn.linear_model import LinearRegression, Ridge, Lasso, ElasticNet, RidgeCV, LassoCV, ElasticNetCV\n",
    "from sklearn.metrics import mean_squared_error, r2_score, mean_absolute_error \n",
    "from sklearn.impute import SimpleImputer\n",
    "from sklearn.preprocessing import StandardScaler, PolynomialFeatures \n",
    "from sklearn.feature_selection import RFE\n",
    "from sklearn.pipeline import make_pipeline\n",
    "from sklearn.compose import make_column_transformer, make_column_selector\n",
    "import tensorflow as tf\n",
    "from tensorflow.keras.models import Sequential\n",
    "from tensorflow.keras.layers import Dense, Dropout, BatchNormalization\n",
    "from tensorflow.keras.regularizers import l1, l2, l1_l2\n",
    "from tensorflow.keras.callbacks import EarlyStopping\n",
    "from sklearn.tree import DecisionTreeRegressor\n",
    "import seaborn as sns\n",
    "from sklearn.tree import plot_tree\n",
    "from sklearn.dummy import DummyRegressor"
   ]
  },
  {
   "cell_type": "markdown",
   "metadata": {},
   "source": [
    "## Import and Set up Data\n",
    "[(back to top)](#Regression-Modeling)"
   ]
  },
  {
   "cell_type": "code",
   "execution_count": 2,
   "metadata": {},
   "outputs": [],
   "source": [
    "df = pd.read_csv('../data/cleaned_aqi_and_temp_data_2017-2019.csv')"
   ]
  },
  {
   "cell_type": "code",
   "execution_count": 3,
   "metadata": {},
   "outputs": [
    {
     "name": "stdout",
     "output_type": "stream",
     "text": [
      "<class 'pandas.core.frame.DataFrame'>\n",
      "RangeIndex: 1093 entries, 0 to 1092\n",
      "Data columns (total 20 columns):\n",
      " #   Column          Non-Null Count  Dtype  \n",
      "---  ------          --------------  -----  \n",
      " 0   date            1093 non-null   object \n",
      " 1   co_max          1062 non-null   float64\n",
      " 2   co_aqi_val      1062 non-null   float64\n",
      " 3   no2_max         1038 non-null   float64\n",
      " 4   no2_aqi_val     1038 non-null   float64\n",
      " 5   ozone_max       1057 non-null   float64\n",
      " 6   ozone_aqi_val   1057 non-null   float64\n",
      " 7   pm10_mean       1050 non-null   float64\n",
      " 8   pm10_aqi_val    1050 non-null   float64\n",
      " 9   pm2.5_mean      980 non-null    float64\n",
      " 10  pm2.5_aqi_val   980 non-null    float64\n",
      " 11  so2_max         1073 non-null   float64\n",
      " 12  so2_aqi_val     1073 non-null   float64\n",
      " 13  cumulative_aqi  1093 non-null   float64\n",
      " 14  temp_high       1093 non-null   int64  \n",
      " 15  temp_low        1093 non-null   int64  \n",
      " 16  temp_avg        1093 non-null   float64\n",
      " 17  pct_change_aqi  1092 non-null   float64\n",
      " 18  month           1093 non-null   int64  \n",
      " 19  weekday         1093 non-null   int64  \n",
      "dtypes: float64(15), int64(4), object(1)\n",
      "memory usage: 170.9+ KB\n"
     ]
    }
   ],
   "source": [
    "df.info()"
   ]
  },
  {
   "cell_type": "code",
   "execution_count": 4,
   "metadata": {
    "tags": []
   },
   "outputs": [],
   "source": [
    "df[\"weekday\"] = df[\"weekday\"].astype(\"category\")\n",
    "\n",
    "df[\"month\"] = df[\"month\"].astype(\"category\")\n",
    "\n",
    "df['date'] = pd.to_datetime(df['date'])\n",
    "\n",
    "df.drop('pct_change_aqi', axis = 1, inplace = True)\n",
    "\n",
    "df.set_index('date', inplace = True)\n",
    "\n",
    "df.head()"
   ]
  },
  {
   "cell_type": "code",
   "execution_count": 10,
   "metadata": {},
   "outputs": [],
   "source": [
    "X = df.drop('cumulative_aqi', axis =1 )\n",
    "y = df['cumulative_aqi']"
   ]
  },
  {
   "cell_type": "code",
   "execution_count": 11,
   "metadata": {},
   "outputs": [],
   "source": [
    "X_train, X_test, y_train, y_test = train_test_split(X, y)"
   ]
  },
  {
   "cell_type": "code",
   "execution_count": 12,
   "metadata": {},
   "outputs": [],
   "source": [
    "def errors(y_true, y_pred):\n",
    "    rmse = mean_squared_error(y_true, y_pred, squared = False)\n",
    "    r2 = r2_score(y_true, y_pred)\n",
    "    mae = mean_absolute_error(y_true, y_pred)\n",
    "    return (f'root mean sqaured error is {rmse}, r squared is {r2}, and mean absolute error is {mae}')"
   ]
  },
  {
   "cell_type": "markdown",
   "metadata": {},
   "source": [
    "## Null Model \n",
    "[(back to top)](#Regression-Modeling)"
   ]
  },
  {
   "cell_type": "code",
   "execution_count": 13,
   "metadata": {},
   "outputs": [
    {
     "data": {
      "text/plain": [
       "-0.0010034478432814353"
      ]
     },
     "execution_count": 13,
     "metadata": {},
     "output_type": "execute_result"
    }
   ],
   "source": [
    "dr = DummyRegressor()\n",
    "dummy = dr.fit(X_train, y_train)\n",
    "dummy.score(X_test, y_test)"
   ]
  },
  {
   "cell_type": "code",
   "execution_count": 14,
   "metadata": {},
   "outputs": [],
   "source": [
    "null_preds = dummy.predict(X_test)"
   ]
  },
  {
   "cell_type": "code",
   "execution_count": 15,
   "metadata": {},
   "outputs": [
    {
     "data": {
      "text/plain": [
       "'root mean sqaured error is 16.30190016159435, r squared is -0.0010034478432814353, and mean absolute error is 12.967438482037021'"
      ]
     },
     "execution_count": 15,
     "metadata": {},
     "output_type": "execute_result"
    }
   ],
   "source": [
    "errors(y_test, null_preds)"
   ]
  },
  {
   "cell_type": "markdown",
   "metadata": {},
   "source": [
    "## Model 1: Linear Regression \n",
    "[(back to top)](#Regression-Modeling)"
   ]
  },
  {
   "cell_type": "code",
   "execution_count": 16,
   "metadata": {},
   "outputs": [],
   "source": [
    "pipe1 = make_pipeline(KNNImputer(), StandardScaler(), LinearRegression())"
   ]
  },
  {
   "cell_type": "code",
   "execution_count": 17,
   "metadata": {},
   "outputs": [
    {
     "data": {
      "text/plain": [
       "Pipeline(steps=[('knnimputer', KNNImputer()),\n",
       "                ('standardscaler', StandardScaler()),\n",
       "                ('linearregression', LinearRegression())])"
      ]
     },
     "execution_count": 17,
     "metadata": {},
     "output_type": "execute_result"
    }
   ],
   "source": [
    "pipe1.fit(X_train, y_train)"
   ]
  },
  {
   "cell_type": "code",
   "execution_count": 18,
   "metadata": {},
   "outputs": [
    {
     "data": {
      "text/plain": [
       "array([0.77883874, 0.84949753, 0.8118787 , 0.8930021 , 0.80329443])"
      ]
     },
     "execution_count": 18,
     "metadata": {},
     "output_type": "execute_result"
    }
   ],
   "source": [
    "cross_val_score(pipe1, X_train, y_train)"
   ]
  },
  {
   "cell_type": "code",
   "execution_count": 19,
   "metadata": {},
   "outputs": [],
   "source": [
    "predict1 = pipe1.predict(X_test)"
   ]
  },
  {
   "cell_type": "code",
   "execution_count": 20,
   "metadata": {},
   "outputs": [
    {
     "data": {
      "text/plain": [
       "'root mean sqaured error is 8.273884832259142, r squared is 0.7421435150091555, and mean absolute error is 5.113442409363419'"
      ]
     },
     "execution_count": 20,
     "metadata": {},
     "output_type": "execute_result"
    }
   ],
   "source": [
    "errors(y_test, predict1)"
   ]
  },
  {
   "cell_type": "code",
   "execution_count": 21,
   "metadata": {},
   "outputs": [
    {
     "data": {
      "text/html": [
       "<div>\n",
       "<style scoped>\n",
       "    .dataframe tbody tr th:only-of-type {\n",
       "        vertical-align: middle;\n",
       "    }\n",
       "\n",
       "    .dataframe tbody tr th {\n",
       "        vertical-align: top;\n",
       "    }\n",
       "\n",
       "    .dataframe thead th {\n",
       "        text-align: right;\n",
       "    }\n",
       "</style>\n",
       "<table border=\"1\" class=\"dataframe\">\n",
       "  <thead>\n",
       "    <tr style=\"text-align: right;\">\n",
       "      <th></th>\n",
       "      <th>name</th>\n",
       "      <th>coef</th>\n",
       "    </tr>\n",
       "  </thead>\n",
       "  <tbody>\n",
       "    <tr>\n",
       "      <th>10</th>\n",
       "      <td>so2_max</td>\n",
       "      <td>26.744533</td>\n",
       "    </tr>\n",
       "    <tr>\n",
       "      <th>8</th>\n",
       "      <td>pm2.5_mean</td>\n",
       "      <td>16.318176</td>\n",
       "    </tr>\n",
       "    <tr>\n",
       "      <th>5</th>\n",
       "      <td>ozone_aqi_val</td>\n",
       "      <td>12.807527</td>\n",
       "    </tr>\n",
       "    <tr>\n",
       "      <th>6</th>\n",
       "      <td>pm10_mean</td>\n",
       "      <td>7.397730</td>\n",
       "    </tr>\n",
       "    <tr>\n",
       "      <th>2</th>\n",
       "      <td>no2_max</td>\n",
       "      <td>2.758968</td>\n",
       "    </tr>\n",
       "    <tr>\n",
       "      <th>1</th>\n",
       "      <td>co_aqi_val</td>\n",
       "      <td>0.617038</td>\n",
       "    </tr>\n",
       "    <tr>\n",
       "      <th>16</th>\n",
       "      <td>weekday</td>\n",
       "      <td>0.463985</td>\n",
       "    </tr>\n",
       "    <tr>\n",
       "      <th>13</th>\n",
       "      <td>temp_low</td>\n",
       "      <td>0.408921</td>\n",
       "    </tr>\n",
       "    <tr>\n",
       "      <th>14</th>\n",
       "      <td>temp_avg</td>\n",
       "      <td>-0.253013</td>\n",
       "    </tr>\n",
       "    <tr>\n",
       "      <th>15</th>\n",
       "      <td>month</td>\n",
       "      <td>-0.699771</td>\n",
       "    </tr>\n",
       "    <tr>\n",
       "      <th>12</th>\n",
       "      <td>temp_high</td>\n",
       "      <td>-0.830079</td>\n",
       "    </tr>\n",
       "    <tr>\n",
       "      <th>0</th>\n",
       "      <td>co_max</td>\n",
       "      <td>-0.951108</td>\n",
       "    </tr>\n",
       "    <tr>\n",
       "      <th>3</th>\n",
       "      <td>no2_aqi_val</td>\n",
       "      <td>-2.330937</td>\n",
       "    </tr>\n",
       "    <tr>\n",
       "      <th>9</th>\n",
       "      <td>pm2.5_aqi_val</td>\n",
       "      <td>-4.759908</td>\n",
       "    </tr>\n",
       "    <tr>\n",
       "      <th>7</th>\n",
       "      <td>pm10_aqi_val</td>\n",
       "      <td>-6.968908</td>\n",
       "    </tr>\n",
       "    <tr>\n",
       "      <th>4</th>\n",
       "      <td>ozone_max</td>\n",
       "      <td>-8.256637</td>\n",
       "    </tr>\n",
       "    <tr>\n",
       "      <th>11</th>\n",
       "      <td>so2_aqi_val</td>\n",
       "      <td>-25.140889</td>\n",
       "    </tr>\n",
       "  </tbody>\n",
       "</table>\n",
       "</div>"
      ],
      "text/plain": [
       "             name       coef\n",
       "10        so2_max  26.744533\n",
       "8      pm2.5_mean  16.318176\n",
       "5   ozone_aqi_val  12.807527\n",
       "6       pm10_mean   7.397730\n",
       "2         no2_max   2.758968\n",
       "1      co_aqi_val   0.617038\n",
       "16        weekday   0.463985\n",
       "13       temp_low   0.408921\n",
       "14       temp_avg  -0.253013\n",
       "15          month  -0.699771\n",
       "12      temp_high  -0.830079\n",
       "0          co_max  -0.951108\n",
       "3     no2_aqi_val  -2.330937\n",
       "9   pm2.5_aqi_val  -4.759908\n",
       "7    pm10_aqi_val  -6.968908\n",
       "4       ozone_max  -8.256637\n",
       "11    so2_aqi_val -25.140889"
      ]
     },
     "execution_count": 21,
     "metadata": {},
     "output_type": "execute_result"
    }
   ],
   "source": [
    "coef = pipe1.named_steps['linearregression'].coef_\n",
    "\n",
    "name = X_train.columns\n",
    "\n",
    "importance = pd.DataFrame(zip(name, coef), columns=['name', 'coef']).sort_values(by='coef', ascending=False)\n",
    "importance"
   ]
  },
  {
   "cell_type": "markdown",
   "metadata": {},
   "source": [
    "## Model 2: Linear Regression with RFE\n",
    "[(back to top)](#Regression-Modeling)"
   ]
  },
  {
   "cell_type": "code",
   "execution_count": 22,
   "metadata": {},
   "outputs": [
    {
     "name": "stdout",
     "output_type": "stream",
     "text": [
      "0.8443830469560255\n",
      "0.7411360649926647\n"
     ]
    },
    {
     "data": {
      "text/plain": [
       "'root mean sqaured error is 8.290032185533205, r squared is 0.7411360649926647, and mean absolute error is 5.108872326146265'"
      ]
     },
     "execution_count": 22,
     "metadata": {},
     "output_type": "execute_result"
    }
   ],
   "source": [
    "pipe2 = make_pipeline(KNNImputer(),StandardScaler(), RFE(estimator=LinearRegression()), LinearRegression())\n",
    "params = {'rfe__n_features_to_select': [15, 10, 8, 5]}\n",
    "gs2 = GridSearchCV(pipe2, params, n_jobs=1)\n",
    "gs2.fit(X_train, y_train)\n",
    "print(gs2.score(X_train, y_train))\n",
    "print(gs2.score(X_test, y_test))\n",
    "predict2 = gs2.predict(X_test)\n",
    "errors(y_test, predict2)"
   ]
  },
  {
   "cell_type": "code",
   "execution_count": 23,
   "metadata": {},
   "outputs": [
    {
     "data": {
      "text/plain": [
       "{'rfe__n_features_to_select': 15}"
      ]
     },
     "execution_count": 23,
     "metadata": {},
     "output_type": "execute_result"
    }
   ],
   "source": [
    "gs2.best_params_"
   ]
  },
  {
   "cell_type": "code",
   "execution_count": 24,
   "metadata": {
    "tags": []
   },
   "outputs": [
    {
     "data": {
      "text/html": [
       "<div>\n",
       "<style scoped>\n",
       "    .dataframe tbody tr th:only-of-type {\n",
       "        vertical-align: middle;\n",
       "    }\n",
       "\n",
       "    .dataframe tbody tr th {\n",
       "        vertical-align: top;\n",
       "    }\n",
       "\n",
       "    .dataframe thead th {\n",
       "        text-align: right;\n",
       "    }\n",
       "</style>\n",
       "<table border=\"1\" class=\"dataframe\">\n",
       "  <thead>\n",
       "    <tr style=\"text-align: right;\">\n",
       "      <th></th>\n",
       "      <th>name</th>\n",
       "      <th>coef</th>\n",
       "    </tr>\n",
       "  </thead>\n",
       "  <tbody>\n",
       "    <tr>\n",
       "      <th>10</th>\n",
       "      <td>so2_max</td>\n",
       "      <td>26.908209</td>\n",
       "    </tr>\n",
       "    <tr>\n",
       "      <th>8</th>\n",
       "      <td>pm2.5_mean</td>\n",
       "      <td>16.324416</td>\n",
       "    </tr>\n",
       "    <tr>\n",
       "      <th>5</th>\n",
       "      <td>ozone_aqi_val</td>\n",
       "      <td>12.819200</td>\n",
       "    </tr>\n",
       "    <tr>\n",
       "      <th>6</th>\n",
       "      <td>pm10_mean</td>\n",
       "      <td>7.440145</td>\n",
       "    </tr>\n",
       "    <tr>\n",
       "      <th>2</th>\n",
       "      <td>no2_max</td>\n",
       "      <td>2.787315</td>\n",
       "    </tr>\n",
       "    <tr>\n",
       "      <th>1</th>\n",
       "      <td>co_aqi_val</td>\n",
       "      <td>0.586277</td>\n",
       "    </tr>\n",
       "    <tr>\n",
       "      <th>14</th>\n",
       "      <td>temp_avg</td>\n",
       "      <td>0.458875</td>\n",
       "    </tr>\n",
       "    <tr>\n",
       "      <th>12</th>\n",
       "      <td>temp_high</td>\n",
       "      <td>-0.682199</td>\n",
       "    </tr>\n",
       "    <tr>\n",
       "      <th>13</th>\n",
       "      <td>temp_low</td>\n",
       "      <td>-0.683036</td>\n",
       "    </tr>\n",
       "    <tr>\n",
       "      <th>0</th>\n",
       "      <td>co_max</td>\n",
       "      <td>-0.935702</td>\n",
       "    </tr>\n",
       "    <tr>\n",
       "      <th>3</th>\n",
       "      <td>no2_aqi_val</td>\n",
       "      <td>-2.376429</td>\n",
       "    </tr>\n",
       "    <tr>\n",
       "      <th>9</th>\n",
       "      <td>pm2.5_aqi_val</td>\n",
       "      <td>-4.760085</td>\n",
       "    </tr>\n",
       "    <tr>\n",
       "      <th>7</th>\n",
       "      <td>pm10_aqi_val</td>\n",
       "      <td>-7.026736</td>\n",
       "    </tr>\n",
       "    <tr>\n",
       "      <th>4</th>\n",
       "      <td>ozone_max</td>\n",
       "      <td>-8.271855</td>\n",
       "    </tr>\n",
       "    <tr>\n",
       "      <th>11</th>\n",
       "      <td>so2_aqi_val</td>\n",
       "      <td>-25.316082</td>\n",
       "    </tr>\n",
       "  </tbody>\n",
       "</table>\n",
       "</div>"
      ],
      "text/plain": [
       "             name       coef\n",
       "10        so2_max  26.908209\n",
       "8      pm2.5_mean  16.324416\n",
       "5   ozone_aqi_val  12.819200\n",
       "6       pm10_mean   7.440145\n",
       "2         no2_max   2.787315\n",
       "1      co_aqi_val   0.586277\n",
       "14       temp_avg   0.458875\n",
       "12      temp_high  -0.682199\n",
       "13       temp_low  -0.683036\n",
       "0          co_max  -0.935702\n",
       "3     no2_aqi_val  -2.376429\n",
       "9   pm2.5_aqi_val  -4.760085\n",
       "7    pm10_aqi_val  -7.026736\n",
       "4       ozone_max  -8.271855\n",
       "11    so2_aqi_val -25.316082"
      ]
     },
     "execution_count": 24,
     "metadata": {},
     "output_type": "execute_result"
    }
   ],
   "source": [
    "coef = gs2.best_estimator_['linearregression'].coef_\n",
    "name = X_train.columns\n",
    "importance = pd.DataFrame(zip(name, coef), columns=['name', 'coef']).sort_values(by='coef', ascending=False)\n",
    "importance"
   ]
  },
  {
   "cell_type": "markdown",
   "metadata": {},
   "source": [
    "## Model 3: RFE and Ridge \n",
    "[(back to top)](#Regression-Modeling)"
   ]
  },
  {
   "cell_type": "code",
   "execution_count": 25,
   "metadata": {
    "tags": []
   },
   "outputs": [
    {
     "name": "stdout",
     "output_type": "stream",
     "text": [
      "0.844311554940499\n",
      "0.7733280961955067\n",
      "root mean sqaured error is 7.757455419966234, r squared is 0.7733280961955067, and mean absolute error is 5.032271954725555\n"
     ]
    },
    {
     "data": {
      "text/plain": [
       "{'rfe__n_features_to_select': 17, 'ridge__alpha': 0.1}"
      ]
     },
     "execution_count": 25,
     "metadata": {},
     "output_type": "execute_result"
    }
   ],
   "source": [
    "pipe3 = make_pipeline(KNNImputer(),StandardScaler(), RFE(estimator=LinearRegression()), Ridge())\n",
    "params = {'rfe__n_features_to_select': [17, 15, 10, 8, 5],\n",
    "          'ridge__alpha': [.01, .1 ,1 ,10 ,100, 1000]}\n",
    "gs3 = GridSearchCV(pipe3, params, n_jobs=1)\n",
    "gs3.fit(X_train, y_train)\n",
    "print(gs3.score(X_train, y_train))\n",
    "print(gs3.score(X_test, y_test))\n",
    "predict3 = gs3.predict(X_test)\n",
    "print(errors(y_test, predict3))\n",
    "gs3.best_params_"
   ]
  },
  {
   "cell_type": "code",
   "execution_count": 26,
   "metadata": {},
   "outputs": [
    {
     "data": {
      "text/html": [
       "<div>\n",
       "<style scoped>\n",
       "    .dataframe tbody tr th:only-of-type {\n",
       "        vertical-align: middle;\n",
       "    }\n",
       "\n",
       "    .dataframe tbody tr th {\n",
       "        vertical-align: top;\n",
       "    }\n",
       "\n",
       "    .dataframe thead th {\n",
       "        text-align: right;\n",
       "    }\n",
       "</style>\n",
       "<table border=\"1\" class=\"dataframe\">\n",
       "  <thead>\n",
       "    <tr style=\"text-align: right;\">\n",
       "      <th></th>\n",
       "      <th>name</th>\n",
       "      <th>coef</th>\n",
       "    </tr>\n",
       "  </thead>\n",
       "  <tbody>\n",
       "    <tr>\n",
       "      <th>10</th>\n",
       "      <td>so2_max</td>\n",
       "      <td>22.768656</td>\n",
       "    </tr>\n",
       "    <tr>\n",
       "      <th>8</th>\n",
       "      <td>pm2.5_mean</td>\n",
       "      <td>16.262367</td>\n",
       "    </tr>\n",
       "    <tr>\n",
       "      <th>5</th>\n",
       "      <td>ozone_aqi_val</td>\n",
       "      <td>12.750437</td>\n",
       "    </tr>\n",
       "    <tr>\n",
       "      <th>6</th>\n",
       "      <td>pm10_mean</td>\n",
       "      <td>6.957920</td>\n",
       "    </tr>\n",
       "    <tr>\n",
       "      <th>2</th>\n",
       "      <td>no2_max</td>\n",
       "      <td>1.980383</td>\n",
       "    </tr>\n",
       "    <tr>\n",
       "      <th>1</th>\n",
       "      <td>co_aqi_val</td>\n",
       "      <td>0.604951</td>\n",
       "    </tr>\n",
       "    <tr>\n",
       "      <th>13</th>\n",
       "      <td>temp_low</td>\n",
       "      <td>0.449942</td>\n",
       "    </tr>\n",
       "    <tr>\n",
       "      <th>16</th>\n",
       "      <td>weekday</td>\n",
       "      <td>0.449480</td>\n",
       "    </tr>\n",
       "    <tr>\n",
       "      <th>14</th>\n",
       "      <td>temp_avg</td>\n",
       "      <td>-0.255853</td>\n",
       "    </tr>\n",
       "    <tr>\n",
       "      <th>15</th>\n",
       "      <td>month</td>\n",
       "      <td>-0.699570</td>\n",
       "    </tr>\n",
       "    <tr>\n",
       "      <th>12</th>\n",
       "      <td>temp_high</td>\n",
       "      <td>-0.871551</td>\n",
       "    </tr>\n",
       "    <tr>\n",
       "      <th>0</th>\n",
       "      <td>co_max</td>\n",
       "      <td>-0.949264</td>\n",
       "    </tr>\n",
       "    <tr>\n",
       "      <th>3</th>\n",
       "      <td>no2_aqi_val</td>\n",
       "      <td>-1.551449</td>\n",
       "    </tr>\n",
       "    <tr>\n",
       "      <th>9</th>\n",
       "      <td>pm2.5_aqi_val</td>\n",
       "      <td>-4.701081</td>\n",
       "    </tr>\n",
       "    <tr>\n",
       "      <th>7</th>\n",
       "      <td>pm10_aqi_val</td>\n",
       "      <td>-6.560618</td>\n",
       "    </tr>\n",
       "    <tr>\n",
       "      <th>4</th>\n",
       "      <td>ozone_max</td>\n",
       "      <td>-8.203636</td>\n",
       "    </tr>\n",
       "    <tr>\n",
       "      <th>11</th>\n",
       "      <td>so2_aqi_val</td>\n",
       "      <td>-21.141300</td>\n",
       "    </tr>\n",
       "  </tbody>\n",
       "</table>\n",
       "</div>"
      ],
      "text/plain": [
       "             name       coef\n",
       "10        so2_max  22.768656\n",
       "8      pm2.5_mean  16.262367\n",
       "5   ozone_aqi_val  12.750437\n",
       "6       pm10_mean   6.957920\n",
       "2         no2_max   1.980383\n",
       "1      co_aqi_val   0.604951\n",
       "13       temp_low   0.449942\n",
       "16        weekday   0.449480\n",
       "14       temp_avg  -0.255853\n",
       "15          month  -0.699570\n",
       "12      temp_high  -0.871551\n",
       "0          co_max  -0.949264\n",
       "3     no2_aqi_val  -1.551449\n",
       "9   pm2.5_aqi_val  -4.701081\n",
       "7    pm10_aqi_val  -6.560618\n",
       "4       ozone_max  -8.203636\n",
       "11    so2_aqi_val -21.141300"
      ]
     },
     "execution_count": 26,
     "metadata": {},
     "output_type": "execute_result"
    }
   ],
   "source": [
    "coef = gs3.best_estimator_['ridge'].coef_\n",
    "name = X_train.columns\n",
    "importance = pd.DataFrame(zip(name, coef), columns=['name', 'coef']).sort_values(by='coef', ascending=False)\n",
    "importance"
   ]
  },
  {
   "cell_type": "markdown",
   "metadata": {},
   "source": [
    "## Model 4: Lasso with RFE\n",
    "[(back to top)](#Regression-Modeling)"
   ]
  },
  {
   "cell_type": "code",
   "execution_count": 27,
   "metadata": {
    "collapsed": true,
    "jupyter": {
     "outputs_hidden": true
    },
    "tags": []
   },
   "outputs": [
    {
     "name": "stderr",
     "output_type": "stream",
     "text": [
      "/Users/annafunsten/opt/anaconda3/lib/python3.8/site-packages/sklearn/linear_model/_coordinate_descent.py:530: ConvergenceWarning: Objective did not converge. You might want to increase the number of iterations. Duality gap: 1215.077368529146, tolerance: 14.151416793893134\n",
      "  model = cd_fast.enet_coordinate_descent(\n",
      "/Users/annafunsten/opt/anaconda3/lib/python3.8/site-packages/sklearn/linear_model/_coordinate_descent.py:530: ConvergenceWarning: Objective did not converge. You might want to increase the number of iterations. Duality gap: 495.28249565581064, tolerance: 14.466252519083973\n",
      "  model = cd_fast.enet_coordinate_descent(\n",
      "/Users/annafunsten/opt/anaconda3/lib/python3.8/site-packages/sklearn/linear_model/_coordinate_descent.py:530: ConvergenceWarning: Objective did not converge. You might want to increase the number of iterations. Duality gap: 1641.9878378606427, tolerance: 14.412267786259543\n",
      "  model = cd_fast.enet_coordinate_descent(\n",
      "/Users/annafunsten/opt/anaconda3/lib/python3.8/site-packages/sklearn/linear_model/_coordinate_descent.py:530: ConvergenceWarning: Objective did not converge. You might want to increase the number of iterations. Duality gap: 1549.7302816580432, tolerance: 13.341787175572518\n",
      "  model = cd_fast.enet_coordinate_descent(\n",
      "/Users/annafunsten/opt/anaconda3/lib/python3.8/site-packages/sklearn/linear_model/_coordinate_descent.py:530: ConvergenceWarning: Objective did not converge. You might want to increase the number of iterations. Duality gap: 46.240225046167325, tolerance: 14.324699847560977\n",
      "  model = cd_fast.enet_coordinate_descent(\n",
      "/Users/annafunsten/opt/anaconda3/lib/python3.8/site-packages/sklearn/linear_model/_coordinate_descent.py:530: ConvergenceWarning: Objective did not converge. You might want to increase the number of iterations. Duality gap: 1215.967428135431, tolerance: 14.151416793893134\n",
      "  model = cd_fast.enet_coordinate_descent(\n",
      "/Users/annafunsten/opt/anaconda3/lib/python3.8/site-packages/sklearn/linear_model/_coordinate_descent.py:530: ConvergenceWarning: Objective did not converge. You might want to increase the number of iterations. Duality gap: 417.5708582974439, tolerance: 14.466252519083973\n",
      "  model = cd_fast.enet_coordinate_descent(\n",
      "/Users/annafunsten/opt/anaconda3/lib/python3.8/site-packages/sklearn/linear_model/_coordinate_descent.py:530: ConvergenceWarning: Objective did not converge. You might want to increase the number of iterations. Duality gap: 1654.4408993755314, tolerance: 14.412267786259543\n",
      "  model = cd_fast.enet_coordinate_descent(\n",
      "/Users/annafunsten/opt/anaconda3/lib/python3.8/site-packages/sklearn/linear_model/_coordinate_descent.py:530: ConvergenceWarning: Objective did not converge. You might want to increase the number of iterations. Duality gap: 1575.4115519177085, tolerance: 13.341787175572518\n",
      "  model = cd_fast.enet_coordinate_descent(\n",
      "/Users/annafunsten/opt/anaconda3/lib/python3.8/site-packages/sklearn/linear_model/_coordinate_descent.py:530: ConvergenceWarning: Objective did not converge. You might want to increase the number of iterations. Duality gap: 46.14015211435253, tolerance: 14.324699847560977\n",
      "  model = cd_fast.enet_coordinate_descent(\n",
      "/Users/annafunsten/opt/anaconda3/lib/python3.8/site-packages/sklearn/linear_model/_coordinate_descent.py:530: ConvergenceWarning: Objective did not converge. You might want to increase the number of iterations. Duality gap: 1161.505128424511, tolerance: 14.151416793893134\n",
      "  model = cd_fast.enet_coordinate_descent(\n",
      "/Users/annafunsten/opt/anaconda3/lib/python3.8/site-packages/sklearn/linear_model/_coordinate_descent.py:530: ConvergenceWarning: Objective did not converge. You might want to increase the number of iterations. Duality gap: 480.682267116219, tolerance: 14.466252519083973\n",
      "  model = cd_fast.enet_coordinate_descent(\n",
      "/Users/annafunsten/opt/anaconda3/lib/python3.8/site-packages/sklearn/linear_model/_coordinate_descent.py:530: ConvergenceWarning: Objective did not converge. You might want to increase the number of iterations. Duality gap: 1544.9739697918776, tolerance: 14.412267786259543\n",
      "  model = cd_fast.enet_coordinate_descent(\n",
      "/Users/annafunsten/opt/anaconda3/lib/python3.8/site-packages/sklearn/linear_model/_coordinate_descent.py:530: ConvergenceWarning: Objective did not converge. You might want to increase the number of iterations. Duality gap: 1434.6441072641755, tolerance: 13.341787175572518\n",
      "  model = cd_fast.enet_coordinate_descent(\n",
      "/Users/annafunsten/opt/anaconda3/lib/python3.8/site-packages/sklearn/linear_model/_coordinate_descent.py:530: ConvergenceWarning: Objective did not converge. You might want to increase the number of iterations. Duality gap: 44.05064638422846, tolerance: 14.324699847560977\n",
      "  model = cd_fast.enet_coordinate_descent(\n",
      "/Users/annafunsten/opt/anaconda3/lib/python3.8/site-packages/sklearn/linear_model/_coordinate_descent.py:530: ConvergenceWarning: Objective did not converge. You might want to increase the number of iterations. Duality gap: 1225.3380280232777, tolerance: 14.151416793893134\n",
      "  model = cd_fast.enet_coordinate_descent(\n",
      "/Users/annafunsten/opt/anaconda3/lib/python3.8/site-packages/sklearn/linear_model/_coordinate_descent.py:530: ConvergenceWarning: Objective did not converge. You might want to increase the number of iterations. Duality gap: 482.76391297503505, tolerance: 14.466252519083973\n",
      "  model = cd_fast.enet_coordinate_descent(\n",
      "/Users/annafunsten/opt/anaconda3/lib/python3.8/site-packages/sklearn/linear_model/_coordinate_descent.py:530: ConvergenceWarning: Objective did not converge. You might want to increase the number of iterations. Duality gap: 1484.447069744585, tolerance: 14.412267786259543\n",
      "  model = cd_fast.enet_coordinate_descent(\n",
      "/Users/annafunsten/opt/anaconda3/lib/python3.8/site-packages/sklearn/linear_model/_coordinate_descent.py:530: ConvergenceWarning: Objective did not converge. You might want to increase the number of iterations. Duality gap: 1483.94989514997, tolerance: 13.341787175572518\n",
      "  model = cd_fast.enet_coordinate_descent(\n",
      "/Users/annafunsten/opt/anaconda3/lib/python3.8/site-packages/sklearn/linear_model/_coordinate_descent.py:530: ConvergenceWarning: Objective did not converge. You might want to increase the number of iterations. Duality gap: 56.68612790518819, tolerance: 14.324699847560977\n",
      "  model = cd_fast.enet_coordinate_descent(\n",
      "/Users/annafunsten/opt/anaconda3/lib/python3.8/site-packages/sklearn/linear_model/_coordinate_descent.py:530: ConvergenceWarning: Objective did not converge. You might want to increase the number of iterations. Duality gap: 1473.2386611454858, tolerance: 14.151416793893134\n",
      "  model = cd_fast.enet_coordinate_descent(\n",
      "/Users/annafunsten/opt/anaconda3/lib/python3.8/site-packages/sklearn/linear_model/_coordinate_descent.py:530: ConvergenceWarning: Objective did not converge. You might want to increase the number of iterations. Duality gap: 445.536715211063, tolerance: 14.466252519083973\n",
      "  model = cd_fast.enet_coordinate_descent(\n",
      "/Users/annafunsten/opt/anaconda3/lib/python3.8/site-packages/sklearn/linear_model/_coordinate_descent.py:530: ConvergenceWarning: Objective did not converge. You might want to increase the number of iterations. Duality gap: 1655.4457355706509, tolerance: 14.412267786259543\n",
      "  model = cd_fast.enet_coordinate_descent(\n",
      "/Users/annafunsten/opt/anaconda3/lib/python3.8/site-packages/sklearn/linear_model/_coordinate_descent.py:530: ConvergenceWarning: Objective did not converge. You might want to increase the number of iterations. Duality gap: 1950.9109244147694, tolerance: 13.341787175572518\n",
      "  model = cd_fast.enet_coordinate_descent(\n"
     ]
    },
    {
     "name": "stdout",
     "output_type": "stream",
     "text": [
      "0.841902149115362\n",
      "0.8242945031363862\n",
      "root mean sqaured error is 6.829880681065509, r squared is 0.8242945031363862, and mean absolute error is 4.817008216033618\n"
     ]
    },
    {
     "name": "stderr",
     "output_type": "stream",
     "text": [
      "/Users/annafunsten/opt/anaconda3/lib/python3.8/site-packages/sklearn/linear_model/_coordinate_descent.py:530: ConvergenceWarning: Objective did not converge. You might want to increase the number of iterations. Duality gap: 1104.1417241560848, tolerance: 17.676049328449327\n",
      "  model = cd_fast.enet_coordinate_descent(\n"
     ]
    },
    {
     "data": {
      "text/plain": [
       "{'lasso__alpha': 0.01, 'rfe__n_features_to_select': 17}"
      ]
     },
     "execution_count": 27,
     "metadata": {},
     "output_type": "execute_result"
    }
   ],
   "source": [
    "pipe4 = make_pipeline(KNNImputer(),StandardScaler(), RFE(estimator=LinearRegression()), Lasso())\n",
    "params = {'rfe__n_features_to_select': [17, 15, 10, 8, 5],\n",
    "          'lasso__alpha': [.01, .1 ,1 ,10 ,100, 1000]}\n",
    "gs4 = GridSearchCV(pipe4, params, n_jobs=1)\n",
    "gs4.fit(X_train, y_train)\n",
    "print(gs4.score(X_train, y_train))\n",
    "print(gs4.score(X_test, y_test))\n",
    "predict4 = gs4.predict(X_test)\n",
    "print(errors(y_test, predict4))\n",
    "gs4.best_params_"
   ]
  },
  {
   "cell_type": "code",
   "execution_count": 28,
   "metadata": {},
   "outputs": [
    {
     "data": {
      "text/html": [
       "<div>\n",
       "<style scoped>\n",
       "    .dataframe tbody tr th:only-of-type {\n",
       "        vertical-align: middle;\n",
       "    }\n",
       "\n",
       "    .dataframe tbody tr th {\n",
       "        vertical-align: top;\n",
       "    }\n",
       "\n",
       "    .dataframe thead th {\n",
       "        text-align: right;\n",
       "    }\n",
       "</style>\n",
       "<table border=\"1\" class=\"dataframe\">\n",
       "  <thead>\n",
       "    <tr style=\"text-align: right;\">\n",
       "      <th></th>\n",
       "      <th>name</th>\n",
       "      <th>coef</th>\n",
       "    </tr>\n",
       "  </thead>\n",
       "  <tbody>\n",
       "    <tr>\n",
       "      <th>8</th>\n",
       "      <td>pm2.5_mean</td>\n",
       "      <td>15.833849</td>\n",
       "    </tr>\n",
       "    <tr>\n",
       "      <th>5</th>\n",
       "      <td>ozone_aqi_val</td>\n",
       "      <td>12.379038</td>\n",
       "    </tr>\n",
       "    <tr>\n",
       "      <th>10</th>\n",
       "      <td>so2_max</td>\n",
       "      <td>9.494319</td>\n",
       "    </tr>\n",
       "    <tr>\n",
       "      <th>6</th>\n",
       "      <td>pm10_mean</td>\n",
       "      <td>2.106374</td>\n",
       "    </tr>\n",
       "    <tr>\n",
       "      <th>16</th>\n",
       "      <td>weekday</td>\n",
       "      <td>0.408611</td>\n",
       "    </tr>\n",
       "    <tr>\n",
       "      <th>2</th>\n",
       "      <td>no2_max</td>\n",
       "      <td>0.398286</td>\n",
       "    </tr>\n",
       "    <tr>\n",
       "      <th>13</th>\n",
       "      <td>temp_low</td>\n",
       "      <td>0.247656</td>\n",
       "    </tr>\n",
       "    <tr>\n",
       "      <th>3</th>\n",
       "      <td>no2_aqi_val</td>\n",
       "      <td>0.000000</td>\n",
       "    </tr>\n",
       "    <tr>\n",
       "      <th>1</th>\n",
       "      <td>co_aqi_val</td>\n",
       "      <td>0.000000</td>\n",
       "    </tr>\n",
       "    <tr>\n",
       "      <th>14</th>\n",
       "      <td>temp_avg</td>\n",
       "      <td>-0.000000</td>\n",
       "    </tr>\n",
       "    <tr>\n",
       "      <th>0</th>\n",
       "      <td>co_max</td>\n",
       "      <td>-0.419780</td>\n",
       "    </tr>\n",
       "    <tr>\n",
       "      <th>15</th>\n",
       "      <td>month</td>\n",
       "      <td>-0.672960</td>\n",
       "    </tr>\n",
       "    <tr>\n",
       "      <th>12</th>\n",
       "      <td>temp_high</td>\n",
       "      <td>-0.965993</td>\n",
       "    </tr>\n",
       "    <tr>\n",
       "      <th>7</th>\n",
       "      <td>pm10_aqi_val</td>\n",
       "      <td>-1.785654</td>\n",
       "    </tr>\n",
       "    <tr>\n",
       "      <th>9</th>\n",
       "      <td>pm2.5_aqi_val</td>\n",
       "      <td>-4.262565</td>\n",
       "    </tr>\n",
       "    <tr>\n",
       "      <th>11</th>\n",
       "      <td>so2_aqi_val</td>\n",
       "      <td>-7.781095</td>\n",
       "    </tr>\n",
       "    <tr>\n",
       "      <th>4</th>\n",
       "      <td>ozone_max</td>\n",
       "      <td>-7.866906</td>\n",
       "    </tr>\n",
       "  </tbody>\n",
       "</table>\n",
       "</div>"
      ],
      "text/plain": [
       "             name       coef\n",
       "8      pm2.5_mean  15.833849\n",
       "5   ozone_aqi_val  12.379038\n",
       "10        so2_max   9.494319\n",
       "6       pm10_mean   2.106374\n",
       "16        weekday   0.408611\n",
       "2         no2_max   0.398286\n",
       "13       temp_low   0.247656\n",
       "3     no2_aqi_val   0.000000\n",
       "1      co_aqi_val   0.000000\n",
       "14       temp_avg  -0.000000\n",
       "0          co_max  -0.419780\n",
       "15          month  -0.672960\n",
       "12      temp_high  -0.965993\n",
       "7    pm10_aqi_val  -1.785654\n",
       "9   pm2.5_aqi_val  -4.262565\n",
       "11    so2_aqi_val  -7.781095\n",
       "4       ozone_max  -7.866906"
      ]
     },
     "execution_count": 28,
     "metadata": {},
     "output_type": "execute_result"
    }
   ],
   "source": [
    "coef = gs4.best_estimator_['lasso'].coef_\n",
    "name = X_train.columns\n",
    "importance = pd.DataFrame(zip(name, coef), columns=['name', 'coef']).sort_values(by='coef', ascending=False)\n",
    "importance"
   ]
  },
  {
   "cell_type": "markdown",
   "metadata": {},
   "source": [
    "## Model 5: ElasticNet with RFE\n",
    "[(back to top)](#Regression-Modeling)"
   ]
  },
  {
   "cell_type": "code",
   "execution_count": 29,
   "metadata": {
    "collapsed": true,
    "jupyter": {
     "outputs_hidden": true
    },
    "tags": []
   },
   "outputs": [
    {
     "name": "stderr",
     "output_type": "stream",
     "text": [
      "/Users/annafunsten/opt/anaconda3/lib/python3.8/site-packages/sklearn/linear_model/_coordinate_descent.py:530: ConvergenceWarning: Objective did not converge. You might want to increase the number of iterations. Duality gap: 12082.51482082823, tolerance: 14.151416793893134\n",
      "  model = cd_fast.enet_coordinate_descent(\n",
      "/Users/annafunsten/opt/anaconda3/lib/python3.8/site-packages/sklearn/linear_model/_coordinate_descent.py:530: ConvergenceWarning: Objective did not converge. You might want to increase the number of iterations. Duality gap: 13142.543852570685, tolerance: 14.466252519083973\n",
      "  model = cd_fast.enet_coordinate_descent(\n",
      "/Users/annafunsten/opt/anaconda3/lib/python3.8/site-packages/sklearn/linear_model/_coordinate_descent.py:530: ConvergenceWarning: Objective did not converge. You might want to increase the number of iterations. Duality gap: 12256.169619126067, tolerance: 14.412267786259543\n",
      "  model = cd_fast.enet_coordinate_descent(\n",
      "/Users/annafunsten/opt/anaconda3/lib/python3.8/site-packages/sklearn/linear_model/_coordinate_descent.py:530: ConvergenceWarning: Objective did not converge. You might want to increase the number of iterations. Duality gap: 12912.680314881594, tolerance: 13.341787175572518\n",
      "  model = cd_fast.enet_coordinate_descent(\n",
      "/Users/annafunsten/opt/anaconda3/lib/python3.8/site-packages/sklearn/linear_model/_coordinate_descent.py:530: ConvergenceWarning: Objective did not converge. You might want to increase the number of iterations. Duality gap: 12478.336396035435, tolerance: 14.324699847560977\n",
      "  model = cd_fast.enet_coordinate_descent(\n",
      "/Users/annafunsten/opt/anaconda3/lib/python3.8/site-packages/sklearn/linear_model/_coordinate_descent.py:530: ConvergenceWarning: Objective did not converge. You might want to increase the number of iterations. Duality gap: 12087.684428590323, tolerance: 14.151416793893134\n",
      "  model = cd_fast.enet_coordinate_descent(\n",
      "/Users/annafunsten/opt/anaconda3/lib/python3.8/site-packages/sklearn/linear_model/_coordinate_descent.py:530: ConvergenceWarning: Objective did not converge. You might want to increase the number of iterations. Duality gap: 13179.851129243123, tolerance: 14.466252519083973\n",
      "  model = cd_fast.enet_coordinate_descent(\n",
      "/Users/annafunsten/opt/anaconda3/lib/python3.8/site-packages/sklearn/linear_model/_coordinate_descent.py:530: ConvergenceWarning: Objective did not converge. You might want to increase the number of iterations. Duality gap: 12264.17595701828, tolerance: 14.412267786259543\n",
      "  model = cd_fast.enet_coordinate_descent(\n",
      "/Users/annafunsten/opt/anaconda3/lib/python3.8/site-packages/sklearn/linear_model/_coordinate_descent.py:530: ConvergenceWarning: Objective did not converge. You might want to increase the number of iterations. Duality gap: 12927.171841901156, tolerance: 13.341787175572518\n",
      "  model = cd_fast.enet_coordinate_descent(\n",
      "/Users/annafunsten/opt/anaconda3/lib/python3.8/site-packages/sklearn/linear_model/_coordinate_descent.py:530: ConvergenceWarning: Objective did not converge. You might want to increase the number of iterations. Duality gap: 12480.605362005732, tolerance: 14.324699847560977\n",
      "  model = cd_fast.enet_coordinate_descent(\n",
      "/Users/annafunsten/opt/anaconda3/lib/python3.8/site-packages/sklearn/linear_model/_coordinate_descent.py:530: ConvergenceWarning: Objective did not converge. You might want to increase the number of iterations. Duality gap: 12438.18152611572, tolerance: 14.151416793893134\n",
      "  model = cd_fast.enet_coordinate_descent(\n",
      "/Users/annafunsten/opt/anaconda3/lib/python3.8/site-packages/sklearn/linear_model/_coordinate_descent.py:530: ConvergenceWarning: Objective did not converge. You might want to increase the number of iterations. Duality gap: 13408.926046829876, tolerance: 14.466252519083973\n",
      "  model = cd_fast.enet_coordinate_descent(\n",
      "/Users/annafunsten/opt/anaconda3/lib/python3.8/site-packages/sklearn/linear_model/_coordinate_descent.py:530: ConvergenceWarning: Objective did not converge. You might want to increase the number of iterations. Duality gap: 12426.567375870982, tolerance: 14.412267786259543\n",
      "  model = cd_fast.enet_coordinate_descent(\n",
      "/Users/annafunsten/opt/anaconda3/lib/python3.8/site-packages/sklearn/linear_model/_coordinate_descent.py:530: ConvergenceWarning: Objective did not converge. You might want to increase the number of iterations. Duality gap: 13294.389533680336, tolerance: 13.341787175572518\n",
      "  model = cd_fast.enet_coordinate_descent(\n",
      "/Users/annafunsten/opt/anaconda3/lib/python3.8/site-packages/sklearn/linear_model/_coordinate_descent.py:530: ConvergenceWarning: Objective did not converge. You might want to increase the number of iterations. Duality gap: 12615.988719441899, tolerance: 14.324699847560977\n",
      "  model = cd_fast.enet_coordinate_descent(\n",
      "/Users/annafunsten/opt/anaconda3/lib/python3.8/site-packages/sklearn/linear_model/_coordinate_descent.py:530: ConvergenceWarning: Objective did not converge. You might want to increase the number of iterations. Duality gap: 12443.42625535287, tolerance: 14.151416793893134\n",
      "  model = cd_fast.enet_coordinate_descent(\n",
      "/Users/annafunsten/opt/anaconda3/lib/python3.8/site-packages/sklearn/linear_model/_coordinate_descent.py:530: ConvergenceWarning: Objective did not converge. You might want to increase the number of iterations. Duality gap: 13414.848094061457, tolerance: 14.466252519083973\n",
      "  model = cd_fast.enet_coordinate_descent(\n",
      "/Users/annafunsten/opt/anaconda3/lib/python3.8/site-packages/sklearn/linear_model/_coordinate_descent.py:530: ConvergenceWarning: Objective did not converge. You might want to increase the number of iterations. Duality gap: 12426.653447453278, tolerance: 14.412267786259543\n",
      "  model = cd_fast.enet_coordinate_descent(\n",
      "/Users/annafunsten/opt/anaconda3/lib/python3.8/site-packages/sklearn/linear_model/_coordinate_descent.py:530: ConvergenceWarning: Objective did not converge. You might want to increase the number of iterations. Duality gap: 13343.379957528005, tolerance: 13.341787175572518\n",
      "  model = cd_fast.enet_coordinate_descent(\n",
      "/Users/annafunsten/opt/anaconda3/lib/python3.8/site-packages/sklearn/linear_model/_coordinate_descent.py:530: ConvergenceWarning: Objective did not converge. You might want to increase the number of iterations. Duality gap: 13106.175943258571, tolerance: 14.324699847560977\n",
      "  model = cd_fast.enet_coordinate_descent(\n",
      "/Users/annafunsten/opt/anaconda3/lib/python3.8/site-packages/sklearn/linear_model/_coordinate_descent.py:530: ConvergenceWarning: Objective did not converge. You might want to increase the number of iterations. Duality gap: 18507.03689830996, tolerance: 14.151416793893134\n",
      "  model = cd_fast.enet_coordinate_descent(\n",
      "/Users/annafunsten/opt/anaconda3/lib/python3.8/site-packages/sklearn/linear_model/_coordinate_descent.py:530: ConvergenceWarning: Objective did not converge. You might want to increase the number of iterations. Duality gap: 21568.666243591913, tolerance: 14.466252519083973\n",
      "  model = cd_fast.enet_coordinate_descent(\n",
      "/Users/annafunsten/opt/anaconda3/lib/python3.8/site-packages/sklearn/linear_model/_coordinate_descent.py:530: ConvergenceWarning: Objective did not converge. You might want to increase the number of iterations. Duality gap: 12876.570097583572, tolerance: 14.412267786259543\n",
      "  model = cd_fast.enet_coordinate_descent(\n",
      "/Users/annafunsten/opt/anaconda3/lib/python3.8/site-packages/sklearn/linear_model/_coordinate_descent.py:530: ConvergenceWarning: Objective did not converge. You might want to increase the number of iterations. Duality gap: 19182.202320259803, tolerance: 13.341787175572518\n",
      "  model = cd_fast.enet_coordinate_descent(\n",
      "/Users/annafunsten/opt/anaconda3/lib/python3.8/site-packages/sklearn/linear_model/_coordinate_descent.py:530: ConvergenceWarning: Objective did not converge. You might want to increase the number of iterations. Duality gap: 20171.967247481523, tolerance: 14.324699847560977\n",
      "  model = cd_fast.enet_coordinate_descent(\n",
      "/Users/annafunsten/opt/anaconda3/lib/python3.8/site-packages/sklearn/linear_model/_coordinate_descent.py:530: ConvergenceWarning: Objective did not converge. You might want to increase the number of iterations. Duality gap: 1215.077368529146, tolerance: 14.151416793893134\n",
      "  model = cd_fast.enet_coordinate_descent(\n",
      "/Users/annafunsten/opt/anaconda3/lib/python3.8/site-packages/sklearn/linear_model/_coordinate_descent.py:530: ConvergenceWarning: Objective did not converge. You might want to increase the number of iterations. Duality gap: 495.28249565581064, tolerance: 14.466252519083973\n",
      "  model = cd_fast.enet_coordinate_descent(\n",
      "/Users/annafunsten/opt/anaconda3/lib/python3.8/site-packages/sklearn/linear_model/_coordinate_descent.py:530: ConvergenceWarning: Objective did not converge. You might want to increase the number of iterations. Duality gap: 1641.9878378606427, tolerance: 14.412267786259543\n",
      "  model = cd_fast.enet_coordinate_descent(\n",
      "/Users/annafunsten/opt/anaconda3/lib/python3.8/site-packages/sklearn/linear_model/_coordinate_descent.py:530: ConvergenceWarning: Objective did not converge. You might want to increase the number of iterations. Duality gap: 1549.7302816580432, tolerance: 13.341787175572518\n",
      "  model = cd_fast.enet_coordinate_descent(\n",
      "/Users/annafunsten/opt/anaconda3/lib/python3.8/site-packages/sklearn/linear_model/_coordinate_descent.py:530: ConvergenceWarning: Objective did not converge. You might want to increase the number of iterations. Duality gap: 46.240225046167325, tolerance: 14.324699847560977\n",
      "  model = cd_fast.enet_coordinate_descent(\n",
      "/Users/annafunsten/opt/anaconda3/lib/python3.8/site-packages/sklearn/linear_model/_coordinate_descent.py:530: ConvergenceWarning: Objective did not converge. You might want to increase the number of iterations. Duality gap: 1215.967428135431, tolerance: 14.151416793893134\n",
      "  model = cd_fast.enet_coordinate_descent(\n",
      "/Users/annafunsten/opt/anaconda3/lib/python3.8/site-packages/sklearn/linear_model/_coordinate_descent.py:530: ConvergenceWarning: Objective did not converge. You might want to increase the number of iterations. Duality gap: 417.5708582974439, tolerance: 14.466252519083973\n",
      "  model = cd_fast.enet_coordinate_descent(\n",
      "/Users/annafunsten/opt/anaconda3/lib/python3.8/site-packages/sklearn/linear_model/_coordinate_descent.py:530: ConvergenceWarning: Objective did not converge. You might want to increase the number of iterations. Duality gap: 1654.4408993755314, tolerance: 14.412267786259543\n",
      "  model = cd_fast.enet_coordinate_descent(\n",
      "/Users/annafunsten/opt/anaconda3/lib/python3.8/site-packages/sklearn/linear_model/_coordinate_descent.py:530: ConvergenceWarning: Objective did not converge. You might want to increase the number of iterations. Duality gap: 1575.4115519177085, tolerance: 13.341787175572518\n",
      "  model = cd_fast.enet_coordinate_descent(\n",
      "/Users/annafunsten/opt/anaconda3/lib/python3.8/site-packages/sklearn/linear_model/_coordinate_descent.py:530: ConvergenceWarning: Objective did not converge. You might want to increase the number of iterations. Duality gap: 46.14015211435253, tolerance: 14.324699847560977\n",
      "  model = cd_fast.enet_coordinate_descent(\n",
      "/Users/annafunsten/opt/anaconda3/lib/python3.8/site-packages/sklearn/linear_model/_coordinate_descent.py:530: ConvergenceWarning: Objective did not converge. You might want to increase the number of iterations. Duality gap: 1161.505128424511, tolerance: 14.151416793893134\n",
      "  model = cd_fast.enet_coordinate_descent(\n",
      "/Users/annafunsten/opt/anaconda3/lib/python3.8/site-packages/sklearn/linear_model/_coordinate_descent.py:530: ConvergenceWarning: Objective did not converge. You might want to increase the number of iterations. Duality gap: 480.682267116219, tolerance: 14.466252519083973\n",
      "  model = cd_fast.enet_coordinate_descent(\n",
      "/Users/annafunsten/opt/anaconda3/lib/python3.8/site-packages/sklearn/linear_model/_coordinate_descent.py:530: ConvergenceWarning: Objective did not converge. You might want to increase the number of iterations. Duality gap: 1544.9739697918776, tolerance: 14.412267786259543\n",
      "  model = cd_fast.enet_coordinate_descent(\n",
      "/Users/annafunsten/opt/anaconda3/lib/python3.8/site-packages/sklearn/linear_model/_coordinate_descent.py:530: ConvergenceWarning: Objective did not converge. You might want to increase the number of iterations. Duality gap: 1434.6441072641755, tolerance: 13.341787175572518\n",
      "  model = cd_fast.enet_coordinate_descent(\n",
      "/Users/annafunsten/opt/anaconda3/lib/python3.8/site-packages/sklearn/linear_model/_coordinate_descent.py:530: ConvergenceWarning: Objective did not converge. You might want to increase the number of iterations. Duality gap: 44.05064638422846, tolerance: 14.324699847560977\n",
      "  model = cd_fast.enet_coordinate_descent(\n",
      "/Users/annafunsten/opt/anaconda3/lib/python3.8/site-packages/sklearn/linear_model/_coordinate_descent.py:530: ConvergenceWarning: Objective did not converge. You might want to increase the number of iterations. Duality gap: 1225.3380280232777, tolerance: 14.151416793893134\n",
      "  model = cd_fast.enet_coordinate_descent(\n",
      "/Users/annafunsten/opt/anaconda3/lib/python3.8/site-packages/sklearn/linear_model/_coordinate_descent.py:530: ConvergenceWarning: Objective did not converge. You might want to increase the number of iterations. Duality gap: 482.76391297503505, tolerance: 14.466252519083973\n",
      "  model = cd_fast.enet_coordinate_descent(\n",
      "/Users/annafunsten/opt/anaconda3/lib/python3.8/site-packages/sklearn/linear_model/_coordinate_descent.py:530: ConvergenceWarning: Objective did not converge. You might want to increase the number of iterations. Duality gap: 1484.447069744585, tolerance: 14.412267786259543\n",
      "  model = cd_fast.enet_coordinate_descent(\n",
      "/Users/annafunsten/opt/anaconda3/lib/python3.8/site-packages/sklearn/linear_model/_coordinate_descent.py:530: ConvergenceWarning: Objective did not converge. You might want to increase the number of iterations. Duality gap: 1483.94989514997, tolerance: 13.341787175572518\n",
      "  model = cd_fast.enet_coordinate_descent(\n",
      "/Users/annafunsten/opt/anaconda3/lib/python3.8/site-packages/sklearn/linear_model/_coordinate_descent.py:530: ConvergenceWarning: Objective did not converge. You might want to increase the number of iterations. Duality gap: 56.68612790518819, tolerance: 14.324699847560977\n",
      "  model = cd_fast.enet_coordinate_descent(\n",
      "/Users/annafunsten/opt/anaconda3/lib/python3.8/site-packages/sklearn/linear_model/_coordinate_descent.py:530: ConvergenceWarning: Objective did not converge. You might want to increase the number of iterations. Duality gap: 1473.2386611454858, tolerance: 14.151416793893134\n",
      "  model = cd_fast.enet_coordinate_descent(\n",
      "/Users/annafunsten/opt/anaconda3/lib/python3.8/site-packages/sklearn/linear_model/_coordinate_descent.py:530: ConvergenceWarning: Objective did not converge. You might want to increase the number of iterations. Duality gap: 445.536715211063, tolerance: 14.466252519083973\n",
      "  model = cd_fast.enet_coordinate_descent(\n",
      "/Users/annafunsten/opt/anaconda3/lib/python3.8/site-packages/sklearn/linear_model/_coordinate_descent.py:530: ConvergenceWarning: Objective did not converge. You might want to increase the number of iterations. Duality gap: 1655.4457355706509, tolerance: 14.412267786259543\n",
      "  model = cd_fast.enet_coordinate_descent(\n",
      "/Users/annafunsten/opt/anaconda3/lib/python3.8/site-packages/sklearn/linear_model/_coordinate_descent.py:530: ConvergenceWarning: Objective did not converge. You might want to increase the number of iterations. Duality gap: 1950.9109244147694, tolerance: 13.341787175572518\n",
      "  model = cd_fast.enet_coordinate_descent(\n",
      "/Users/annafunsten/opt/anaconda3/lib/python3.8/site-packages/sklearn/linear_model/_coordinate_descent.py:530: ConvergenceWarning: Objective did not converge. You might want to increase the number of iterations. Duality gap: 15852.529180547688, tolerance: 14.151416793893134\n",
      "  model = cd_fast.enet_coordinate_descent(\n",
      "/Users/annafunsten/opt/anaconda3/lib/python3.8/site-packages/sklearn/linear_model/_coordinate_descent.py:530: ConvergenceWarning: Objective did not converge. You might want to increase the number of iterations. Duality gap: 17149.113477590603, tolerance: 14.466252519083973\n",
      "  model = cd_fast.enet_coordinate_descent(\n",
      "/Users/annafunsten/opt/anaconda3/lib/python3.8/site-packages/sklearn/linear_model/_coordinate_descent.py:530: ConvergenceWarning: Objective did not converge. You might want to increase the number of iterations. Duality gap: 16435.900028214583, tolerance: 14.412267786259543\n",
      "  model = cd_fast.enet_coordinate_descent(\n",
      "/Users/annafunsten/opt/anaconda3/lib/python3.8/site-packages/sklearn/linear_model/_coordinate_descent.py:530: ConvergenceWarning: Objective did not converge. You might want to increase the number of iterations. Duality gap: 16725.25321819723, tolerance: 13.341787175572518\n",
      "  model = cd_fast.enet_coordinate_descent(\n",
      "/Users/annafunsten/opt/anaconda3/lib/python3.8/site-packages/sklearn/linear_model/_coordinate_descent.py:530: ConvergenceWarning: Objective did not converge. You might want to increase the number of iterations. Duality gap: 16779.815518073567, tolerance: 14.324699847560977\n",
      "  model = cd_fast.enet_coordinate_descent(\n",
      "/Users/annafunsten/opt/anaconda3/lib/python3.8/site-packages/sklearn/linear_model/_coordinate_descent.py:530: ConvergenceWarning: Objective did not converge. You might want to increase the number of iterations. Duality gap: 15854.779840472678, tolerance: 14.151416793893134\n",
      "  model = cd_fast.enet_coordinate_descent(\n",
      "/Users/annafunsten/opt/anaconda3/lib/python3.8/site-packages/sklearn/linear_model/_coordinate_descent.py:530: ConvergenceWarning: Objective did not converge. You might want to increase the number of iterations. Duality gap: 17203.533639135345, tolerance: 14.466252519083973\n",
      "  model = cd_fast.enet_coordinate_descent(\n",
      "/Users/annafunsten/opt/anaconda3/lib/python3.8/site-packages/sklearn/linear_model/_coordinate_descent.py:530: ConvergenceWarning: Objective did not converge. You might want to increase the number of iterations. Duality gap: 16447.534813867907, tolerance: 14.412267786259543\n",
      "  model = cd_fast.enet_coordinate_descent(\n",
      "/Users/annafunsten/opt/anaconda3/lib/python3.8/site-packages/sklearn/linear_model/_coordinate_descent.py:530: ConvergenceWarning: Objective did not converge. You might want to increase the number of iterations. Duality gap: 16729.914644823475, tolerance: 13.341787175572518\n",
      "  model = cd_fast.enet_coordinate_descent(\n",
      "/Users/annafunsten/opt/anaconda3/lib/python3.8/site-packages/sklearn/linear_model/_coordinate_descent.py:530: ConvergenceWarning: Objective did not converge. You might want to increase the number of iterations. Duality gap: 16781.14305702174, tolerance: 14.324699847560977\n",
      "  model = cd_fast.enet_coordinate_descent(\n",
      "/Users/annafunsten/opt/anaconda3/lib/python3.8/site-packages/sklearn/linear_model/_coordinate_descent.py:530: ConvergenceWarning: Objective did not converge. You might want to increase the number of iterations. Duality gap: 16201.15767878238, tolerance: 14.151416793893134\n",
      "  model = cd_fast.enet_coordinate_descent(\n",
      "/Users/annafunsten/opt/anaconda3/lib/python3.8/site-packages/sklearn/linear_model/_coordinate_descent.py:530: ConvergenceWarning: Objective did not converge. You might want to increase the number of iterations. Duality gap: 17423.778558222155, tolerance: 14.466252519083973\n",
      "  model = cd_fast.enet_coordinate_descent(\n",
      "/Users/annafunsten/opt/anaconda3/lib/python3.8/site-packages/sklearn/linear_model/_coordinate_descent.py:530: ConvergenceWarning: Objective did not converge. You might want to increase the number of iterations. Duality gap: 16578.152877281107, tolerance: 14.412267786259543\n",
      "  model = cd_fast.enet_coordinate_descent(\n",
      "/Users/annafunsten/opt/anaconda3/lib/python3.8/site-packages/sklearn/linear_model/_coordinate_descent.py:530: ConvergenceWarning: Objective did not converge. You might want to increase the number of iterations. Duality gap: 17124.85377241468, tolerance: 13.341787175572518\n",
      "  model = cd_fast.enet_coordinate_descent(\n",
      "/Users/annafunsten/opt/anaconda3/lib/python3.8/site-packages/sklearn/linear_model/_coordinate_descent.py:530: ConvergenceWarning: Objective did not converge. You might want to increase the number of iterations. Duality gap: 16954.62534406581, tolerance: 14.324699847560977\n",
      "  model = cd_fast.enet_coordinate_descent(\n",
      "/Users/annafunsten/opt/anaconda3/lib/python3.8/site-packages/sklearn/linear_model/_coordinate_descent.py:530: ConvergenceWarning: Objective did not converge. You might want to increase the number of iterations. Duality gap: 17388.073280965516, tolerance: 14.151416793893134\n",
      "  model = cd_fast.enet_coordinate_descent(\n",
      "/Users/annafunsten/opt/anaconda3/lib/python3.8/site-packages/sklearn/linear_model/_coordinate_descent.py:530: ConvergenceWarning: Objective did not converge. You might want to increase the number of iterations. Duality gap: 18613.916705266554, tolerance: 14.466252519083973\n",
      "  model = cd_fast.enet_coordinate_descent(\n",
      "/Users/annafunsten/opt/anaconda3/lib/python3.8/site-packages/sklearn/linear_model/_coordinate_descent.py:530: ConvergenceWarning: Objective did not converge. You might want to increase the number of iterations. Duality gap: 16592.4109082152, tolerance: 14.412267786259543\n",
      "  model = cd_fast.enet_coordinate_descent(\n",
      "/Users/annafunsten/opt/anaconda3/lib/python3.8/site-packages/sklearn/linear_model/_coordinate_descent.py:530: ConvergenceWarning: Objective did not converge. You might want to increase the number of iterations. Duality gap: 18062.670111504023, tolerance: 13.341787175572518\n",
      "  model = cd_fast.enet_coordinate_descent(\n",
      "/Users/annafunsten/opt/anaconda3/lib/python3.8/site-packages/sklearn/linear_model/_coordinate_descent.py:530: ConvergenceWarning: Objective did not converge. You might want to increase the number of iterations. Duality gap: 17491.903260552077, tolerance: 14.324699847560977\n",
      "  model = cd_fast.enet_coordinate_descent(\n",
      "/Users/annafunsten/opt/anaconda3/lib/python3.8/site-packages/sklearn/linear_model/_coordinate_descent.py:530: ConvergenceWarning: Objective did not converge. You might want to increase the number of iterations. Duality gap: 21906.716732051234, tolerance: 14.151416793893134\n",
      "  model = cd_fast.enet_coordinate_descent(\n",
      "/Users/annafunsten/opt/anaconda3/lib/python3.8/site-packages/sklearn/linear_model/_coordinate_descent.py:530: ConvergenceWarning: Objective did not converge. You might want to increase the number of iterations. Duality gap: 24838.67029665165, tolerance: 14.466252519083973\n",
      "  model = cd_fast.enet_coordinate_descent(\n",
      "/Users/annafunsten/opt/anaconda3/lib/python3.8/site-packages/sklearn/linear_model/_coordinate_descent.py:530: ConvergenceWarning: Objective did not converge. You might want to increase the number of iterations. Duality gap: 18219.655818146697, tolerance: 14.412267786259543\n",
      "  model = cd_fast.enet_coordinate_descent(\n",
      "/Users/annafunsten/opt/anaconda3/lib/python3.8/site-packages/sklearn/linear_model/_coordinate_descent.py:530: ConvergenceWarning: Objective did not converge. You might want to increase the number of iterations. Duality gap: 22235.659616098048, tolerance: 13.341787175572518\n",
      "  model = cd_fast.enet_coordinate_descent(\n",
      "/Users/annafunsten/opt/anaconda3/lib/python3.8/site-packages/sklearn/linear_model/_coordinate_descent.py:530: ConvergenceWarning: Objective did not converge. You might want to increase the number of iterations. Duality gap: 23603.538576237625, tolerance: 14.324699847560977\n",
      "  model = cd_fast.enet_coordinate_descent(\n",
      "/Users/annafunsten/opt/anaconda3/lib/python3.8/site-packages/sklearn/linear_model/_coordinate_descent.py:530: ConvergenceWarning: Objective did not converge. You might want to increase the number of iterations. Duality gap: 29706.74331221987, tolerance: 14.151416793893134\n",
      "  model = cd_fast.enet_coordinate_descent(\n",
      "/Users/annafunsten/opt/anaconda3/lib/python3.8/site-packages/sklearn/linear_model/_coordinate_descent.py:530: ConvergenceWarning: Objective did not converge. You might want to increase the number of iterations. Duality gap: 31376.3158732968, tolerance: 14.466252519083973\n",
      "  model = cd_fast.enet_coordinate_descent(\n",
      "/Users/annafunsten/opt/anaconda3/lib/python3.8/site-packages/sklearn/linear_model/_coordinate_descent.py:530: ConvergenceWarning: Objective did not converge. You might want to increase the number of iterations. Duality gap: 30745.17916050591, tolerance: 14.412267786259543\n",
      "  model = cd_fast.enet_coordinate_descent(\n",
      "/Users/annafunsten/opt/anaconda3/lib/python3.8/site-packages/sklearn/linear_model/_coordinate_descent.py:530: ConvergenceWarning: Objective did not converge. You might want to increase the number of iterations. Duality gap: 29549.066105717156, tolerance: 13.341787175572518\n",
      "  model = cd_fast.enet_coordinate_descent(\n",
      "/Users/annafunsten/opt/anaconda3/lib/python3.8/site-packages/sklearn/linear_model/_coordinate_descent.py:530: ConvergenceWarning: Objective did not converge. You might want to increase the number of iterations. Duality gap: 31414.391012858337, tolerance: 14.324699847560977\n",
      "  model = cd_fast.enet_coordinate_descent(\n",
      "/Users/annafunsten/opt/anaconda3/lib/python3.8/site-packages/sklearn/linear_model/_coordinate_descent.py:530: ConvergenceWarning: Objective did not converge. You might want to increase the number of iterations. Duality gap: 29815.248031622457, tolerance: 14.151416793893134\n",
      "  model = cd_fast.enet_coordinate_descent(\n",
      "/Users/annafunsten/opt/anaconda3/lib/python3.8/site-packages/sklearn/linear_model/_coordinate_descent.py:530: ConvergenceWarning: Objective did not converge. You might want to increase the number of iterations. Duality gap: 31455.388879896575, tolerance: 14.466252519083973\n",
      "  model = cd_fast.enet_coordinate_descent(\n",
      "/Users/annafunsten/opt/anaconda3/lib/python3.8/site-packages/sklearn/linear_model/_coordinate_descent.py:530: ConvergenceWarning: Objective did not converge. You might want to increase the number of iterations. Duality gap: 30799.837277614926, tolerance: 14.412267786259543\n",
      "  model = cd_fast.enet_coordinate_descent(\n",
      "/Users/annafunsten/opt/anaconda3/lib/python3.8/site-packages/sklearn/linear_model/_coordinate_descent.py:530: ConvergenceWarning: Objective did not converge. You might want to increase the number of iterations. Duality gap: 29567.85543984791, tolerance: 13.341787175572518\n",
      "  model = cd_fast.enet_coordinate_descent(\n",
      "/Users/annafunsten/opt/anaconda3/lib/python3.8/site-packages/sklearn/linear_model/_coordinate_descent.py:530: ConvergenceWarning: Objective did not converge. You might want to increase the number of iterations. Duality gap: 31589.325891413384, tolerance: 14.324699847560977\n",
      "  model = cd_fast.enet_coordinate_descent(\n",
      "/Users/annafunsten/opt/anaconda3/lib/python3.8/site-packages/sklearn/linear_model/_coordinate_descent.py:530: ConvergenceWarning: Objective did not converge. You might want to increase the number of iterations. Duality gap: 30253.759649940686, tolerance: 14.151416793893134\n",
      "  model = cd_fast.enet_coordinate_descent(\n",
      "/Users/annafunsten/opt/anaconda3/lib/python3.8/site-packages/sklearn/linear_model/_coordinate_descent.py:530: ConvergenceWarning: Objective did not converge. You might want to increase the number of iterations. Duality gap: 31867.362228839374, tolerance: 14.466252519083973\n",
      "  model = cd_fast.enet_coordinate_descent(\n",
      "/Users/annafunsten/opt/anaconda3/lib/python3.8/site-packages/sklearn/linear_model/_coordinate_descent.py:530: ConvergenceWarning: Objective did not converge. You might want to increase the number of iterations. Duality gap: 31658.46667603888, tolerance: 14.412267786259543\n",
      "  model = cd_fast.enet_coordinate_descent(\n",
      "/Users/annafunsten/opt/anaconda3/lib/python3.8/site-packages/sklearn/linear_model/_coordinate_descent.py:530: ConvergenceWarning: Objective did not converge. You might want to increase the number of iterations. Duality gap: 30050.43806353433, tolerance: 13.341787175572518\n",
      "  model = cd_fast.enet_coordinate_descent(\n",
      "/Users/annafunsten/opt/anaconda3/lib/python3.8/site-packages/sklearn/linear_model/_coordinate_descent.py:530: ConvergenceWarning: Objective did not converge. You might want to increase the number of iterations. Duality gap: 32482.297459434467, tolerance: 14.324699847560977\n",
      "  model = cd_fast.enet_coordinate_descent(\n",
      "/Users/annafunsten/opt/anaconda3/lib/python3.8/site-packages/sklearn/linear_model/_coordinate_descent.py:530: ConvergenceWarning: Objective did not converge. You might want to increase the number of iterations. Duality gap: 36106.967718633445, tolerance: 14.151416793893134\n",
      "  model = cd_fast.enet_coordinate_descent(\n",
      "/Users/annafunsten/opt/anaconda3/lib/python3.8/site-packages/sklearn/linear_model/_coordinate_descent.py:530: ConvergenceWarning: Objective did not converge. You might want to increase the number of iterations. Duality gap: 37595.80872615849, tolerance: 14.466252519083973\n",
      "  model = cd_fast.enet_coordinate_descent(\n",
      "/Users/annafunsten/opt/anaconda3/lib/python3.8/site-packages/sklearn/linear_model/_coordinate_descent.py:530: ConvergenceWarning: Objective did not converge. You might want to increase the number of iterations. Duality gap: 32573.931809532285, tolerance: 14.412267786259543\n",
      "  model = cd_fast.enet_coordinate_descent(\n",
      "/Users/annafunsten/opt/anaconda3/lib/python3.8/site-packages/sklearn/linear_model/_coordinate_descent.py:530: ConvergenceWarning: Objective did not converge. You might want to increase the number of iterations. Duality gap: 35217.867893551964, tolerance: 13.341787175572518\n",
      "  model = cd_fast.enet_coordinate_descent(\n",
      "/Users/annafunsten/opt/anaconda3/lib/python3.8/site-packages/sklearn/linear_model/_coordinate_descent.py:530: ConvergenceWarning: Objective did not converge. You might want to increase the number of iterations. Duality gap: 32709.423630442594, tolerance: 14.324699847560977\n",
      "  model = cd_fast.enet_coordinate_descent(\n",
      "/Users/annafunsten/opt/anaconda3/lib/python3.8/site-packages/sklearn/linear_model/_coordinate_descent.py:530: ConvergenceWarning: Objective did not converge. You might want to increase the number of iterations. Duality gap: 40443.737289625984, tolerance: 14.412267786259543\n",
      "  model = cd_fast.enet_coordinate_descent(\n",
      "/Users/annafunsten/opt/anaconda3/lib/python3.8/site-packages/sklearn/linear_model/_coordinate_descent.py:530: ConvergenceWarning: Objective did not converge. You might want to increase the number of iterations. Duality gap: 37486.38617412234, tolerance: 13.341787175572518\n",
      "  model = cd_fast.enet_coordinate_descent(\n",
      "/Users/annafunsten/opt/anaconda3/lib/python3.8/site-packages/sklearn/linear_model/_coordinate_descent.py:530: ConvergenceWarning: Objective did not converge. You might want to increase the number of iterations. Duality gap: 55828.64941357235, tolerance: 14.151416793893134\n",
      "  model = cd_fast.enet_coordinate_descent(\n",
      "/Users/annafunsten/opt/anaconda3/lib/python3.8/site-packages/sklearn/linear_model/_coordinate_descent.py:530: ConvergenceWarning: Objective did not converge. You might want to increase the number of iterations. Duality gap: 57469.72225583042, tolerance: 14.466252519083973\n",
      "  model = cd_fast.enet_coordinate_descent(\n",
      "/Users/annafunsten/opt/anaconda3/lib/python3.8/site-packages/sklearn/linear_model/_coordinate_descent.py:530: ConvergenceWarning: Objective did not converge. You might want to increase the number of iterations. Duality gap: 56993.453017543885, tolerance: 14.412267786259543\n",
      "  model = cd_fast.enet_coordinate_descent(\n",
      "/Users/annafunsten/opt/anaconda3/lib/python3.8/site-packages/sklearn/linear_model/_coordinate_descent.py:530: ConvergenceWarning: Objective did not converge. You might want to increase the number of iterations. Duality gap: 53269.75999873117, tolerance: 13.341787175572518\n",
      "  model = cd_fast.enet_coordinate_descent(\n",
      "/Users/annafunsten/opt/anaconda3/lib/python3.8/site-packages/sklearn/linear_model/_coordinate_descent.py:530: ConvergenceWarning: Objective did not converge. You might want to increase the number of iterations. Duality gap: 57379.857475362165, tolerance: 14.324699847560977\n",
      "  model = cd_fast.enet_coordinate_descent(\n",
      "/Users/annafunsten/opt/anaconda3/lib/python3.8/site-packages/sklearn/linear_model/_coordinate_descent.py:530: ConvergenceWarning: Objective did not converge. You might want to increase the number of iterations. Duality gap: 56373.11514201371, tolerance: 14.151416793893134\n",
      "  model = cd_fast.enet_coordinate_descent(\n",
      "/Users/annafunsten/opt/anaconda3/lib/python3.8/site-packages/sklearn/linear_model/_coordinate_descent.py:530: ConvergenceWarning: Objective did not converge. You might want to increase the number of iterations. Duality gap: 57509.5664815454, tolerance: 14.466252519083973\n",
      "  model = cd_fast.enet_coordinate_descent(\n",
      "/Users/annafunsten/opt/anaconda3/lib/python3.8/site-packages/sklearn/linear_model/_coordinate_descent.py:530: ConvergenceWarning: Objective did not converge. You might want to increase the number of iterations. Duality gap: 57000.214256280946, tolerance: 14.412267786259543\n",
      "  model = cd_fast.enet_coordinate_descent(\n",
      "/Users/annafunsten/opt/anaconda3/lib/python3.8/site-packages/sklearn/linear_model/_coordinate_descent.py:530: ConvergenceWarning: Objective did not converge. You might want to increase the number of iterations. Duality gap: 53288.855727870876, tolerance: 13.341787175572518\n",
      "  model = cd_fast.enet_coordinate_descent(\n",
      "/Users/annafunsten/opt/anaconda3/lib/python3.8/site-packages/sklearn/linear_model/_coordinate_descent.py:530: ConvergenceWarning: Objective did not converge. You might want to increase the number of iterations. Duality gap: 57998.536519604255, tolerance: 14.324699847560977\n",
      "  model = cd_fast.enet_coordinate_descent(\n",
      "/Users/annafunsten/opt/anaconda3/lib/python3.8/site-packages/sklearn/linear_model/_coordinate_descent.py:530: ConvergenceWarning: Objective did not converge. You might want to increase the number of iterations. Duality gap: 57049.18138814679, tolerance: 14.151416793893134\n",
      "  model = cd_fast.enet_coordinate_descent(\n",
      "/Users/annafunsten/opt/anaconda3/lib/python3.8/site-packages/sklearn/linear_model/_coordinate_descent.py:530: ConvergenceWarning: Objective did not converge. You might want to increase the number of iterations. Duality gap: 58757.588624402175, tolerance: 14.466252519083973\n",
      "  model = cd_fast.enet_coordinate_descent(\n",
      "/Users/annafunsten/opt/anaconda3/lib/python3.8/site-packages/sklearn/linear_model/_coordinate_descent.py:530: ConvergenceWarning: Objective did not converge. You might want to increase the number of iterations. Duality gap: 59251.188188155844, tolerance: 14.412267786259543\n",
      "  model = cd_fast.enet_coordinate_descent(\n",
      "/Users/annafunsten/opt/anaconda3/lib/python3.8/site-packages/sklearn/linear_model/_coordinate_descent.py:530: ConvergenceWarning: Objective did not converge. You might want to increase the number of iterations. Duality gap: 54340.50551384718, tolerance: 13.341787175572518\n",
      "  model = cd_fast.enet_coordinate_descent(\n",
      "/Users/annafunsten/opt/anaconda3/lib/python3.8/site-packages/sklearn/linear_model/_coordinate_descent.py:530: ConvergenceWarning: Objective did not converge. You might want to increase the number of iterations. Duality gap: 59757.01809220426, tolerance: 14.324699847560977\n",
      "  model = cd_fast.enet_coordinate_descent(\n",
      "/Users/annafunsten/opt/anaconda3/lib/python3.8/site-packages/sklearn/linear_model/_coordinate_descent.py:530: ConvergenceWarning: Objective did not converge. You might want to increase the number of iterations. Duality gap: 60729.07754953043, tolerance: 14.151416793893134\n",
      "  model = cd_fast.enet_coordinate_descent(\n",
      "/Users/annafunsten/opt/anaconda3/lib/python3.8/site-packages/sklearn/linear_model/_coordinate_descent.py:530: ConvergenceWarning: Objective did not converge. You might want to increase the number of iterations. Duality gap: 62285.39214285018, tolerance: 14.466252519083973\n",
      "  model = cd_fast.enet_coordinate_descent(\n",
      "/Users/annafunsten/opt/anaconda3/lib/python3.8/site-packages/sklearn/linear_model/_coordinate_descent.py:530: ConvergenceWarning: Objective did not converge. You might want to increase the number of iterations. Duality gap: 61000.7010172733, tolerance: 14.412267786259543\n",
      "  model = cd_fast.enet_coordinate_descent(\n",
      "/Users/annafunsten/opt/anaconda3/lib/python3.8/site-packages/sklearn/linear_model/_coordinate_descent.py:530: ConvergenceWarning: Objective did not converge. You might want to increase the number of iterations. Duality gap: 59771.685535589626, tolerance: 14.324699847560977\n",
      "  model = cd_fast.enet_coordinate_descent(\n",
      "/Users/annafunsten/opt/anaconda3/lib/python3.8/site-packages/sklearn/linear_model/_coordinate_descent.py:530: ConvergenceWarning: Objective did not converge. You might want to increase the number of iterations. Duality gap: 62306.12106363755, tolerance: 14.151416793893134\n",
      "  model = cd_fast.enet_coordinate_descent(\n",
      "/Users/annafunsten/opt/anaconda3/lib/python3.8/site-packages/sklearn/linear_model/_coordinate_descent.py:530: ConvergenceWarning: Objective did not converge. You might want to increase the number of iterations. Duality gap: 64044.78744593268, tolerance: 14.466252519083973\n",
      "  model = cd_fast.enet_coordinate_descent(\n",
      "/Users/annafunsten/opt/anaconda3/lib/python3.8/site-packages/sklearn/linear_model/_coordinate_descent.py:530: ConvergenceWarning: Objective did not converge. You might want to increase the number of iterations. Duality gap: 65379.894259693516, tolerance: 14.412267786259543\n",
      "  model = cd_fast.enet_coordinate_descent(\n",
      "/Users/annafunsten/opt/anaconda3/lib/python3.8/site-packages/sklearn/linear_model/_coordinate_descent.py:530: ConvergenceWarning: Objective did not converge. You might want to increase the number of iterations. Duality gap: 63658.24413235721, tolerance: 14.324699847560977\n",
      "  model = cd_fast.enet_coordinate_descent(\n",
      "/Users/annafunsten/opt/anaconda3/lib/python3.8/site-packages/sklearn/linear_model/_coordinate_descent.py:530: ConvergenceWarning: Objective did not converge. You might want to increase the number of iterations. Duality gap: 68595.66422617326, tolerance: 14.151416793893134\n",
      "  model = cd_fast.enet_coordinate_descent(\n",
      "/Users/annafunsten/opt/anaconda3/lib/python3.8/site-packages/sklearn/linear_model/_coordinate_descent.py:530: ConvergenceWarning: Objective did not converge. You might want to increase the number of iterations. Duality gap: 70171.03992511866, tolerance: 14.466252519083973\n",
      "  model = cd_fast.enet_coordinate_descent(\n",
      "/Users/annafunsten/opt/anaconda3/lib/python3.8/site-packages/sklearn/linear_model/_coordinate_descent.py:530: ConvergenceWarning: Objective did not converge. You might want to increase the number of iterations. Duality gap: 69873.28342681688, tolerance: 14.412267786259543\n",
      "  model = cd_fast.enet_coordinate_descent(\n",
      "/Users/annafunsten/opt/anaconda3/lib/python3.8/site-packages/sklearn/linear_model/_coordinate_descent.py:530: ConvergenceWarning: Objective did not converge. You might want to increase the number of iterations. Duality gap: 64769.35579551374, tolerance: 13.341787175572518\n",
      "  model = cd_fast.enet_coordinate_descent(\n",
      "/Users/annafunsten/opt/anaconda3/lib/python3.8/site-packages/sklearn/linear_model/_coordinate_descent.py:530: ConvergenceWarning: Objective did not converge. You might want to increase the number of iterations. Duality gap: 69578.92208258201, tolerance: 14.324699847560977\n",
      "  model = cd_fast.enet_coordinate_descent(\n",
      "/Users/annafunsten/opt/anaconda3/lib/python3.8/site-packages/sklearn/linear_model/_coordinate_descent.py:530: ConvergenceWarning: Objective did not converge. You might want to increase the number of iterations. Duality gap: 68732.58960927154, tolerance: 14.151416793893134\n",
      "  model = cd_fast.enet_coordinate_descent(\n",
      "/Users/annafunsten/opt/anaconda3/lib/python3.8/site-packages/sklearn/linear_model/_coordinate_descent.py:530: ConvergenceWarning: Objective did not converge. You might want to increase the number of iterations. Duality gap: 70184.18831367615, tolerance: 14.466252519083973\n",
      "  model = cd_fast.enet_coordinate_descent(\n",
      "/Users/annafunsten/opt/anaconda3/lib/python3.8/site-packages/sklearn/linear_model/_coordinate_descent.py:530: ConvergenceWarning: Objective did not converge. You might want to increase the number of iterations. Duality gap: 69880.56928694734, tolerance: 14.412267786259543\n",
      "  model = cd_fast.enet_coordinate_descent(\n",
      "/Users/annafunsten/opt/anaconda3/lib/python3.8/site-packages/sklearn/linear_model/_coordinate_descent.py:530: ConvergenceWarning: Objective did not converge. You might want to increase the number of iterations. Duality gap: 64780.58614479617, tolerance: 13.341787175572518\n",
      "  model = cd_fast.enet_coordinate_descent(\n",
      "/Users/annafunsten/opt/anaconda3/lib/python3.8/site-packages/sklearn/linear_model/_coordinate_descent.py:530: ConvergenceWarning: Objective did not converge. You might want to increase the number of iterations. Duality gap: 69726.51181639488, tolerance: 14.324699847560977\n",
      "  model = cd_fast.enet_coordinate_descent(\n",
      "/Users/annafunsten/opt/anaconda3/lib/python3.8/site-packages/sklearn/linear_model/_coordinate_descent.py:530: ConvergenceWarning: Objective did not converge. You might want to increase the number of iterations. Duality gap: 68884.56825828935, tolerance: 14.151416793893134\n",
      "  model = cd_fast.enet_coordinate_descent(\n",
      "/Users/annafunsten/opt/anaconda3/lib/python3.8/site-packages/sklearn/linear_model/_coordinate_descent.py:530: ConvergenceWarning: Objective did not converge. You might want to increase the number of iterations. Duality gap: 70479.92525946017, tolerance: 14.466252519083973\n",
      "  model = cd_fast.enet_coordinate_descent(\n",
      "/Users/annafunsten/opt/anaconda3/lib/python3.8/site-packages/sklearn/linear_model/_coordinate_descent.py:530: ConvergenceWarning: Objective did not converge. You might want to increase the number of iterations. Duality gap: 70375.2675823185, tolerance: 14.412267786259543\n",
      "  model = cd_fast.enet_coordinate_descent(\n",
      "/Users/annafunsten/opt/anaconda3/lib/python3.8/site-packages/sklearn/linear_model/_coordinate_descent.py:530: ConvergenceWarning: Objective did not converge. You might want to increase the number of iterations. Duality gap: 65023.66538959769, tolerance: 13.341787175572518\n",
      "  model = cd_fast.enet_coordinate_descent(\n",
      "/Users/annafunsten/opt/anaconda3/lib/python3.8/site-packages/sklearn/linear_model/_coordinate_descent.py:530: ConvergenceWarning: Objective did not converge. You might want to increase the number of iterations. Duality gap: 70090.12332781382, tolerance: 14.324699847560977\n",
      "  model = cd_fast.enet_coordinate_descent(\n",
      "/Users/annafunsten/opt/anaconda3/lib/python3.8/site-packages/sklearn/linear_model/_coordinate_descent.py:530: ConvergenceWarning: Objective did not converge. You might want to increase the number of iterations. Duality gap: 69463.00848647217, tolerance: 14.151416793893134\n",
      "  model = cd_fast.enet_coordinate_descent(\n",
      "/Users/annafunsten/opt/anaconda3/lib/python3.8/site-packages/sklearn/linear_model/_coordinate_descent.py:530: ConvergenceWarning: Objective did not converge. You might want to increase the number of iterations. Duality gap: 71033.2841463118, tolerance: 14.466252519083973\n",
      "  model = cd_fast.enet_coordinate_descent(\n",
      "/Users/annafunsten/opt/anaconda3/lib/python3.8/site-packages/sklearn/linear_model/_coordinate_descent.py:530: ConvergenceWarning: Objective did not converge. You might want to increase the number of iterations. Duality gap: 70697.1659825294, tolerance: 14.412267786259543\n",
      "  model = cd_fast.enet_coordinate_descent(\n",
      "/Users/annafunsten/opt/anaconda3/lib/python3.8/site-packages/sklearn/linear_model/_coordinate_descent.py:530: ConvergenceWarning: Objective did not converge. You might want to increase the number of iterations. Duality gap: 65541.03304977264, tolerance: 13.341787175572518\n",
      "  model = cd_fast.enet_coordinate_descent(\n",
      "/Users/annafunsten/opt/anaconda3/lib/python3.8/site-packages/sklearn/linear_model/_coordinate_descent.py:530: ConvergenceWarning: Objective did not converge. You might want to increase the number of iterations. Duality gap: 70095.64198986297, tolerance: 14.324699847560977\n",
      "  model = cd_fast.enet_coordinate_descent(\n",
      "/Users/annafunsten/opt/anaconda3/lib/python3.8/site-packages/sklearn/linear_model/_coordinate_descent.py:530: ConvergenceWarning: Objective did not converge. You might want to increase the number of iterations. Duality gap: 69713.70514367707, tolerance: 14.151416793893134\n",
      "  model = cd_fast.enet_coordinate_descent(\n",
      "/Users/annafunsten/opt/anaconda3/lib/python3.8/site-packages/sklearn/linear_model/_coordinate_descent.py:530: ConvergenceWarning: Objective did not converge. You might want to increase the number of iterations. Duality gap: 71305.99329706759, tolerance: 14.466252519083973\n",
      "  model = cd_fast.enet_coordinate_descent(\n",
      "/Users/annafunsten/opt/anaconda3/lib/python3.8/site-packages/sklearn/linear_model/_coordinate_descent.py:530: ConvergenceWarning: Objective did not converge. You might want to increase the number of iterations. Duality gap: 71298.75481717924, tolerance: 14.412267786259543\n",
      "  model = cd_fast.enet_coordinate_descent(\n",
      "/Users/annafunsten/opt/anaconda3/lib/python3.8/site-packages/sklearn/linear_model/_coordinate_descent.py:530: ConvergenceWarning: Objective did not converge. You might want to increase the number of iterations. Duality gap: 70647.47628123207, tolerance: 14.324699847560977\n",
      "  model = cd_fast.enet_coordinate_descent(\n",
      "/Users/annafunsten/opt/anaconda3/lib/python3.8/site-packages/sklearn/linear_model/_coordinate_descent.py:530: ConvergenceWarning: Objective did not converge. You might want to increase the number of iterations. Duality gap: 70530.34567929961, tolerance: 14.151416793893134\n",
      "  model = cd_fast.enet_coordinate_descent(\n",
      "/Users/annafunsten/opt/anaconda3/lib/python3.8/site-packages/sklearn/linear_model/_coordinate_descent.py:530: ConvergenceWarning: Objective did not converge. You might want to increase the number of iterations. Duality gap: 72104.4840756782, tolerance: 14.466252519083973\n",
      "  model = cd_fast.enet_coordinate_descent(\n",
      "/Users/annafunsten/opt/anaconda3/lib/python3.8/site-packages/sklearn/linear_model/_coordinate_descent.py:530: ConvergenceWarning: Objective did not converge. You might want to increase the number of iterations. Duality gap: 71831.71198682854, tolerance: 14.412267786259543\n",
      "  model = cd_fast.enet_coordinate_descent(\n",
      "/Users/annafunsten/opt/anaconda3/lib/python3.8/site-packages/sklearn/linear_model/_coordinate_descent.py:530: ConvergenceWarning: Objective did not converge. You might want to increase the number of iterations. Duality gap: 66505.58312383738, tolerance: 13.341787175572518\n",
      "  model = cd_fast.enet_coordinate_descent(\n",
      "/Users/annafunsten/opt/anaconda3/lib/python3.8/site-packages/sklearn/linear_model/_coordinate_descent.py:530: ConvergenceWarning: Objective did not converge. You might want to increase the number of iterations. Duality gap: 71409.27058201181, tolerance: 14.324699847560977\n",
      "  model = cd_fast.enet_coordinate_descent(\n",
      "/Users/annafunsten/opt/anaconda3/lib/python3.8/site-packages/sklearn/linear_model/_coordinate_descent.py:530: ConvergenceWarning: Objective did not converge. You might want to increase the number of iterations. Duality gap: 70545.69240673506, tolerance: 14.151416793893134\n",
      "  model = cd_fast.enet_coordinate_descent(\n",
      "/Users/annafunsten/opt/anaconda3/lib/python3.8/site-packages/sklearn/linear_model/_coordinate_descent.py:530: ConvergenceWarning: Objective did not converge. You might want to increase the number of iterations. Duality gap: 72106.02776184316, tolerance: 14.466252519083973\n",
      "  model = cd_fast.enet_coordinate_descent(\n",
      "/Users/annafunsten/opt/anaconda3/lib/python3.8/site-packages/sklearn/linear_model/_coordinate_descent.py:530: ConvergenceWarning: Objective did not converge. You might want to increase the number of iterations. Duality gap: 71832.63220578438, tolerance: 14.412267786259543\n",
      "  model = cd_fast.enet_coordinate_descent(\n",
      "/Users/annafunsten/opt/anaconda3/lib/python3.8/site-packages/sklearn/linear_model/_coordinate_descent.py:530: ConvergenceWarning: Objective did not converge. You might want to increase the number of iterations. Duality gap: 66506.94550764588, tolerance: 13.341787175572518\n",
      "  model = cd_fast.enet_coordinate_descent(\n",
      "/Users/annafunsten/opt/anaconda3/lib/python3.8/site-packages/sklearn/linear_model/_coordinate_descent.py:530: ConvergenceWarning: Objective did not converge. You might want to increase the number of iterations. Duality gap: 71425.70913313831, tolerance: 14.324699847560977\n",
      "  model = cd_fast.enet_coordinate_descent(\n",
      "/Users/annafunsten/opt/anaconda3/lib/python3.8/site-packages/sklearn/linear_model/_coordinate_descent.py:530: ConvergenceWarning: Objective did not converge. You might want to increase the number of iterations. Duality gap: 70562.50177507421, tolerance: 14.151416793893134\n",
      "  model = cd_fast.enet_coordinate_descent(\n",
      "/Users/annafunsten/opt/anaconda3/lib/python3.8/site-packages/sklearn/linear_model/_coordinate_descent.py:530: ConvergenceWarning: Objective did not converge. You might want to increase the number of iterations. Duality gap: 72138.9070293691, tolerance: 14.466252519083973\n",
      "  model = cd_fast.enet_coordinate_descent(\n",
      "/Users/annafunsten/opt/anaconda3/lib/python3.8/site-packages/sklearn/linear_model/_coordinate_descent.py:530: ConvergenceWarning: Objective did not converge. You might want to increase the number of iterations. Duality gap: 71887.08470269694, tolerance: 14.412267786259543\n",
      "  model = cd_fast.enet_coordinate_descent(\n",
      "/Users/annafunsten/opt/anaconda3/lib/python3.8/site-packages/sklearn/linear_model/_coordinate_descent.py:530: ConvergenceWarning: Objective did not converge. You might want to increase the number of iterations. Duality gap: 66533.88444823102, tolerance: 13.341787175572518\n",
      "  model = cd_fast.enet_coordinate_descent(\n",
      "/Users/annafunsten/opt/anaconda3/lib/python3.8/site-packages/sklearn/linear_model/_coordinate_descent.py:530: ConvergenceWarning: Objective did not converge. You might want to increase the number of iterations. Duality gap: 71465.40823877112, tolerance: 14.324699847560977\n",
      "  model = cd_fast.enet_coordinate_descent(\n",
      "/Users/annafunsten/opt/anaconda3/lib/python3.8/site-packages/sklearn/linear_model/_coordinate_descent.py:530: ConvergenceWarning: Objective did not converge. You might want to increase the number of iterations. Duality gap: 70623.66037463713, tolerance: 14.151416793893134\n",
      "  model = cd_fast.enet_coordinate_descent(\n",
      "/Users/annafunsten/opt/anaconda3/lib/python3.8/site-packages/sklearn/linear_model/_coordinate_descent.py:530: ConvergenceWarning: Objective did not converge. You might want to increase the number of iterations. Duality gap: 72197.40876213992, tolerance: 14.466252519083973\n",
      "  model = cd_fast.enet_coordinate_descent(\n",
      "/Users/annafunsten/opt/anaconda3/lib/python3.8/site-packages/sklearn/linear_model/_coordinate_descent.py:530: ConvergenceWarning: Objective did not converge. You might want to increase the number of iterations. Duality gap: 71921.62275628903, tolerance: 14.412267786259543\n",
      "  model = cd_fast.enet_coordinate_descent(\n",
      "/Users/annafunsten/opt/anaconda3/lib/python3.8/site-packages/sklearn/linear_model/_coordinate_descent.py:530: ConvergenceWarning: Objective did not converge. You might want to increase the number of iterations. Duality gap: 66588.58204356814, tolerance: 13.341787175572518\n",
      "  model = cd_fast.enet_coordinate_descent(\n",
      "/Users/annafunsten/opt/anaconda3/lib/python3.8/site-packages/sklearn/linear_model/_coordinate_descent.py:530: ConvergenceWarning: Objective did not converge. You might want to increase the number of iterations. Duality gap: 71466.05684477945, tolerance: 14.324699847560977\n",
      "  model = cd_fast.enet_coordinate_descent(\n",
      "/Users/annafunsten/opt/anaconda3/lib/python3.8/site-packages/sklearn/linear_model/_coordinate_descent.py:530: ConvergenceWarning: Objective did not converge. You might want to increase the number of iterations. Duality gap: 70650.16070206017, tolerance: 14.151416793893134\n",
      "  model = cd_fast.enet_coordinate_descent(\n",
      "/Users/annafunsten/opt/anaconda3/lib/python3.8/site-packages/sklearn/linear_model/_coordinate_descent.py:530: ConvergenceWarning: Objective did not converge. You might want to increase the number of iterations. Duality gap: 72226.16458779827, tolerance: 14.466252519083973\n",
      "  model = cd_fast.enet_coordinate_descent(\n",
      "/Users/annafunsten/opt/anaconda3/lib/python3.8/site-packages/sklearn/linear_model/_coordinate_descent.py:530: ConvergenceWarning: Objective did not converge. You might want to increase the number of iterations. Duality gap: 71983.95847392104, tolerance: 14.412267786259543\n",
      "  model = cd_fast.enet_coordinate_descent(\n",
      "/Users/annafunsten/opt/anaconda3/lib/python3.8/site-packages/sklearn/linear_model/_coordinate_descent.py:530: ConvergenceWarning: Objective did not converge. You might want to increase the number of iterations. Duality gap: 66609.36589695384, tolerance: 13.341787175572518\n",
      "  model = cd_fast.enet_coordinate_descent(\n",
      "/Users/annafunsten/opt/anaconda3/lib/python3.8/site-packages/sklearn/linear_model/_coordinate_descent.py:530: ConvergenceWarning: Objective did not converge. You might want to increase the number of iterations. Duality gap: 71523.56917233634, tolerance: 14.324699847560977\n",
      "  model = cd_fast.enet_coordinate_descent(\n"
     ]
    },
    {
     "name": "stdout",
     "output_type": "stream",
     "text": [
      "0.841902149115362\n",
      "0.8242945031363862\n",
      "root mean sqaured error is 6.829880681065509, r squared is 0.8242945031363862, and mean absolute error is 4.817008216033618\n"
     ]
    },
    {
     "name": "stderr",
     "output_type": "stream",
     "text": [
      "/Users/annafunsten/opt/anaconda3/lib/python3.8/site-packages/sklearn/linear_model/_coordinate_descent.py:530: ConvergenceWarning: Objective did not converge. You might want to increase the number of iterations. Duality gap: 1104.1417241560848, tolerance: 17.676049328449327\n",
      "  model = cd_fast.enet_coordinate_descent(\n"
     ]
    },
    {
     "data": {
      "text/plain": [
       "{'elasticnet__alpha': 0.01,\n",
       " 'elasticnet__l1_ratio': 1,\n",
       " 'rfe__n_features_to_select': 17}"
      ]
     },
     "execution_count": 29,
     "metadata": {},
     "output_type": "execute_result"
    }
   ],
   "source": [
    "pipe5 = make_pipeline(KNNImputer(),StandardScaler(), RFE(estimator=LinearRegression()), ElasticNet())\n",
    "params = {'rfe__n_features_to_select': [17, 15, 10, 8, 5],\n",
    "          'elasticnet__alpha': [.01, .1 ,1 ,10 ,100, 1000],\n",
    "          'elasticnet__l1_ratio': [0, .2, .4 , .6, .8, 1]\n",
    "         }\n",
    "gs5 = GridSearchCV(pipe5, params, n_jobs=1)\n",
    "gs5.fit(X_train, y_train)\n",
    "print(gs5.score(X_train, y_train))\n",
    "print(gs5.score(X_test, y_test))\n",
    "predict5 = gs5.predict(X_test)\n",
    "print(errors(y_test, predict5))\n",
    "gs5.best_params_"
   ]
  },
  {
   "cell_type": "code",
   "execution_count": 30,
   "metadata": {
    "tags": []
   },
   "outputs": [
    {
     "data": {
      "text/html": [
       "<div>\n",
       "<style scoped>\n",
       "    .dataframe tbody tr th:only-of-type {\n",
       "        vertical-align: middle;\n",
       "    }\n",
       "\n",
       "    .dataframe tbody tr th {\n",
       "        vertical-align: top;\n",
       "    }\n",
       "\n",
       "    .dataframe thead th {\n",
       "        text-align: right;\n",
       "    }\n",
       "</style>\n",
       "<table border=\"1\" class=\"dataframe\">\n",
       "  <thead>\n",
       "    <tr style=\"text-align: right;\">\n",
       "      <th></th>\n",
       "      <th>name</th>\n",
       "      <th>coef</th>\n",
       "    </tr>\n",
       "  </thead>\n",
       "  <tbody>\n",
       "    <tr>\n",
       "      <th>8</th>\n",
       "      <td>pm2.5_mean</td>\n",
       "      <td>15.833849</td>\n",
       "    </tr>\n",
       "    <tr>\n",
       "      <th>5</th>\n",
       "      <td>ozone_aqi_val</td>\n",
       "      <td>12.379038</td>\n",
       "    </tr>\n",
       "    <tr>\n",
       "      <th>10</th>\n",
       "      <td>so2_max</td>\n",
       "      <td>9.494319</td>\n",
       "    </tr>\n",
       "    <tr>\n",
       "      <th>6</th>\n",
       "      <td>pm10_mean</td>\n",
       "      <td>2.106374</td>\n",
       "    </tr>\n",
       "    <tr>\n",
       "      <th>16</th>\n",
       "      <td>weekday</td>\n",
       "      <td>0.408611</td>\n",
       "    </tr>\n",
       "    <tr>\n",
       "      <th>2</th>\n",
       "      <td>no2_max</td>\n",
       "      <td>0.398286</td>\n",
       "    </tr>\n",
       "    <tr>\n",
       "      <th>13</th>\n",
       "      <td>temp_low</td>\n",
       "      <td>0.247656</td>\n",
       "    </tr>\n",
       "    <tr>\n",
       "      <th>3</th>\n",
       "      <td>no2_aqi_val</td>\n",
       "      <td>0.000000</td>\n",
       "    </tr>\n",
       "    <tr>\n",
       "      <th>1</th>\n",
       "      <td>co_aqi_val</td>\n",
       "      <td>0.000000</td>\n",
       "    </tr>\n",
       "    <tr>\n",
       "      <th>14</th>\n",
       "      <td>temp_avg</td>\n",
       "      <td>-0.000000</td>\n",
       "    </tr>\n",
       "    <tr>\n",
       "      <th>0</th>\n",
       "      <td>co_max</td>\n",
       "      <td>-0.419780</td>\n",
       "    </tr>\n",
       "    <tr>\n",
       "      <th>15</th>\n",
       "      <td>month</td>\n",
       "      <td>-0.672960</td>\n",
       "    </tr>\n",
       "    <tr>\n",
       "      <th>12</th>\n",
       "      <td>temp_high</td>\n",
       "      <td>-0.965993</td>\n",
       "    </tr>\n",
       "    <tr>\n",
       "      <th>7</th>\n",
       "      <td>pm10_aqi_val</td>\n",
       "      <td>-1.785654</td>\n",
       "    </tr>\n",
       "    <tr>\n",
       "      <th>9</th>\n",
       "      <td>pm2.5_aqi_val</td>\n",
       "      <td>-4.262565</td>\n",
       "    </tr>\n",
       "    <tr>\n",
       "      <th>11</th>\n",
       "      <td>so2_aqi_val</td>\n",
       "      <td>-7.781095</td>\n",
       "    </tr>\n",
       "    <tr>\n",
       "      <th>4</th>\n",
       "      <td>ozone_max</td>\n",
       "      <td>-7.866906</td>\n",
       "    </tr>\n",
       "  </tbody>\n",
       "</table>\n",
       "</div>"
      ],
      "text/plain": [
       "             name       coef\n",
       "8      pm2.5_mean  15.833849\n",
       "5   ozone_aqi_val  12.379038\n",
       "10        so2_max   9.494319\n",
       "6       pm10_mean   2.106374\n",
       "16        weekday   0.408611\n",
       "2         no2_max   0.398286\n",
       "13       temp_low   0.247656\n",
       "3     no2_aqi_val   0.000000\n",
       "1      co_aqi_val   0.000000\n",
       "14       temp_avg  -0.000000\n",
       "0          co_max  -0.419780\n",
       "15          month  -0.672960\n",
       "12      temp_high  -0.965993\n",
       "7    pm10_aqi_val  -1.785654\n",
       "9   pm2.5_aqi_val  -4.262565\n",
       "11    so2_aqi_val  -7.781095\n",
       "4       ozone_max  -7.866906"
      ]
     },
     "execution_count": 30,
     "metadata": {},
     "output_type": "execute_result"
    }
   ],
   "source": [
    "coef = gs5.best_estimator_['elasticnet'].coef_\n",
    "\n",
    "name = X_train.columns\n",
    "importance = pd.DataFrame(zip(name, coef), columns=['name', 'coef']).sort_values(by='coef', ascending=False)\n",
    "importance"
   ]
  },
  {
   "cell_type": "markdown",
   "metadata": {},
   "source": [
    "## Model 6: Linear Regression with Limited Features\n",
    "[(back to top)](#Regression-Modeling)"
   ]
  },
  {
   "cell_type": "markdown",
   "metadata": {},
   "source": [
    "to reduce mulitcolinearity will take out readings for each pollutant AQI, and low and high temp."
   ]
  },
  {
   "cell_type": "code",
   "execution_count": 31,
   "metadata": {},
   "outputs": [],
   "source": [
    "X = df.drop(columns = ['cumulative_aqi', 'temp_high', 'temp_low', 'co_aqi_val', 'no2_aqi_val', 'pm10_aqi_val', 'pm2.5_aqi_val', 'so2_aqi_val', 'ozone_aqi_val'])\n",
    "y = df['cumulative_aqi']"
   ]
  },
  {
   "cell_type": "code",
   "execution_count": 32,
   "metadata": {},
   "outputs": [
    {
     "data": {
      "text/html": [
       "<div>\n",
       "<style scoped>\n",
       "    .dataframe tbody tr th:only-of-type {\n",
       "        vertical-align: middle;\n",
       "    }\n",
       "\n",
       "    .dataframe tbody tr th {\n",
       "        vertical-align: top;\n",
       "    }\n",
       "\n",
       "    .dataframe thead th {\n",
       "        text-align: right;\n",
       "    }\n",
       "</style>\n",
       "<table border=\"1\" class=\"dataframe\">\n",
       "  <thead>\n",
       "    <tr style=\"text-align: right;\">\n",
       "      <th></th>\n",
       "      <th>co_max</th>\n",
       "      <th>no2_max</th>\n",
       "      <th>ozone_max</th>\n",
       "      <th>pm10_mean</th>\n",
       "      <th>pm2.5_mean</th>\n",
       "      <th>so2_max</th>\n",
       "      <th>temp_avg</th>\n",
       "      <th>month</th>\n",
       "      <th>weekday</th>\n",
       "    </tr>\n",
       "    <tr>\n",
       "      <th>date</th>\n",
       "      <th></th>\n",
       "      <th></th>\n",
       "      <th></th>\n",
       "      <th></th>\n",
       "      <th></th>\n",
       "      <th></th>\n",
       "      <th></th>\n",
       "      <th></th>\n",
       "      <th></th>\n",
       "    </tr>\n",
       "  </thead>\n",
       "  <tbody>\n",
       "    <tr>\n",
       "      <th>2017-01-01</th>\n",
       "      <td>0.5</td>\n",
       "      <td>36.0</td>\n",
       "      <td>0.026</td>\n",
       "      <td>21.0</td>\n",
       "      <td>9.6</td>\n",
       "      <td>5.0</td>\n",
       "      <td>35.0</td>\n",
       "      <td>1</td>\n",
       "      <td>6</td>\n",
       "    </tr>\n",
       "    <tr>\n",
       "      <th>2017-01-02</th>\n",
       "      <td>0.5</td>\n",
       "      <td>33.0</td>\n",
       "      <td>0.009</td>\n",
       "      <td>18.0</td>\n",
       "      <td>14.1</td>\n",
       "      <td>2.0</td>\n",
       "      <td>42.0</td>\n",
       "      <td>1</td>\n",
       "      <td>0</td>\n",
       "    </tr>\n",
       "    <tr>\n",
       "      <th>2017-01-03</th>\n",
       "      <td>0.4</td>\n",
       "      <td>24.0</td>\n",
       "      <td>0.015</td>\n",
       "      <td>9.0</td>\n",
       "      <td>7.7</td>\n",
       "      <td>0.0</td>\n",
       "      <td>45.0</td>\n",
       "      <td>1</td>\n",
       "      <td>1</td>\n",
       "    </tr>\n",
       "    <tr>\n",
       "      <th>2017-01-04</th>\n",
       "      <td>0.2</td>\n",
       "      <td>NaN</td>\n",
       "      <td>0.027</td>\n",
       "      <td>19.0</td>\n",
       "      <td>4.6</td>\n",
       "      <td>0.0</td>\n",
       "      <td>30.0</td>\n",
       "      <td>1</td>\n",
       "      <td>2</td>\n",
       "    </tr>\n",
       "    <tr>\n",
       "      <th>2017-01-05</th>\n",
       "      <td>NaN</td>\n",
       "      <td>19.0</td>\n",
       "      <td>0.020</td>\n",
       "      <td>11.0</td>\n",
       "      <td>5.3</td>\n",
       "      <td>0.0</td>\n",
       "      <td>17.0</td>\n",
       "      <td>1</td>\n",
       "      <td>3</td>\n",
       "    </tr>\n",
       "    <tr>\n",
       "      <th>...</th>\n",
       "      <td>...</td>\n",
       "      <td>...</td>\n",
       "      <td>...</td>\n",
       "      <td>...</td>\n",
       "      <td>...</td>\n",
       "      <td>...</td>\n",
       "      <td>...</td>\n",
       "      <td>...</td>\n",
       "      <td>...</td>\n",
       "    </tr>\n",
       "    <tr>\n",
       "      <th>2019-12-27</th>\n",
       "      <td>0.2</td>\n",
       "      <td>9.0</td>\n",
       "      <td>0.022</td>\n",
       "      <td>14.0</td>\n",
       "      <td>11.3</td>\n",
       "      <td>0.0</td>\n",
       "      <td>50.5</td>\n",
       "      <td>12</td>\n",
       "      <td>4</td>\n",
       "    </tr>\n",
       "    <tr>\n",
       "      <th>2019-12-28</th>\n",
       "      <td>0.4</td>\n",
       "      <td>24.0</td>\n",
       "      <td>0.016</td>\n",
       "      <td>19.0</td>\n",
       "      <td>20.9</td>\n",
       "      <td>1.0</td>\n",
       "      <td>42.0</td>\n",
       "      <td>12</td>\n",
       "      <td>5</td>\n",
       "    </tr>\n",
       "    <tr>\n",
       "      <th>2019-12-29</th>\n",
       "      <td>0.4</td>\n",
       "      <td>12.0</td>\n",
       "      <td>0.018</td>\n",
       "      <td>20.0</td>\n",
       "      <td>13.7</td>\n",
       "      <td>1.0</td>\n",
       "      <td>50.0</td>\n",
       "      <td>12</td>\n",
       "      <td>6</td>\n",
       "    </tr>\n",
       "    <tr>\n",
       "      <th>2019-12-30</th>\n",
       "      <td>0.3</td>\n",
       "      <td>4.0</td>\n",
       "      <td>0.027</td>\n",
       "      <td>6.0</td>\n",
       "      <td>NaN</td>\n",
       "      <td>1.0</td>\n",
       "      <td>49.5</td>\n",
       "      <td>12</td>\n",
       "      <td>0</td>\n",
       "    </tr>\n",
       "    <tr>\n",
       "      <th>2019-12-31</th>\n",
       "      <td>0.2</td>\n",
       "      <td>5.0</td>\n",
       "      <td>NaN</td>\n",
       "      <td>7.0</td>\n",
       "      <td>2.0</td>\n",
       "      <td>0.0</td>\n",
       "      <td>34.0</td>\n",
       "      <td>12</td>\n",
       "      <td>1</td>\n",
       "    </tr>\n",
       "  </tbody>\n",
       "</table>\n",
       "<p>1093 rows × 9 columns</p>\n",
       "</div>"
      ],
      "text/plain": [
       "            co_max  no2_max  ozone_max  pm10_mean  pm2.5_mean  so2_max  \\\n",
       "date                                                                     \n",
       "2017-01-01     0.5     36.0      0.026       21.0         9.6      5.0   \n",
       "2017-01-02     0.5     33.0      0.009       18.0        14.1      2.0   \n",
       "2017-01-03     0.4     24.0      0.015        9.0         7.7      0.0   \n",
       "2017-01-04     0.2      NaN      0.027       19.0         4.6      0.0   \n",
       "2017-01-05     NaN     19.0      0.020       11.0         5.3      0.0   \n",
       "...            ...      ...        ...        ...         ...      ...   \n",
       "2019-12-27     0.2      9.0      0.022       14.0        11.3      0.0   \n",
       "2019-12-28     0.4     24.0      0.016       19.0        20.9      1.0   \n",
       "2019-12-29     0.4     12.0      0.018       20.0        13.7      1.0   \n",
       "2019-12-30     0.3      4.0      0.027        6.0         NaN      1.0   \n",
       "2019-12-31     0.2      5.0        NaN        7.0         2.0      0.0   \n",
       "\n",
       "            temp_avg month weekday  \n",
       "date                                \n",
       "2017-01-01      35.0     1       6  \n",
       "2017-01-02      42.0     1       0  \n",
       "2017-01-03      45.0     1       1  \n",
       "2017-01-04      30.0     1       2  \n",
       "2017-01-05      17.0     1       3  \n",
       "...              ...   ...     ...  \n",
       "2019-12-27      50.5    12       4  \n",
       "2019-12-28      42.0    12       5  \n",
       "2019-12-29      50.0    12       6  \n",
       "2019-12-30      49.5    12       0  \n",
       "2019-12-31      34.0    12       1  \n",
       "\n",
       "[1093 rows x 9 columns]"
      ]
     },
     "execution_count": 32,
     "metadata": {},
     "output_type": "execute_result"
    }
   ],
   "source": [
    "X"
   ]
  },
  {
   "cell_type": "code",
   "execution_count": 33,
   "metadata": {},
   "outputs": [],
   "source": [
    "X_train, X_test, y_train, y_test = train_test_split(X, y)"
   ]
  },
  {
   "cell_type": "code",
   "execution_count": 34,
   "metadata": {},
   "outputs": [],
   "source": [
    "pipe6 = make_pipeline(KNNImputer(), StandardScaler(), LinearRegression())"
   ]
  },
  {
   "cell_type": "code",
   "execution_count": 35,
   "metadata": {},
   "outputs": [
    {
     "data": {
      "text/plain": [
       "Pipeline(steps=[('knnimputer', KNNImputer()),\n",
       "                ('standardscaler', StandardScaler()),\n",
       "                ('linearregression', LinearRegression())])"
      ]
     },
     "execution_count": 35,
     "metadata": {},
     "output_type": "execute_result"
    }
   ],
   "source": [
    "pipe6.fit(X_train, y_train)"
   ]
  },
  {
   "cell_type": "code",
   "execution_count": 36,
   "metadata": {},
   "outputs": [
    {
     "data": {
      "text/plain": [
       "array([0.83443668, 0.71303178, 0.71037071, 0.78551196, 0.78701554])"
      ]
     },
     "execution_count": 36,
     "metadata": {},
     "output_type": "execute_result"
    }
   ],
   "source": [
    "cross_val_score(pipe6, X_train, y_train)"
   ]
  },
  {
   "cell_type": "code",
   "execution_count": 37,
   "metadata": {},
   "outputs": [],
   "source": [
    "predict6 = pipe6.predict(X_test)"
   ]
  },
  {
   "cell_type": "code",
   "execution_count": 38,
   "metadata": {},
   "outputs": [
    {
     "data": {
      "text/plain": [
       "'root mean sqaured error is 7.133285417833726, r squared is 0.7897587432870873, and mean absolute error is 4.824681289540676'"
      ]
     },
     "execution_count": 38,
     "metadata": {},
     "output_type": "execute_result"
    }
   ],
   "source": [
    "errors(y_test, predict6)"
   ]
  },
  {
   "cell_type": "code",
   "execution_count": 39,
   "metadata": {},
   "outputs": [
    {
     "data": {
      "text/html": [
       "<div>\n",
       "<style scoped>\n",
       "    .dataframe tbody tr th:only-of-type {\n",
       "        vertical-align: middle;\n",
       "    }\n",
       "\n",
       "    .dataframe tbody tr th {\n",
       "        vertical-align: top;\n",
       "    }\n",
       "\n",
       "    .dataframe thead th {\n",
       "        text-align: right;\n",
       "    }\n",
       "</style>\n",
       "<table border=\"1\" class=\"dataframe\">\n",
       "  <thead>\n",
       "    <tr style=\"text-align: right;\">\n",
       "      <th></th>\n",
       "      <th>name</th>\n",
       "      <th>coef</th>\n",
       "    </tr>\n",
       "  </thead>\n",
       "  <tbody>\n",
       "    <tr>\n",
       "      <th>4</th>\n",
       "      <td>pm2.5_mean</td>\n",
       "      <td>11.800052</td>\n",
       "    </tr>\n",
       "    <tr>\n",
       "      <th>2</th>\n",
       "      <td>ozone_max</td>\n",
       "      <td>4.690606</td>\n",
       "    </tr>\n",
       "    <tr>\n",
       "      <th>5</th>\n",
       "      <td>so2_max</td>\n",
       "      <td>0.796627</td>\n",
       "    </tr>\n",
       "    <tr>\n",
       "      <th>1</th>\n",
       "      <td>no2_max</td>\n",
       "      <td>0.333931</td>\n",
       "    </tr>\n",
       "    <tr>\n",
       "      <th>0</th>\n",
       "      <td>co_max</td>\n",
       "      <td>0.322005</td>\n",
       "    </tr>\n",
       "    <tr>\n",
       "      <th>8</th>\n",
       "      <td>weekday</td>\n",
       "      <td>0.082475</td>\n",
       "    </tr>\n",
       "    <tr>\n",
       "      <th>3</th>\n",
       "      <td>pm10_mean</td>\n",
       "      <td>-0.118835</td>\n",
       "    </tr>\n",
       "    <tr>\n",
       "      <th>7</th>\n",
       "      <td>month</td>\n",
       "      <td>-0.177612</td>\n",
       "    </tr>\n",
       "    <tr>\n",
       "      <th>6</th>\n",
       "      <td>temp_avg</td>\n",
       "      <td>-0.986281</td>\n",
       "    </tr>\n",
       "  </tbody>\n",
       "</table>\n",
       "</div>"
      ],
      "text/plain": [
       "         name       coef\n",
       "4  pm2.5_mean  11.800052\n",
       "2   ozone_max   4.690606\n",
       "5     so2_max   0.796627\n",
       "1     no2_max   0.333931\n",
       "0      co_max   0.322005\n",
       "8     weekday   0.082475\n",
       "3   pm10_mean  -0.118835\n",
       "7       month  -0.177612\n",
       "6    temp_avg  -0.986281"
      ]
     },
     "execution_count": 39,
     "metadata": {},
     "output_type": "execute_result"
    }
   ],
   "source": [
    "coef = pipe6.named_steps['linearregression'].coef_\n",
    "\n",
    "name = X_train.columns\n",
    "\n",
    "importance = pd.DataFrame(zip(name, coef), columns=['name', 'coef']).sort_values(by='coef', ascending=False)\n",
    "importance"
   ]
  },
  {
   "cell_type": "markdown",
   "metadata": {},
   "source": [
    "## Model 7: Elastic Net with Limited Features \n",
    "[(back to top)](#Regression-Modeling)"
   ]
  },
  {
   "cell_type": "code",
   "execution_count": 40,
   "metadata": {
    "collapsed": true,
    "jupyter": {
     "outputs_hidden": true
    },
    "tags": []
   },
   "outputs": [
    {
     "name": "stderr",
     "output_type": "stream",
     "text": [
      "/Users/annafunsten/opt/anaconda3/lib/python3.8/site-packages/sklearn/linear_model/_coordinate_descent.py:530: ConvergenceWarning: Objective did not converge. You might want to increase the number of iterations. Duality gap: 17248.06620486703, tolerance: 14.195571908396946\n",
      "  model = cd_fast.enet_coordinate_descent(\n",
      "/Users/annafunsten/opt/anaconda3/lib/python3.8/site-packages/sklearn/linear_model/_coordinate_descent.py:530: ConvergenceWarning: Objective did not converge. You might want to increase the number of iterations. Duality gap: 15858.942218412378, tolerance: 14.874802137404583\n",
      "  model = cd_fast.enet_coordinate_descent(\n",
      "/Users/annafunsten/opt/anaconda3/lib/python3.8/site-packages/sklearn/linear_model/_coordinate_descent.py:530: ConvergenceWarning: Objective did not converge. You might want to increase the number of iterations. Duality gap: 17032.794211322314, tolerance: 15.281971908396946\n",
      "  model = cd_fast.enet_coordinate_descent(\n",
      "/Users/annafunsten/opt/anaconda3/lib/python3.8/site-packages/sklearn/linear_model/_coordinate_descent.py:530: ConvergenceWarning: Objective did not converge. You might want to increase the number of iterations. Duality gap: 16279.662746286478, tolerance: 14.014608244274807\n",
      "  model = cd_fast.enet_coordinate_descent(\n",
      "/Users/annafunsten/opt/anaconda3/lib/python3.8/site-packages/sklearn/linear_model/_coordinate_descent.py:530: ConvergenceWarning: Objective did not converge. You might want to increase the number of iterations. Duality gap: 16516.15216641972, tolerance: 14.689560975609755\n",
      "  model = cd_fast.enet_coordinate_descent(\n",
      "/Users/annafunsten/opt/anaconda3/lib/python3.8/site-packages/sklearn/linear_model/_coordinate_descent.py:530: ConvergenceWarning: Objective did not converge. You might want to increase the number of iterations. Duality gap: 20964.32770328719, tolerance: 14.195571908396946\n",
      "  model = cd_fast.enet_coordinate_descent(\n",
      "/Users/annafunsten/opt/anaconda3/lib/python3.8/site-packages/sklearn/linear_model/_coordinate_descent.py:530: ConvergenceWarning: Objective did not converge. You might want to increase the number of iterations. Duality gap: 20163.31100510244, tolerance: 14.874802137404583\n",
      "  model = cd_fast.enet_coordinate_descent(\n",
      "/Users/annafunsten/opt/anaconda3/lib/python3.8/site-packages/sklearn/linear_model/_coordinate_descent.py:530: ConvergenceWarning: Objective did not converge. You might want to increase the number of iterations. Duality gap: 21246.47652238465, tolerance: 15.281971908396946\n",
      "  model = cd_fast.enet_coordinate_descent(\n",
      "/Users/annafunsten/opt/anaconda3/lib/python3.8/site-packages/sklearn/linear_model/_coordinate_descent.py:530: ConvergenceWarning: Objective did not converge. You might want to increase the number of iterations. Duality gap: 20089.174702397748, tolerance: 14.014608244274807\n",
      "  model = cd_fast.enet_coordinate_descent(\n",
      "/Users/annafunsten/opt/anaconda3/lib/python3.8/site-packages/sklearn/linear_model/_coordinate_descent.py:530: ConvergenceWarning: Objective did not converge. You might want to increase the number of iterations. Duality gap: 20627.963605428835, tolerance: 14.689560975609755\n",
      "  model = cd_fast.enet_coordinate_descent(\n",
      "/Users/annafunsten/opt/anaconda3/lib/python3.8/site-packages/sklearn/linear_model/_coordinate_descent.py:530: ConvergenceWarning: Objective did not converge. You might want to increase the number of iterations. Duality gap: 38093.94488655439, tolerance: 14.195571908396946\n",
      "  model = cd_fast.enet_coordinate_descent(\n",
      "/Users/annafunsten/opt/anaconda3/lib/python3.8/site-packages/sklearn/linear_model/_coordinate_descent.py:530: ConvergenceWarning: Objective did not converge. You might want to increase the number of iterations. Duality gap: 39098.338529197914, tolerance: 14.874802137404583\n",
      "  model = cd_fast.enet_coordinate_descent(\n",
      "/Users/annafunsten/opt/anaconda3/lib/python3.8/site-packages/sklearn/linear_model/_coordinate_descent.py:530: ConvergenceWarning: Objective did not converge. You might want to increase the number of iterations. Duality gap: 40190.10080197388, tolerance: 15.281971908396946\n",
      "  model = cd_fast.enet_coordinate_descent(\n",
      "/Users/annafunsten/opt/anaconda3/lib/python3.8/site-packages/sklearn/linear_model/_coordinate_descent.py:530: ConvergenceWarning: Objective did not converge. You might want to increase the number of iterations. Duality gap: 37622.765365729516, tolerance: 14.014608244274807\n",
      "  model = cd_fast.enet_coordinate_descent(\n",
      "/Users/annafunsten/opt/anaconda3/lib/python3.8/site-packages/sklearn/linear_model/_coordinate_descent.py:530: ConvergenceWarning: Objective did not converge. You might want to increase the number of iterations. Duality gap: 38981.31222237968, tolerance: 14.689560975609755\n",
      "  model = cd_fast.enet_coordinate_descent(\n",
      "/Users/annafunsten/opt/anaconda3/lib/python3.8/site-packages/sklearn/linear_model/_coordinate_descent.py:530: ConvergenceWarning: Objective did not converge. You might want to increase the number of iterations. Duality gap: 62121.324149193315, tolerance: 14.195571908396946\n",
      "  model = cd_fast.enet_coordinate_descent(\n",
      "/Users/annafunsten/opt/anaconda3/lib/python3.8/site-packages/sklearn/linear_model/_coordinate_descent.py:530: ConvergenceWarning: Objective did not converge. You might want to increase the number of iterations. Duality gap: 64851.75182968196, tolerance: 14.874802137404583\n",
      "  model = cd_fast.enet_coordinate_descent(\n",
      "/Users/annafunsten/opt/anaconda3/lib/python3.8/site-packages/sklearn/linear_model/_coordinate_descent.py:530: ConvergenceWarning: Objective did not converge. You might want to increase the number of iterations. Duality gap: 66553.12538190128, tolerance: 15.281971908396946\n",
      "  model = cd_fast.enet_coordinate_descent(\n",
      "/Users/annafunsten/opt/anaconda3/lib/python3.8/site-packages/sklearn/linear_model/_coordinate_descent.py:530: ConvergenceWarning: Objective did not converge. You might want to increase the number of iterations. Duality gap: 61435.50253679912, tolerance: 14.014608244274807\n",
      "  model = cd_fast.enet_coordinate_descent(\n",
      "/Users/annafunsten/opt/anaconda3/lib/python3.8/site-packages/sklearn/linear_model/_coordinate_descent.py:530: ConvergenceWarning: Objective did not converge. You might want to increase the number of iterations. Duality gap: 64167.525226737256, tolerance: 14.689560975609755\n",
      "  model = cd_fast.enet_coordinate_descent(\n",
      "/Users/annafunsten/opt/anaconda3/lib/python3.8/site-packages/sklearn/linear_model/_coordinate_descent.py:530: ConvergenceWarning: Objective did not converge. You might want to increase the number of iterations. Duality gap: 69888.33401002105, tolerance: 14.195571908396946\n",
      "  model = cd_fast.enet_coordinate_descent(\n",
      "/Users/annafunsten/opt/anaconda3/lib/python3.8/site-packages/sklearn/linear_model/_coordinate_descent.py:530: ConvergenceWarning: Objective did not converge. You might want to increase the number of iterations. Duality gap: 73199.77735540696, tolerance: 14.874802137404583\n",
      "  model = cd_fast.enet_coordinate_descent(\n",
      "/Users/annafunsten/opt/anaconda3/lib/python3.8/site-packages/sklearn/linear_model/_coordinate_descent.py:530: ConvergenceWarning: Objective did not converge. You might want to increase the number of iterations. Duality gap: 75191.13595496175, tolerance: 15.281971908396946\n",
      "  model = cd_fast.enet_coordinate_descent(\n",
      "/Users/annafunsten/opt/anaconda3/lib/python3.8/site-packages/sklearn/linear_model/_coordinate_descent.py:530: ConvergenceWarning: Objective did not converge. You might want to increase the number of iterations. Duality gap: 69011.11850944735, tolerance: 14.014608244274807\n",
      "  model = cd_fast.enet_coordinate_descent(\n",
      "/Users/annafunsten/opt/anaconda3/lib/python3.8/site-packages/sklearn/linear_model/_coordinate_descent.py:530: ConvergenceWarning: Objective did not converge. You might want to increase the number of iterations. Duality gap: 72304.50250669738, tolerance: 14.689560975609755\n",
      "  model = cd_fast.enet_coordinate_descent(\n",
      "/Users/annafunsten/opt/anaconda3/lib/python3.8/site-packages/sklearn/linear_model/_coordinate_descent.py:530: ConvergenceWarning: Objective did not converge. You might want to increase the number of iterations. Duality gap: 70866.29066714292, tolerance: 14.195571908396946\n",
      "  model = cd_fast.enet_coordinate_descent(\n",
      "/Users/annafunsten/opt/anaconda3/lib/python3.8/site-packages/sklearn/linear_model/_coordinate_descent.py:530: ConvergenceWarning: Objective did not converge. You might want to increase the number of iterations. Duality gap: 74253.7285866583, tolerance: 14.874802137404583\n",
      "  model = cd_fast.enet_coordinate_descent(\n",
      "/Users/annafunsten/opt/anaconda3/lib/python3.8/site-packages/sklearn/linear_model/_coordinate_descent.py:530: ConvergenceWarning: Objective did not converge. You might want to increase the number of iterations. Duality gap: 76284.97690819211, tolerance: 15.281971908396946\n",
      "  model = cd_fast.enet_coordinate_descent(\n",
      "/Users/annafunsten/opt/anaconda3/lib/python3.8/site-packages/sklearn/linear_model/_coordinate_descent.py:530: ConvergenceWarning: Objective did not converge. You might want to increase the number of iterations. Duality gap: 69964.29747012343, tolerance: 14.014608244274807\n",
      "  model = cd_fast.enet_coordinate_descent(\n",
      "/Users/annafunsten/opt/anaconda3/lib/python3.8/site-packages/sklearn/linear_model/_coordinate_descent.py:530: ConvergenceWarning: Objective did not converge. You might want to increase the number of iterations. Duality gap: 73330.70372662143, tolerance: 14.689560975609755\n",
      "  model = cd_fast.enet_coordinate_descent(\n"
     ]
    },
    {
     "name": "stdout",
     "output_type": "stream",
     "text": [
      "0.7796245970713171\n",
      "0.7885974799636769\n",
      "root mean sqaured error is 7.15295856794875, r squared is 0.7885974799636769, and mean absolute error is 4.818578670186391\n"
     ]
    },
    {
     "data": {
      "text/plain": [
       "{'elasticnet__alpha': 0.1, 'elasticnet__l1_ratio': 1}"
      ]
     },
     "execution_count": 40,
     "metadata": {},
     "output_type": "execute_result"
    }
   ],
   "source": [
    "pipe7 = make_pipeline(KNNImputer(),StandardScaler(), ElasticNet())\n",
    "params = {'elasticnet__alpha': [.01, .1 ,1 ,10 ,100, 1000],\n",
    "          'elasticnet__l1_ratio': [0, .2, .4 , .6, .8, 1]\n",
    "         }\n",
    "gs7 = GridSearchCV(pipe7, params, n_jobs=1)\n",
    "gs7.fit(X_train, y_train)\n",
    "print(gs7.score(X_train, y_train))\n",
    "print(gs7.score(X_test, y_test))\n",
    "predict7 = gs7.predict(X_test)\n",
    "print(errors(y_test, predict7))\n",
    "gs7.best_params_"
   ]
  },
  {
   "cell_type": "code",
   "execution_count": 41,
   "metadata": {},
   "outputs": [
    {
     "data": {
      "text/plain": [
       "array([-0.41977994,  0.        ,  0.398286  ,  0.        , -7.86690624,\n",
       "       12.37903831,  2.10637418, -1.78565357, 15.83384936, -4.26256524,\n",
       "        9.49431913, -7.78109457, -0.96599281,  0.24765554, -0.        ,\n",
       "       -0.67296007,  0.4086108 ])"
      ]
     },
     "execution_count": 41,
     "metadata": {},
     "output_type": "execute_result"
    }
   ],
   "source": [
    "gs5.best_estimator_['elasticnet'].coef_"
   ]
  },
  {
   "cell_type": "markdown",
   "metadata": {},
   "source": [
    "## Model 8: Lasso with Limited Features "
   ]
  },
  {
   "cell_type": "code",
   "execution_count": 42,
   "metadata": {},
   "outputs": [
    {
     "name": "stdout",
     "output_type": "stream",
     "text": [
      "0.7796245970713171\n",
      "0.7885974799636769\n",
      "root mean sqaured error is 7.15295856794875, r squared is 0.7885974799636769, and mean absolute error is 4.818578670186391\n"
     ]
    },
    {
     "data": {
      "text/plain": [
       "{'lasso__alpha': 0.1}"
      ]
     },
     "execution_count": 42,
     "metadata": {},
     "output_type": "execute_result"
    }
   ],
   "source": [
    "pipe8 = make_pipeline(KNNImputer(),StandardScaler(), Lasso())\n",
    "params = {'lasso__alpha': [.01, .1 ,1 ,10 ,100, 1000]}\n",
    "gs8 = GridSearchCV(pipe8, params, n_jobs=1)\n",
    "gs8.fit(X_train, y_train)\n",
    "print(gs8.score(X_train, y_train))\n",
    "print(gs8.score(X_test, y_test))\n",
    "predict8 = gs8.predict(X_test)\n",
    "print(errors(y_test, predict8))\n",
    "gs8.best_params_"
   ]
  },
  {
   "cell_type": "code",
   "execution_count": 43,
   "metadata": {},
   "outputs": [
    {
     "data": {
      "text/html": [
       "<div>\n",
       "<style scoped>\n",
       "    .dataframe tbody tr th:only-of-type {\n",
       "        vertical-align: middle;\n",
       "    }\n",
       "\n",
       "    .dataframe tbody tr th {\n",
       "        vertical-align: top;\n",
       "    }\n",
       "\n",
       "    .dataframe thead th {\n",
       "        text-align: right;\n",
       "    }\n",
       "</style>\n",
       "<table border=\"1\" class=\"dataframe\">\n",
       "  <thead>\n",
       "    <tr style=\"text-align: right;\">\n",
       "      <th></th>\n",
       "      <th>name</th>\n",
       "      <th>coef</th>\n",
       "    </tr>\n",
       "  </thead>\n",
       "  <tbody>\n",
       "    <tr>\n",
       "      <th>4</th>\n",
       "      <td>pm2.5_mean</td>\n",
       "      <td>11.722964</td>\n",
       "    </tr>\n",
       "    <tr>\n",
       "      <th>2</th>\n",
       "      <td>ozone_max</td>\n",
       "      <td>4.483731</td>\n",
       "    </tr>\n",
       "    <tr>\n",
       "      <th>5</th>\n",
       "      <td>so2_max</td>\n",
       "      <td>0.691392</td>\n",
       "    </tr>\n",
       "    <tr>\n",
       "      <th>1</th>\n",
       "      <td>no2_max</td>\n",
       "      <td>0.300265</td>\n",
       "    </tr>\n",
       "    <tr>\n",
       "      <th>0</th>\n",
       "      <td>co_max</td>\n",
       "      <td>0.248786</td>\n",
       "    </tr>\n",
       "    <tr>\n",
       "      <th>8</th>\n",
       "      <td>weekday</td>\n",
       "      <td>0.002331</td>\n",
       "    </tr>\n",
       "    <tr>\n",
       "      <th>3</th>\n",
       "      <td>pm10_mean</td>\n",
       "      <td>0.000000</td>\n",
       "    </tr>\n",
       "    <tr>\n",
       "      <th>7</th>\n",
       "      <td>month</td>\n",
       "      <td>-0.155746</td>\n",
       "    </tr>\n",
       "    <tr>\n",
       "      <th>6</th>\n",
       "      <td>temp_avg</td>\n",
       "      <td>-0.809063</td>\n",
       "    </tr>\n",
       "  </tbody>\n",
       "</table>\n",
       "</div>"
      ],
      "text/plain": [
       "         name       coef\n",
       "4  pm2.5_mean  11.722964\n",
       "2   ozone_max   4.483731\n",
       "5     so2_max   0.691392\n",
       "1     no2_max   0.300265\n",
       "0      co_max   0.248786\n",
       "8     weekday   0.002331\n",
       "3   pm10_mean   0.000000\n",
       "7       month  -0.155746\n",
       "6    temp_avg  -0.809063"
      ]
     },
     "execution_count": 43,
     "metadata": {},
     "output_type": "execute_result"
    }
   ],
   "source": [
    "coef = gs8.best_estimator_['lasso'].coef_\n",
    "name = X_train.columns\n",
    "importance = pd.DataFrame(zip(name, coef), columns=['name', 'coef']).sort_values(by='coef', ascending=False)\n",
    "importance"
   ]
  },
  {
   "cell_type": "markdown",
   "metadata": {},
   "source": [
    "## Model 9: Ridge with Limited Features\n",
    "[(back to top)](#Regression-Modeling)"
   ]
  },
  {
   "cell_type": "code",
   "execution_count": 44,
   "metadata": {},
   "outputs": [
    {
     "name": "stdout",
     "output_type": "stream",
     "text": [
      "0.7797634250491456\n",
      "0.7886021280779962\n",
      "root mean sqaured error is 7.152879931346176, r squared is 0.7886021280779962, and mean absolute error is 4.847503556417131\n"
     ]
    },
    {
     "data": {
      "text/plain": [
       "{'ridge__alpha': 10}"
      ]
     },
     "execution_count": 44,
     "metadata": {},
     "output_type": "execute_result"
    }
   ],
   "source": [
    "pipe9 = make_pipeline(KNNImputer(),StandardScaler(), Ridge())\n",
    "params = {'ridge__alpha': [.01, .1 ,1 ,10 ,100, 1000]}\n",
    "gs9 = GridSearchCV(pipe9, params, n_jobs=1)\n",
    "gs9.fit(X_train, y_train)\n",
    "print(gs9.score(X_train, y_train))\n",
    "print(gs9.score(X_test, y_test))\n",
    "predict9 = gs9.predict(X_test)\n",
    "print(errors(y_test, predict9))\n",
    "gs9.best_params_"
   ]
  },
  {
   "cell_type": "code",
   "execution_count": 45,
   "metadata": {},
   "outputs": [
    {
     "data": {
      "text/html": [
       "<div>\n",
       "<style scoped>\n",
       "    .dataframe tbody tr th:only-of-type {\n",
       "        vertical-align: middle;\n",
       "    }\n",
       "\n",
       "    .dataframe tbody tr th {\n",
       "        vertical-align: top;\n",
       "    }\n",
       "\n",
       "    .dataframe thead th {\n",
       "        text-align: right;\n",
       "    }\n",
       "</style>\n",
       "<table border=\"1\" class=\"dataframe\">\n",
       "  <thead>\n",
       "    <tr style=\"text-align: right;\">\n",
       "      <th></th>\n",
       "      <th>name</th>\n",
       "      <th>coef</th>\n",
       "    </tr>\n",
       "  </thead>\n",
       "  <tbody>\n",
       "    <tr>\n",
       "      <th>4</th>\n",
       "      <td>pm2.5_mean</td>\n",
       "      <td>11.547316</td>\n",
       "    </tr>\n",
       "    <tr>\n",
       "      <th>2</th>\n",
       "      <td>ozone_max</td>\n",
       "      <td>4.569004</td>\n",
       "    </tr>\n",
       "    <tr>\n",
       "      <th>5</th>\n",
       "      <td>so2_max</td>\n",
       "      <td>0.748713</td>\n",
       "    </tr>\n",
       "    <tr>\n",
       "      <th>0</th>\n",
       "      <td>co_max</td>\n",
       "      <td>0.386920</td>\n",
       "    </tr>\n",
       "    <tr>\n",
       "      <th>1</th>\n",
       "      <td>no2_max</td>\n",
       "      <td>0.339159</td>\n",
       "    </tr>\n",
       "    <tr>\n",
       "      <th>8</th>\n",
       "      <td>weekday</td>\n",
       "      <td>0.115608</td>\n",
       "    </tr>\n",
       "    <tr>\n",
       "      <th>3</th>\n",
       "      <td>pm10_mean</td>\n",
       "      <td>0.048991</td>\n",
       "    </tr>\n",
       "    <tr>\n",
       "      <th>7</th>\n",
       "      <td>month</td>\n",
       "      <td>-0.198329</td>\n",
       "    </tr>\n",
       "    <tr>\n",
       "      <th>6</th>\n",
       "      <td>temp_avg</td>\n",
       "      <td>-0.967276</td>\n",
       "    </tr>\n",
       "  </tbody>\n",
       "</table>\n",
       "</div>"
      ],
      "text/plain": [
       "         name       coef\n",
       "4  pm2.5_mean  11.547316\n",
       "2   ozone_max   4.569004\n",
       "5     so2_max   0.748713\n",
       "0      co_max   0.386920\n",
       "1     no2_max   0.339159\n",
       "8     weekday   0.115608\n",
       "3   pm10_mean   0.048991\n",
       "7       month  -0.198329\n",
       "6    temp_avg  -0.967276"
      ]
     },
     "execution_count": 45,
     "metadata": {},
     "output_type": "execute_result"
    }
   ],
   "source": [
    "coef = gs9.best_estimator_['ridge'].coef_\n",
    "name = X_train.columns\n",
    "importance = pd.DataFrame(zip(name, coef), columns=['name', 'coef']).sort_values(by='coef', ascending=False)\n",
    "importance"
   ]
  },
  {
   "cell_type": "markdown",
   "metadata": {},
   "source": [
    "## Model 10: KNN Regressor\n",
    "[(back to top)](#Regression-Modeling)"
   ]
  },
  {
   "cell_type": "code",
   "execution_count": 46,
   "metadata": {
    "tags": []
   },
   "outputs": [
    {
     "name": "stdout",
     "output_type": "stream",
     "text": [
      "0.8575264756941775\n",
      "0.7709339014101684\n",
      "root mean sqaured error is 7.445794384388985, r squared is 0.7709339014101684, and mean absolute error is 5.00948905109489\n"
     ]
    },
    {
     "data": {
      "text/plain": [
       "{'kneighborsregressor__n_neighbors': 5}"
      ]
     },
     "execution_count": 46,
     "metadata": {},
     "output_type": "execute_result"
    }
   ],
   "source": [
    "pipe10 = make_pipeline(KNNImputer(),StandardScaler(), KNeighborsRegressor())\n",
    "params = {'kneighborsregressor__n_neighbors': [3,5,10]}\n",
    "gs10 = GridSearchCV(pipe10, params, n_jobs=1)\n",
    "gs10.fit(X_train, y_train)\n",
    "print(gs10.score(X_train, y_train))\n",
    "print(gs10.score(X_test, y_test))\n",
    "predict10 = gs10.predict(X_test)\n",
    "print(errors(y_test, predict10))\n",
    "gs10.best_params_"
   ]
  },
  {
   "cell_type": "markdown",
   "metadata": {},
   "source": [
    "## Model 11: Simple Neural Networks\n",
    "[(back to top)](#Regression-Modeling)"
   ]
  },
  {
   "cell_type": "code",
   "execution_count": 47,
   "metadata": {},
   "outputs": [],
   "source": [
    "ss = StandardScaler()\n",
    "\n",
    "X_train_scaled = ss.fit_transform(X_train)\n",
    "X_test_scaled = ss.transform(X_test)\n",
    "\n",
    "knn = KNNImputer()\n",
    "\n",
    "X_train_knn = knn.fit_transform(X_train_scaled)\n",
    "\n",
    "X_test_knn = knn.transform(X_test_scaled)"
   ]
  },
  {
   "cell_type": "code",
   "execution_count": 48,
   "metadata": {},
   "outputs": [],
   "source": [
    "model11 = Sequential()\n",
    "model11.add(Dense(24, activation = 'relu'))\n",
    "model11.add(Dense(1,))\n",
    "model11.compile(optimizer = 'adam', loss='mse', metrics = ['mse'])"
   ]
  },
  {
   "cell_type": "code",
   "execution_count": 49,
   "metadata": {},
   "outputs": [],
   "source": [
    "model11.compile(optimizer = 'adam', loss='mse', metrics = ['mse'])"
   ]
  },
  {
   "cell_type": "code",
   "execution_count": 50,
   "metadata": {
    "collapsed": true,
    "jupyter": {
     "outputs_hidden": true
    },
    "tags": []
   },
   "outputs": [
    {
     "name": "stdout",
     "output_type": "stream",
     "text": [
      "Epoch 1/100\n",
      "9/9 [==============================] - 2s 149ms/step - loss: 2021.5027 - mse: 2021.5027 - val_loss: 2142.6870 - val_mse: 2142.6870\n",
      "Epoch 2/100\n",
      "9/9 [==============================] - 0s 8ms/step - loss: 1928.0007 - mse: 1928.0007 - val_loss: 2127.9351 - val_mse: 2127.9351\n",
      "Epoch 3/100\n",
      "9/9 [==============================] - 0s 8ms/step - loss: 1958.3898 - mse: 1958.3898 - val_loss: 2112.6221 - val_mse: 2112.6221\n",
      "Epoch 4/100\n",
      "9/9 [==============================] - 0s 7ms/step - loss: 1967.3075 - mse: 1967.3076 - val_loss: 2097.3157 - val_mse: 2097.3157\n",
      "Epoch 5/100\n",
      "9/9 [==============================] - 0s 9ms/step - loss: 1930.9632 - mse: 1930.9632 - val_loss: 2081.9380 - val_mse: 2081.9380\n",
      "Epoch 6/100\n",
      "9/9 [==============================] - 0s 10ms/step - loss: 1892.1543 - mse: 1892.1543 - val_loss: 2065.9431 - val_mse: 2065.9431\n",
      "Epoch 7/100\n",
      "9/9 [==============================] - 0s 9ms/step - loss: 1930.9931 - mse: 1930.9931 - val_loss: 2049.6475 - val_mse: 2049.6475\n",
      "Epoch 8/100\n",
      "9/9 [==============================] - 0s 8ms/step - loss: 1976.7267 - mse: 1976.7267 - val_loss: 2032.8396 - val_mse: 2032.8396\n",
      "Epoch 9/100\n",
      "9/9 [==============================] - 0s 8ms/step - loss: 1875.8662 - mse: 1875.8662 - val_loss: 2015.6554 - val_mse: 2015.6554\n",
      "Epoch 10/100\n",
      "9/9 [==============================] - 0s 9ms/step - loss: 1838.8782 - mse: 1838.8782 - val_loss: 1997.3931 - val_mse: 1997.3931\n",
      "Epoch 11/100\n",
      "9/9 [==============================] - 0s 9ms/step - loss: 1932.5916 - mse: 1932.5916 - val_loss: 1978.3353 - val_mse: 1978.3353\n",
      "Epoch 12/100\n",
      "9/9 [==============================] - 0s 9ms/step - loss: 1872.1699 - mse: 1872.1699 - val_loss: 1958.3682 - val_mse: 1958.3682\n",
      "Epoch 13/100\n",
      "9/9 [==============================] - 0s 8ms/step - loss: 1815.2871 - mse: 1815.2871 - val_loss: 1937.8440 - val_mse: 1937.8440\n",
      "Epoch 14/100\n",
      "9/9 [==============================] - 0s 7ms/step - loss: 1778.6793 - mse: 1778.6793 - val_loss: 1916.4493 - val_mse: 1916.4493\n",
      "Epoch 15/100\n",
      "9/9 [==============================] - 0s 8ms/step - loss: 1787.1663 - mse: 1787.1663 - val_loss: 1893.8918 - val_mse: 1893.8918\n",
      "Epoch 16/100\n",
      "9/9 [==============================] - 0s 9ms/step - loss: 1759.8593 - mse: 1759.8593 - val_loss: 1870.9242 - val_mse: 1870.9242\n",
      "Epoch 17/100\n",
      "9/9 [==============================] - 0s 8ms/step - loss: 1744.4201 - mse: 1744.4201 - val_loss: 1846.8392 - val_mse: 1846.8392\n",
      "Epoch 18/100\n",
      "9/9 [==============================] - 0s 8ms/step - loss: 1699.9394 - mse: 1699.9394 - val_loss: 1821.7626 - val_mse: 1821.7626\n",
      "Epoch 19/100\n",
      "9/9 [==============================] - 0s 8ms/step - loss: 1684.4865 - mse: 1684.4865 - val_loss: 1796.7094 - val_mse: 1796.7092\n",
      "Epoch 20/100\n",
      "9/9 [==============================] - 0s 11ms/step - loss: 1689.9861 - mse: 1689.9861 - val_loss: 1770.8749 - val_mse: 1770.8749\n",
      "Epoch 21/100\n",
      "9/9 [==============================] - 0s 8ms/step - loss: 1643.9657 - mse: 1643.9657 - val_loss: 1745.0273 - val_mse: 1745.0273\n",
      "Epoch 22/100\n",
      "9/9 [==============================] - 0s 7ms/step - loss: 1626.3603 - mse: 1626.3603 - val_loss: 1718.2609 - val_mse: 1718.2609\n",
      "Epoch 23/100\n",
      "9/9 [==============================] - 0s 8ms/step - loss: 1643.4948 - mse: 1643.4948 - val_loss: 1690.7109 - val_mse: 1690.7109\n",
      "Epoch 24/100\n",
      "9/9 [==============================] - 0s 8ms/step - loss: 1590.5848 - mse: 1590.5848 - val_loss: 1663.1123 - val_mse: 1663.1123\n",
      "Epoch 25/100\n",
      "9/9 [==============================] - 0s 8ms/step - loss: 1643.5256 - mse: 1643.5256 - val_loss: 1634.2316 - val_mse: 1634.2316\n",
      "Epoch 26/100\n",
      "9/9 [==============================] - 0s 7ms/step - loss: 1523.0093 - mse: 1523.0093 - val_loss: 1605.8523 - val_mse: 1605.8524\n",
      "Epoch 27/100\n",
      "9/9 [==============================] - 0s 8ms/step - loss: 1551.1566 - mse: 1551.1566 - val_loss: 1576.3967 - val_mse: 1576.3967\n",
      "Epoch 28/100\n",
      "9/9 [==============================] - 0s 9ms/step - loss: 1476.7930 - mse: 1476.7930 - val_loss: 1546.5155 - val_mse: 1546.5155\n",
      "Epoch 29/100\n",
      "9/9 [==============================] - 0s 8ms/step - loss: 1429.1246 - mse: 1429.1246 - val_loss: 1515.9935 - val_mse: 1515.9935\n",
      "Epoch 30/100\n",
      "9/9 [==============================] - 0s 9ms/step - loss: 1427.3609 - mse: 1427.3609 - val_loss: 1485.4727 - val_mse: 1485.4727\n",
      "Epoch 31/100\n",
      "9/9 [==============================] - 0s 7ms/step - loss: 1412.2473 - mse: 1412.2473 - val_loss: 1454.3094 - val_mse: 1454.3094\n",
      "Epoch 32/100\n",
      "9/9 [==============================] - 0s 6ms/step - loss: 1376.1932 - mse: 1376.1932 - val_loss: 1423.3488 - val_mse: 1423.3488\n",
      "Epoch 33/100\n",
      "9/9 [==============================] - 0s 8ms/step - loss: 1348.8994 - mse: 1348.8994 - val_loss: 1391.7991 - val_mse: 1391.7991\n",
      "Epoch 34/100\n",
      "9/9 [==============================] - 0s 9ms/step - loss: 1351.4592 - mse: 1351.4592 - val_loss: 1360.2415 - val_mse: 1360.2415\n",
      "Epoch 35/100\n",
      "9/9 [==============================] - 0s 7ms/step - loss: 1285.1176 - mse: 1285.1176 - val_loss: 1328.8141 - val_mse: 1328.8141\n",
      "Epoch 36/100\n",
      "9/9 [==============================] - 0s 7ms/step - loss: 1270.7453 - mse: 1270.7452 - val_loss: 1296.8151 - val_mse: 1296.8151\n",
      "Epoch 37/100\n",
      "9/9 [==============================] - 0s 7ms/step - loss: 1213.6113 - mse: 1213.6112 - val_loss: 1264.1843 - val_mse: 1264.1843\n",
      "Epoch 38/100\n",
      "9/9 [==============================] - 0s 8ms/step - loss: 1220.0817 - mse: 1220.0817 - val_loss: 1231.7886 - val_mse: 1231.7886\n",
      "Epoch 39/100\n",
      "9/9 [==============================] - 0s 11ms/step - loss: 1206.8410 - mse: 1206.8410 - val_loss: 1199.5985 - val_mse: 1199.5985\n",
      "Epoch 40/100\n",
      "9/9 [==============================] - 0s 10ms/step - loss: 1148.1138 - mse: 1148.1138 - val_loss: 1167.7090 - val_mse: 1167.7090\n",
      "Epoch 41/100\n",
      "9/9 [==============================] - 0s 8ms/step - loss: 1127.2906 - mse: 1127.2906 - val_loss: 1135.8687 - val_mse: 1135.8685\n",
      "Epoch 42/100\n",
      "9/9 [==============================] - 0s 10ms/step - loss: 1093.4879 - mse: 1093.4879 - val_loss: 1103.8091 - val_mse: 1103.8091\n",
      "Epoch 43/100\n",
      "9/9 [==============================] - 0s 10ms/step - loss: 1069.9104 - mse: 1069.9104 - val_loss: 1071.9381 - val_mse: 1071.9381\n",
      "Epoch 44/100\n",
      "9/9 [==============================] - 0s 9ms/step - loss: 1064.9722 - mse: 1064.9721 - val_loss: 1039.9178 - val_mse: 1039.9180\n",
      "Epoch 45/100\n",
      "9/9 [==============================] - 0s 9ms/step - loss: 1011.6595 - mse: 1011.6595 - val_loss: 1008.2913 - val_mse: 1008.2913\n",
      "Epoch 46/100\n",
      "9/9 [==============================] - 0s 9ms/step - loss: 1011.6849 - mse: 1011.6849 - val_loss: 977.3494 - val_mse: 977.3494\n",
      "Epoch 47/100\n",
      "9/9 [==============================] - 0s 9ms/step - loss: 950.2343 - mse: 950.2343 - val_loss: 946.3943 - val_mse: 946.3943\n",
      "Epoch 48/100\n",
      "9/9 [==============================] - 0s 8ms/step - loss: 887.7977 - mse: 887.7977 - val_loss: 915.6425 - val_mse: 915.6425\n",
      "Epoch 49/100\n",
      "9/9 [==============================] - 0s 7ms/step - loss: 909.4709 - mse: 909.4709 - val_loss: 885.6616 - val_mse: 885.6616\n",
      "Epoch 50/100\n",
      "9/9 [==============================] - 0s 8ms/step - loss: 851.7453 - mse: 851.7453 - val_loss: 856.3016 - val_mse: 856.3016\n",
      "Epoch 51/100\n",
      "9/9 [==============================] - 0s 7ms/step - loss: 828.1129 - mse: 828.1129 - val_loss: 827.3999 - val_mse: 827.3999\n",
      "Epoch 52/100\n",
      "9/9 [==============================] - 0s 7ms/step - loss: 797.3492 - mse: 797.3492 - val_loss: 798.7963 - val_mse: 798.7963\n",
      "Epoch 53/100\n",
      "9/9 [==============================] - 0s 7ms/step - loss: 770.4692 - mse: 770.4692 - val_loss: 771.2609 - val_mse: 771.2609\n",
      "Epoch 54/100\n",
      "9/9 [==============================] - 0s 10ms/step - loss: 765.0313 - mse: 765.0313 - val_loss: 744.6280 - val_mse: 744.6280\n",
      "Epoch 55/100\n",
      "9/9 [==============================] - 0s 10ms/step - loss: 722.6767 - mse: 722.6767 - val_loss: 718.6140 - val_mse: 718.6140\n",
      "Epoch 56/100\n",
      "9/9 [==============================] - 0s 9ms/step - loss: 695.4082 - mse: 695.4082 - val_loss: 693.5486 - val_mse: 693.5486\n",
      "Epoch 57/100\n",
      "9/9 [==============================] - 0s 8ms/step - loss: 689.2764 - mse: 689.2764 - val_loss: 668.8865 - val_mse: 668.8865\n",
      "Epoch 58/100\n",
      "9/9 [==============================] - 0s 8ms/step - loss: 657.6333 - mse: 657.6333 - val_loss: 645.2421 - val_mse: 645.2421\n",
      "Epoch 59/100\n",
      "9/9 [==============================] - 0s 8ms/step - loss: 624.9183 - mse: 624.9183 - val_loss: 622.3033 - val_mse: 622.3033\n",
      "Epoch 60/100\n",
      "9/9 [==============================] - 0s 10ms/step - loss: 628.9151 - mse: 628.9151 - val_loss: 599.6743 - val_mse: 599.6743\n",
      "Epoch 61/100\n",
      "9/9 [==============================] - 0s 7ms/step - loss: 584.7131 - mse: 584.7131 - val_loss: 578.2886 - val_mse: 578.2886\n",
      "Epoch 62/100\n",
      "9/9 [==============================] - 0s 7ms/step - loss: 561.6020 - mse: 561.6020 - val_loss: 557.6495 - val_mse: 557.6495\n",
      "Epoch 63/100\n",
      "9/9 [==============================] - 0s 7ms/step - loss: 548.6151 - mse: 548.6151 - val_loss: 537.8598 - val_mse: 537.8598\n",
      "Epoch 64/100\n",
      "9/9 [==============================] - 0s 7ms/step - loss: 526.8350 - mse: 526.8350 - val_loss: 518.4446 - val_mse: 518.4446\n",
      "Epoch 65/100\n",
      "9/9 [==============================] - 0s 7ms/step - loss: 498.2248 - mse: 498.2248 - val_loss: 499.5986 - val_mse: 499.5987\n",
      "Epoch 66/100\n",
      "9/9 [==============================] - 0s 6ms/step - loss: 488.5963 - mse: 488.5963 - val_loss: 481.2807 - val_mse: 481.2807\n",
      "Epoch 67/100\n",
      "9/9 [==============================] - 0s 7ms/step - loss: 476.2198 - mse: 476.2198 - val_loss: 463.7232 - val_mse: 463.7232\n",
      "Epoch 68/100\n",
      "9/9 [==============================] - 0s 9ms/step - loss: 440.6866 - mse: 440.6866 - val_loss: 447.6270 - val_mse: 447.6270\n",
      "Epoch 69/100\n",
      "9/9 [==============================] - 0s 8ms/step - loss: 451.9886 - mse: 451.9886 - val_loss: 431.9347 - val_mse: 431.9347\n",
      "Epoch 70/100\n",
      "9/9 [==============================] - 0s 8ms/step - loss: 406.4403 - mse: 406.4403 - val_loss: 417.2169 - val_mse: 417.2169\n",
      "Epoch 71/100\n",
      "9/9 [==============================] - 0s 11ms/step - loss: 417.1729 - mse: 417.1729 - val_loss: 402.9065 - val_mse: 402.9065\n",
      "Epoch 72/100\n",
      "9/9 [==============================] - 0s 12ms/step - loss: 403.7420 - mse: 403.7420 - val_loss: 389.3273 - val_mse: 389.3273\n",
      "Epoch 73/100\n",
      "9/9 [==============================] - 0s 8ms/step - loss: 373.8964 - mse: 373.8964 - val_loss: 376.4747 - val_mse: 376.4747\n",
      "Epoch 74/100\n",
      "9/9 [==============================] - 0s 8ms/step - loss: 367.6407 - mse: 367.6407 - val_loss: 363.9523 - val_mse: 363.9523\n",
      "Epoch 75/100\n",
      "9/9 [==============================] - 0s 10ms/step - loss: 337.3126 - mse: 337.3126 - val_loss: 351.9693 - val_mse: 351.9693\n",
      "Epoch 76/100\n",
      "9/9 [==============================] - 0s 10ms/step - loss: 328.5566 - mse: 328.5566 - val_loss: 340.1019 - val_mse: 340.1019\n",
      "Epoch 77/100\n",
      "9/9 [==============================] - 0s 8ms/step - loss: 310.9165 - mse: 310.9165 - val_loss: 329.0415 - val_mse: 329.0415\n",
      "Epoch 78/100\n",
      "9/9 [==============================] - 0s 7ms/step - loss: 322.5003 - mse: 322.5003 - val_loss: 318.5023 - val_mse: 318.5023\n",
      "Epoch 79/100\n",
      "9/9 [==============================] - 0s 6ms/step - loss: 306.0536 - mse: 306.0536 - val_loss: 308.3388 - val_mse: 308.3388\n",
      "Epoch 80/100\n",
      "9/9 [==============================] - 0s 9ms/step - loss: 270.8793 - mse: 270.8793 - val_loss: 298.8237 - val_mse: 298.8237\n",
      "Epoch 81/100\n",
      "9/9 [==============================] - 0s 10ms/step - loss: 282.1168 - mse: 282.1168 - val_loss: 289.1842 - val_mse: 289.1842\n",
      "Epoch 82/100\n",
      "9/9 [==============================] - 0s 8ms/step - loss: 286.2569 - mse: 286.2569 - val_loss: 280.2226 - val_mse: 280.2226\n",
      "Epoch 83/100\n",
      "9/9 [==============================] - 0s 8ms/step - loss: 254.5366 - mse: 254.5366 - val_loss: 271.7858 - val_mse: 271.7858\n",
      "Epoch 84/100\n",
      "9/9 [==============================] - 0s 13ms/step - loss: 244.6698 - mse: 244.6698 - val_loss: 263.6497 - val_mse: 263.6497\n",
      "Epoch 85/100\n",
      "9/9 [==============================] - 0s 9ms/step - loss: 232.5596 - mse: 232.5596 - val_loss: 256.0278 - val_mse: 256.0278\n",
      "Epoch 86/100\n",
      "9/9 [==============================] - 0s 9ms/step - loss: 231.4653 - mse: 231.4653 - val_loss: 248.4882 - val_mse: 248.4882\n",
      "Epoch 87/100\n",
      "9/9 [==============================] - 0s 10ms/step - loss: 228.4740 - mse: 228.4740 - val_loss: 241.3876 - val_mse: 241.3876\n",
      "Epoch 88/100\n",
      "9/9 [==============================] - 0s 8ms/step - loss: 217.5385 - mse: 217.5385 - val_loss: 234.6890 - val_mse: 234.6890\n",
      "Epoch 89/100\n",
      "9/9 [==============================] - 0s 7ms/step - loss: 212.9792 - mse: 212.9792 - val_loss: 228.1823 - val_mse: 228.1823\n",
      "Epoch 90/100\n",
      "9/9 [==============================] - 0s 7ms/step - loss: 204.0551 - mse: 204.0551 - val_loss: 221.9748 - val_mse: 221.9748\n",
      "Epoch 91/100\n",
      "9/9 [==============================] - 0s 8ms/step - loss: 196.2191 - mse: 196.2191 - val_loss: 216.1085 - val_mse: 216.1085\n",
      "Epoch 92/100\n",
      "9/9 [==============================] - 0s 8ms/step - loss: 191.6917 - mse: 191.6917 - val_loss: 210.2162 - val_mse: 210.2162\n",
      "Epoch 93/100\n",
      "9/9 [==============================] - 0s 8ms/step - loss: 186.3171 - mse: 186.3171 - val_loss: 204.3615 - val_mse: 204.3615\n",
      "Epoch 94/100\n",
      "9/9 [==============================] - 0s 7ms/step - loss: 181.6319 - mse: 181.6319 - val_loss: 199.2026 - val_mse: 199.2026\n",
      "Epoch 95/100\n",
      "9/9 [==============================] - 0s 7ms/step - loss: 179.9348 - mse: 179.9348 - val_loss: 194.2513 - val_mse: 194.2513\n",
      "Epoch 96/100\n",
      "9/9 [==============================] - 0s 7ms/step - loss: 162.8233 - mse: 162.8233 - val_loss: 189.6247 - val_mse: 189.6247\n",
      "Epoch 97/100\n",
      "9/9 [==============================] - 0s 8ms/step - loss: 170.1314 - mse: 170.1314 - val_loss: 185.0721 - val_mse: 185.0721\n",
      "Epoch 98/100\n",
      "9/9 [==============================] - 0s 8ms/step - loss: 170.0095 - mse: 170.0095 - val_loss: 180.7273 - val_mse: 180.7273\n",
      "Epoch 99/100\n",
      "9/9 [==============================] - 0s 8ms/step - loss: 157.3375 - mse: 157.3375 - val_loss: 176.5468 - val_mse: 176.5468\n",
      "Epoch 100/100\n",
      "9/9 [==============================] - 0s 7ms/step - loss: 159.4717 - mse: 159.4717 - val_loss: 172.6199 - val_mse: 172.6199\n"
     ]
    }
   ],
   "source": [
    "history11 = model11.fit(\n",
    "    X_train_knn,\n",
    "    y_train,\n",
    "    batch_size = 100,\n",
    "    validation_data=(X_test_knn, y_test),\n",
    "    epochs= 100,\n",
    ")"
   ]
  },
  {
   "cell_type": "code",
   "execution_count": 51,
   "metadata": {},
   "outputs": [
    {
     "data": {
      "image/png": "[encoded data removed]",
      "text/plain": [
       "<Figure size 432x288 with 2 Axes>"
      ]
     },
     "metadata": {
      "needs_background": "light"
     },
     "output_type": "display_data"
    }
   ],
   "source": [
    "plt.subplot(1, 2, 1)\n",
    "plt.title('Loss')\n",
    "plt.plot(history11.history['loss'], label = 'Training Loss')\n",
    "plt.plot(history11.history['val_loss'], label = 'Validation Loss')\n",
    "plt.legend();\n",
    "\n",
    "plt.subplot(1, 2, 2)\n",
    "plt.title('MSE')\n",
    "plt.plot(history11.history['val_mse'], label = 'Validation MSE')\n",
    "plt.plot(history11.history['mse'], label = 'Training MSE')\n",
    "plt.legend();"
   ]
  },
  {
   "cell_type": "code",
   "execution_count": 52,
   "metadata": {},
   "outputs": [],
   "source": [
    "preds11 = model11.predict(X_test_knn)"
   ]
  },
  {
   "cell_type": "code",
   "execution_count": 53,
   "metadata": {},
   "outputs": [
    {
     "data": {
      "text/plain": [
       "'root mean sqaured error is 13.138489547425452, r squared is 0.2867699694940702, and mean absolute error is 10.580571877695348'"
      ]
     },
     "execution_count": 53,
     "metadata": {},
     "output_type": "execute_result"
    }
   ],
   "source": [
    "errors(y_test, preds11)"
   ]
  },
  {
   "cell_type": "markdown",
   "metadata": {},
   "source": [
    "## Model 12: Best Model: Neural Networks adding Layers and Early Stopping\n",
    "[(back to top)](#Regression-Modeling)"
   ]
  },
  {
   "cell_type": "code",
   "execution_count": 54,
   "metadata": {
    "collapsed": true,
    "jupyter": {
     "outputs_hidden": true
    },
    "tags": []
   },
   "outputs": [
    {
     "name": "stdout",
     "output_type": "stream",
     "text": [
      "Epoch 1/100\n",
      "9/9 [==============================] - 1s 37ms/step - loss: 1996.3625 - mse: 1996.3625 - val_loss: 2077.0623 - val_mse: 2077.0623\n",
      "Epoch 2/100\n",
      "9/9 [==============================] - 0s 10ms/step - loss: 1847.5795 - mse: 1847.5795 - val_loss: 1796.2268 - val_mse: 1796.2268\n",
      "Epoch 3/100\n",
      "9/9 [==============================] - 0s 9ms/step - loss: 1507.2852 - mse: 1507.2852 - val_loss: 1180.9486 - val_mse: 1180.9486\n",
      "Epoch 4/100\n",
      "9/9 [==============================] - 0s 11ms/step - loss: 936.8638 - mse: 936.8638 - val_loss: 338.2797 - val_mse: 338.2797\n",
      "Epoch 5/100\n",
      "9/9 [==============================] - 0s 8ms/step - loss: 247.8311 - mse: 247.8311 - val_loss: 379.0016 - val_mse: 379.0016\n",
      "Epoch 6/100\n",
      "9/9 [==============================] - 0s 8ms/step - loss: 279.6535 - mse: 279.6535 - val_loss: 166.4599 - val_mse: 166.4599\n",
      "Epoch 7/100\n",
      "9/9 [==============================] - 0s 8ms/step - loss: 132.1919 - mse: 132.1919 - val_loss: 140.4067 - val_mse: 140.4067\n",
      "Epoch 8/100\n",
      "9/9 [==============================] - 0s 9ms/step - loss: 110.0373 - mse: 110.0373 - val_loss: 107.1855 - val_mse: 107.1855\n",
      "Epoch 9/100\n",
      "9/9 [==============================] - 0s 8ms/step - loss: 86.1669 - mse: 86.1669 - val_loss: 97.3712 - val_mse: 97.3712\n",
      "Epoch 10/100\n",
      "9/9 [==============================] - 0s 10ms/step - loss: 84.0227 - mse: 84.0227 - val_loss: 86.4186 - val_mse: 86.4186\n",
      "Epoch 11/100\n",
      "9/9 [==============================] - 0s 9ms/step - loss: 76.4583 - mse: 76.4583 - val_loss: 77.6280 - val_mse: 77.6280\n",
      "Epoch 12/100\n",
      "9/9 [==============================] - 0s 9ms/step - loss: 65.4029 - mse: 65.4029 - val_loss: 73.0284 - val_mse: 73.0284\n",
      "Epoch 13/100\n",
      "9/9 [==============================] - 0s 9ms/step - loss: 62.3560 - mse: 62.3560 - val_loss: 68.5755 - val_mse: 68.5755\n",
      "Epoch 14/100\n",
      "9/9 [==============================] - 0s 8ms/step - loss: 62.3971 - mse: 62.3971 - val_loss: 65.1166 - val_mse: 65.1166\n",
      "Epoch 15/100\n",
      "9/9 [==============================] - 0s 8ms/step - loss: 55.7736 - mse: 55.7736 - val_loss: 62.4734 - val_mse: 62.4734\n",
      "Epoch 16/100\n",
      "9/9 [==============================] - 0s 8ms/step - loss: 53.1826 - mse: 53.1826 - val_loss: 60.9197 - val_mse: 60.9197\n",
      "Epoch 17/100\n",
      "9/9 [==============================] - 0s 8ms/step - loss: 50.4990 - mse: 50.4990 - val_loss: 59.0407 - val_mse: 59.0407\n",
      "Epoch 18/100\n",
      "9/9 [==============================] - 0s 8ms/step - loss: 50.1100 - mse: 50.1100 - val_loss: 56.9872 - val_mse: 56.9872\n",
      "Epoch 19/100\n",
      "9/9 [==============================] - 0s 9ms/step - loss: 48.8346 - mse: 48.8346 - val_loss: 55.0541 - val_mse: 55.0541\n",
      "Epoch 20/100\n",
      "9/9 [==============================] - 0s 10ms/step - loss: 42.4319 - mse: 42.4319 - val_loss: 53.1045 - val_mse: 53.1045\n",
      "Epoch 21/100\n",
      "9/9 [==============================] - 0s 10ms/step - loss: 43.6344 - mse: 43.6344 - val_loss: 52.3390 - val_mse: 52.3390\n",
      "Epoch 22/100\n",
      "9/9 [==============================] - 0s 13ms/step - loss: 43.2296 - mse: 43.2296 - val_loss: 50.9736 - val_mse: 50.9736\n",
      "Epoch 23/100\n",
      "9/9 [==============================] - 0s 11ms/step - loss: 39.4795 - mse: 39.4795 - val_loss: 50.0351 - val_mse: 50.0351\n",
      "Epoch 24/100\n",
      "9/9 [==============================] - 0s 10ms/step - loss: 42.7516 - mse: 42.7516 - val_loss: 48.2516 - val_mse: 48.2516\n",
      "Epoch 25/100\n",
      "9/9 [==============================] - 0s 11ms/step - loss: 42.1284 - mse: 42.1284 - val_loss: 46.8567 - val_mse: 46.8567\n",
      "Epoch 26/100\n",
      "9/9 [==============================] - 0s 12ms/step - loss: 39.3394 - mse: 39.3394 - val_loss: 46.1596 - val_mse: 46.1596\n",
      "Epoch 27/100\n",
      "9/9 [==============================] - 0s 9ms/step - loss: 37.7101 - mse: 37.7101 - val_loss: 44.2269 - val_mse: 44.2269\n",
      "Epoch 28/100\n",
      "9/9 [==============================] - 0s 8ms/step - loss: 32.1751 - mse: 32.1751 - val_loss: 43.2401 - val_mse: 43.2401\n",
      "Epoch 29/100\n",
      "9/9 [==============================] - 0s 9ms/step - loss: 34.0066 - mse: 34.0066 - val_loss: 42.8241 - val_mse: 42.8241\n",
      "Epoch 30/100\n",
      "9/9 [==============================] - 0s 9ms/step - loss: 32.7272 - mse: 32.7272 - val_loss: 42.7690 - val_mse: 42.7690\n",
      "Epoch 31/100\n",
      "9/9 [==============================] - 0s 8ms/step - loss: 30.9039 - mse: 30.9039 - val_loss: 42.5946 - val_mse: 42.5946\n",
      "Epoch 32/100\n",
      "9/9 [==============================] - 0s 9ms/step - loss: 33.3234 - mse: 33.3234 - val_loss: 40.7318 - val_mse: 40.7318\n",
      "Epoch 33/100\n",
      "9/9 [==============================] - 0s 8ms/step - loss: 35.1890 - mse: 35.1890 - val_loss: 39.0634 - val_mse: 39.0634\n",
      "Epoch 34/100\n",
      "9/9 [==============================] - 0s 10ms/step - loss: 29.6476 - mse: 29.6476 - val_loss: 39.1074 - val_mse: 39.1074\n",
      "Epoch 35/100\n",
      "9/9 [==============================] - 0s 12ms/step - loss: 29.5132 - mse: 29.5132 - val_loss: 39.1163 - val_mse: 39.1163\n",
      "Epoch 36/100\n",
      "9/9 [==============================] - 0s 10ms/step - loss: 29.2894 - mse: 29.2894 - val_loss: 38.1809 - val_mse: 38.1809\n",
      "Epoch 37/100\n",
      "9/9 [==============================] - 0s 15ms/step - loss: 27.4540 - mse: 27.4540 - val_loss: 38.1090 - val_mse: 38.1090\n",
      "Epoch 38/100\n",
      "9/9 [==============================] - 0s 18ms/step - loss: 28.4780 - mse: 28.4780 - val_loss: 38.0284 - val_mse: 38.0284\n",
      "Epoch 39/100\n",
      "9/9 [==============================] - 0s 12ms/step - loss: 27.6194 - mse: 27.6194 - val_loss: 37.5817 - val_mse: 37.5817\n",
      "Epoch 40/100\n",
      "9/9 [==============================] - 0s 9ms/step - loss: 29.4849 - mse: 29.4849 - val_loss: 36.6301 - val_mse: 36.6301\n",
      "Epoch 41/100\n",
      "9/9 [==============================] - 0s 8ms/step - loss: 27.7572 - mse: 27.7572 - val_loss: 36.5767 - val_mse: 36.5767\n",
      "Epoch 42/100\n",
      "9/9 [==============================] - 0s 9ms/step - loss: 25.8453 - mse: 25.8453 - val_loss: 36.1615 - val_mse: 36.1615\n",
      "Epoch 43/100\n",
      "9/9 [==============================] - 0s 12ms/step - loss: 28.4807 - mse: 28.4807 - val_loss: 36.1664 - val_mse: 36.1664\n",
      "Epoch 44/100\n",
      "9/9 [==============================] - 0s 9ms/step - loss: 25.0215 - mse: 25.0215 - val_loss: 35.7525 - val_mse: 35.7525\n",
      "Epoch 45/100\n",
      "9/9 [==============================] - 0s 10ms/step - loss: 25.7385 - mse: 25.7385 - val_loss: 35.0510 - val_mse: 35.0510\n",
      "Epoch 46/100\n",
      "9/9 [==============================] - 0s 11ms/step - loss: 23.6111 - mse: 23.6111 - val_loss: 35.0759 - val_mse: 35.0759\n",
      "Epoch 47/100\n",
      "9/9 [==============================] - 0s 9ms/step - loss: 25.6578 - mse: 25.6578 - val_loss: 34.5103 - val_mse: 34.5103\n",
      "Epoch 48/100\n",
      "9/9 [==============================] - 0s 12ms/step - loss: 22.6165 - mse: 22.6165 - val_loss: 34.8081 - val_mse: 34.8081\n",
      "Epoch 49/100\n",
      "9/9 [==============================] - 0s 12ms/step - loss: 22.2963 - mse: 22.2963 - val_loss: 33.8945 - val_mse: 33.8945\n",
      "Epoch 50/100\n",
      "9/9 [==============================] - 0s 10ms/step - loss: 22.5465 - mse: 22.5465 - val_loss: 33.5904 - val_mse: 33.5904\n",
      "Epoch 51/100\n",
      "9/9 [==============================] - 0s 8ms/step - loss: 22.2192 - mse: 22.2192 - val_loss: 32.7708 - val_mse: 32.7708\n",
      "Epoch 52/100\n",
      "9/9 [==============================] - 0s 11ms/step - loss: 23.2941 - mse: 23.2941 - val_loss: 32.7494 - val_mse: 32.7494\n",
      "Epoch 53/100\n",
      "9/9 [==============================] - 0s 14ms/step - loss: 20.1933 - mse: 20.1933 - val_loss: 33.5408 - val_mse: 33.5408\n",
      "Epoch 54/100\n",
      "9/9 [==============================] - 0s 12ms/step - loss: 20.9969 - mse: 20.9969 - val_loss: 32.6773 - val_mse: 32.6773\n",
      "Epoch 55/100\n",
      "9/9 [==============================] - 0s 12ms/step - loss: 22.1983 - mse: 22.1983 - val_loss: 32.7725 - val_mse: 32.7725\n",
      "Epoch 56/100\n",
      "9/9 [==============================] - 0s 10ms/step - loss: 20.0608 - mse: 20.0608 - val_loss: 32.0138 - val_mse: 32.0138\n",
      "Epoch 57/100\n",
      "9/9 [==============================] - 0s 12ms/step - loss: 19.6150 - mse: 19.6150 - val_loss: 31.2177 - val_mse: 31.2177\n",
      "Epoch 58/100\n",
      "9/9 [==============================] - 0s 11ms/step - loss: 21.1250 - mse: 21.1250 - val_loss: 31.6275 - val_mse: 31.6275\n",
      "Epoch 59/100\n",
      "9/9 [==============================] - 0s 11ms/step - loss: 21.9974 - mse: 21.9974 - val_loss: 32.3655 - val_mse: 32.3655\n",
      "Epoch 60/100\n",
      "9/9 [==============================] - 0s 10ms/step - loss: 18.8400 - mse: 18.8400 - val_loss: 31.8037 - val_mse: 31.8037\n",
      "Epoch 61/100\n",
      "9/9 [==============================] - 0s 11ms/step - loss: 21.8953 - mse: 21.8953 - val_loss: 31.7780 - val_mse: 31.7780\n",
      "Epoch 62/100\n",
      "9/9 [==============================] - 0s 15ms/step - loss: 18.3923 - mse: 18.3923 - val_loss: 30.4208 - val_mse: 30.4208\n",
      "Epoch 63/100\n",
      "9/9 [==============================] - 0s 14ms/step - loss: 17.4727 - mse: 17.4727 - val_loss: 30.7125 - val_mse: 30.7125\n",
      "Epoch 64/100\n",
      "9/9 [==============================] - 0s 14ms/step - loss: 17.5784 - mse: 17.5784 - val_loss: 30.2778 - val_mse: 30.2778\n",
      "Epoch 65/100\n",
      "9/9 [==============================] - 0s 11ms/step - loss: 18.2593 - mse: 18.2593 - val_loss: 29.6766 - val_mse: 29.6766\n",
      "Epoch 66/100\n",
      "9/9 [==============================] - 0s 12ms/step - loss: 20.1265 - mse: 20.1265 - val_loss: 29.3686 - val_mse: 29.3686\n",
      "Epoch 67/100\n",
      "9/9 [==============================] - 0s 12ms/step - loss: 23.2954 - mse: 23.2954 - val_loss: 28.9362 - val_mse: 28.9362\n",
      "Epoch 68/100\n",
      "9/9 [==============================] - 0s 11ms/step - loss: 17.9537 - mse: 17.9537 - val_loss: 28.7261 - val_mse: 28.7261\n",
      "Epoch 69/100\n",
      "9/9 [==============================] - 0s 11ms/step - loss: 17.8380 - mse: 17.8380 - val_loss: 29.1720 - val_mse: 29.1720\n",
      "Epoch 70/100\n",
      "9/9 [==============================] - 0s 13ms/step - loss: 17.1471 - mse: 17.1471 - val_loss: 28.5564 - val_mse: 28.5564\n",
      "Epoch 71/100\n",
      "9/9 [==============================] - 0s 14ms/step - loss: 15.8572 - mse: 15.8572 - val_loss: 28.3833 - val_mse: 28.3833\n",
      "Epoch 72/100\n",
      "9/9 [==============================] - 0s 16ms/step - loss: 15.4934 - mse: 15.4934 - val_loss: 28.6601 - val_mse: 28.6601\n",
      "Epoch 73/100\n",
      "9/9 [==============================] - 0s 11ms/step - loss: 19.6840 - mse: 19.6840 - val_loss: 28.3373 - val_mse: 28.3373\n",
      "Epoch 74/100\n",
      "9/9 [==============================] - 0s 16ms/step - loss: 14.6949 - mse: 14.6949 - val_loss: 28.6664 - val_mse: 28.6664\n",
      "Epoch 75/100\n",
      "9/9 [==============================] - 0s 14ms/step - loss: 16.4502 - mse: 16.4502 - val_loss: 28.0712 - val_mse: 28.0712\n",
      "Epoch 76/100\n",
      "9/9 [==============================] - 0s 14ms/step - loss: 17.6782 - mse: 17.6782 - val_loss: 28.5028 - val_mse: 28.5028\n",
      "Epoch 77/100\n",
      "9/9 [==============================] - 0s 15ms/step - loss: 14.8675 - mse: 14.8675 - val_loss: 27.7328 - val_mse: 27.7328\n",
      "Epoch 78/100\n",
      "9/9 [==============================] - 0s 14ms/step - loss: 16.5161 - mse: 16.5161 - val_loss: 27.7851 - val_mse: 27.7851\n",
      "Epoch 79/100\n",
      "9/9 [==============================] - 0s 15ms/step - loss: 15.0463 - mse: 15.0463 - val_loss: 27.4038 - val_mse: 27.4038\n",
      "Epoch 80/100\n",
      "9/9 [==============================] - 0s 13ms/step - loss: 15.7426 - mse: 15.7426 - val_loss: 28.0104 - val_mse: 28.0104\n",
      "Epoch 81/100\n",
      "9/9 [==============================] - 0s 17ms/step - loss: 15.6120 - mse: 15.6120 - val_loss: 26.5462 - val_mse: 26.5462\n",
      "Epoch 82/100\n",
      "9/9 [==============================] - 0s 16ms/step - loss: 16.6472 - mse: 16.6472 - val_loss: 26.9003 - val_mse: 26.9003\n",
      "Epoch 83/100\n",
      "9/9 [==============================] - 0s 12ms/step - loss: 19.4898 - mse: 19.4898 - val_loss: 26.4282 - val_mse: 26.4282\n",
      "Epoch 84/100\n",
      "9/9 [==============================] - 0s 14ms/step - loss: 16.3421 - mse: 16.3421 - val_loss: 27.1038 - val_mse: 27.1038\n",
      "Epoch 85/100\n",
      "9/9 [==============================] - 0s 13ms/step - loss: 14.4373 - mse: 14.4373 - val_loss: 26.3657 - val_mse: 26.3657\n",
      "Epoch 86/100\n",
      "9/9 [==============================] - 0s 10ms/step - loss: 14.8626 - mse: 14.8626 - val_loss: 26.6964 - val_mse: 26.6964\n",
      "Epoch 87/100\n",
      "9/9 [==============================] - 0s 13ms/step - loss: 16.7836 - mse: 16.7836 - val_loss: 26.0244 - val_mse: 26.0244\n",
      "Epoch 88/100\n",
      "9/9 [==============================] - 0s 11ms/step - loss: 13.9454 - mse: 13.9454 - val_loss: 25.9658 - val_mse: 25.9658\n",
      "Epoch 89/100\n",
      "9/9 [==============================] - 0s 13ms/step - loss: 16.4492 - mse: 16.4492 - val_loss: 26.4861 - val_mse: 26.4861\n",
      "Epoch 90/100\n",
      "9/9 [==============================] - 0s 13ms/step - loss: 15.2221 - mse: 15.2221 - val_loss: 25.9448 - val_mse: 25.9448\n",
      "Epoch 91/100\n",
      "9/9 [==============================] - 0s 11ms/step - loss: 13.9741 - mse: 13.9741 - val_loss: 25.5202 - val_mse: 25.5202\n",
      "Epoch 92/100\n",
      "9/9 [==============================] - 0s 10ms/step - loss: 13.7257 - mse: 13.7257 - val_loss: 27.4318 - val_mse: 27.4318\n",
      "Epoch 93/100\n",
      "9/9 [==============================] - 0s 10ms/step - loss: 14.6671 - mse: 14.6671 - val_loss: 26.2794 - val_mse: 26.2794\n",
      "Epoch 94/100\n",
      "9/9 [==============================] - 0s 11ms/step - loss: 15.3065 - mse: 15.3065 - val_loss: 25.1202 - val_mse: 25.1202\n",
      "Epoch 95/100\n",
      "9/9 [==============================] - 0s 11ms/step - loss: 12.6473 - mse: 12.6473 - val_loss: 25.6756 - val_mse: 25.6756\n",
      "Epoch 96/100\n",
      "9/9 [==============================] - 0s 10ms/step - loss: 13.7740 - mse: 13.7740 - val_loss: 24.8047 - val_mse: 24.8047\n",
      "Epoch 97/100\n",
      "9/9 [==============================] - 0s 33ms/step - loss: 15.6883 - mse: 15.6883 - val_loss: 25.4967 - val_mse: 25.4967\n",
      "Epoch 98/100\n",
      "9/9 [==============================] - 0s 42ms/step - loss: 16.6866 - mse: 16.6866 - val_loss: 25.0086 - val_mse: 25.0086\n",
      "Epoch 99/100\n",
      "9/9 [==============================] - 0s 14ms/step - loss: 13.6142 - mse: 13.6142 - val_loss: 24.8225 - val_mse: 24.8225\n",
      "Epoch 100/100\n",
      "9/9 [==============================] - 0s 15ms/step - loss: 14.3432 - mse: 14.3432 - val_loss: 24.8500 - val_mse: 24.8500\n"
     ]
    }
   ],
   "source": [
    "model12 = Sequential()\n",
    "model12.add(Dense(50, activation = 'relu'))\n",
    "model12.add(Dense(200, activation = 'relu'))\n",
    "model12.add(Dense(50, activation = 'relu'))\n",
    "model12.add(Dense(50, activation = 'relu'))\n",
    "model12.add(Dense(1,))\n",
    "\n",
    "model12.compile(optimizer = 'adam', loss='mse', metrics = ['mse'])\n",
    "early_stop = EarlyStopping(patience = 5) \n",
    "history12 = model12.fit(\n",
    "    X_train_knn,\n",
    "    y_train,\n",
    "    batch_size = 100,\n",
    "    callbacks = [early_stop],\n",
    "    validation_data=(X_test_knn, y_test),\n",
    "    epochs= 100\n",
    ")"
   ]
  },
  {
   "cell_type": "code",
   "execution_count": 55,
   "metadata": {},
   "outputs": [
    {
     "data": {
      "image/png": "[encoded data removed]",
      "text/plain": [
       "<Figure size 432x288 with 2 Axes>"
      ]
     },
     "metadata": {
      "needs_background": "light"
     },
     "output_type": "display_data"
    }
   ],
   "source": [
    "plt.subplot(1, 2, 1)\n",
    "plt.title('Loss')\n",
    "plt.plot(history12.history['loss'], label = 'Training Loss')\n",
    "plt.plot(history12.history['val_loss'], label = 'Validation Loss')\n",
    "plt.legend();\n",
    "\n",
    "plt.subplot(1, 2, 2)\n",
    "plt.title('MSE')\n",
    "plt.plot(history12.history['val_mse'], label = 'Validation MSE')\n",
    "plt.plot(history12.history['mse'], label = 'Training MSE')\n",
    "plt.legend();"
   ]
  },
  {
   "cell_type": "markdown",
   "metadata": {},
   "source": [
    "from the loss and MSE graphs we can see that the data is not over fit with training and validation"
   ]
  },
  {
   "cell_type": "code",
   "execution_count": 56,
   "metadata": {},
   "outputs": [],
   "source": [
    "pred12 = model12.predict(X_test_knn)"
   ]
  },
  {
   "cell_type": "code",
   "execution_count": 57,
   "metadata": {},
   "outputs": [
    {
     "data": {
      "text/plain": [
       "'root mean sqaured error is 4.984972898905565, r squared is 0.8973250868352323, and mean absolute error is 3.2106938396927216'"
      ]
     },
     "execution_count": 57,
     "metadata": {},
     "output_type": "execute_result"
    }
   ],
   "source": [
    "errors(y_test, pred12)"
   ]
  },
  {
   "cell_type": "markdown",
   "metadata": {},
   "source": [
    "Overall, this was the best performing model with the lowest mean squared error and r2"
   ]
  },
  {
   "cell_type": "code",
   "execution_count": 58,
   "metadata": {},
   "outputs": [
    {
     "data": {
      "image/png": "[encoded data removed]",
      "text/plain": [
       "<Figure size 720x360 with 1 Axes>"
      ]
     },
     "metadata": {
      "needs_background": "light"
     },
     "output_type": "display_data"
    }
   ],
   "source": [
    "plt.subplots(figsize = (10,5))\n",
    "plt.title('AQI on Test Data vs Predicted Neural Networks AQI', fontsize = 17)\n",
    "plt.xlabel('Predicted AQI', fontsize = 15)\n",
    "plt.ylabel('Cumulative AQI', fontsize = 15)\n",
    "sns.scatterplot(x = y_test, y = pred12[:, 0]);"
   ]
  },
  {
   "cell_type": "markdown",
   "metadata": {},
   "source": [
    "Predicted and actual AQI values are aligning well"
   ]
  },
  {
   "cell_type": "code",
   "execution_count": 59,
   "metadata": {},
   "outputs": [
    {
     "data": {
      "image/png": "[encoded data removed]",
      "text/plain": [
       "<Figure size 720x360 with 1 Axes>"
      ]
     },
     "metadata": {
      "needs_background": "light"
     },
     "output_type": "display_data"
    }
   ],
   "source": [
    "plt.subplots(figsize = (10,5))\n",
    "plt.title('AQI on Test Data vs Predicted Neural Networks AQI', fontsize = 17)\n",
    "plt.xlabel('Date', fontsize = 15)\n",
    "plt.ylabel('Cumulative AQI', fontsize = 15)\n",
    "sns.scatterplot(x = y_test.index, y = y_test, label = 'Test AQI');\n",
    "sns.scatterplot(x = y_test.index, y = pred12[:, 0], label = 'Predicted AQI');"
   ]
  },
  {
   "cell_type": "markdown",
   "metadata": {},
   "source": [
    "Test AQI values in blue align very well with the predicted aqi values displayed in orange from our model"
   ]
  },
  {
   "cell_type": "markdown",
   "metadata": {},
   "source": [
    "## Model 13: Decision Tree Regressor\n",
    "[(back to top)](#Regression-Modeling)"
   ]
  },
  {
   "cell_type": "code",
   "execution_count": 60,
   "metadata": {},
   "outputs": [
    {
     "name": "stdout",
     "output_type": "stream",
     "text": [
      "0.914887638548119\n",
      "0.7863121677194889\n"
     ]
    },
    {
     "data": {
      "text/plain": [
       "{'decisiontreeregressor__max_depth': 5}"
      ]
     },
     "execution_count": 60,
     "metadata": {},
     "output_type": "execute_result"
    }
   ],
   "source": [
    "pipe13 = make_pipeline(KNNImputer(),StandardScaler(), DecisionTreeRegressor())\n",
    "\n",
    "params13 = {\n",
    "'decisiontreeregressor__max_depth': [2,5,9]}\n",
    "\n",
    "gs_tree13 = GridSearchCV(pipe13, params13, n_jobs =-1)\n",
    "\n",
    "gs_tree13.fit(X_train, y_train)\n",
    "print(gs_tree13.score(X_train, y_train))\n",
    "print(gs_tree13.score(X_test, y_test))\n",
    "gs_tree13.best_params_"
   ]
  },
  {
   "cell_type": "code",
   "execution_count": 61,
   "metadata": {},
   "outputs": [],
   "source": [
    "pred13 = gs_tree13.predict(X_test)"
   ]
  },
  {
   "cell_type": "code",
   "execution_count": 62,
   "metadata": {},
   "outputs": [
    {
     "data": {
      "text/plain": [
       "'root mean sqaured error is 7.191517244827711, r squared is 0.7863121677194889, and mean absolute error is 3.3112889247049813'"
      ]
     },
     "execution_count": 62,
     "metadata": {},
     "output_type": "execute_result"
    }
   ],
   "source": [
    "errors(y_test, pred13)"
   ]
  },
  {
   "cell_type": "markdown",
   "metadata": {},
   "source": [
    "Decision tree second best model with second best r2 and msme"
   ]
  },
  {
   "cell_type": "code",
   "execution_count": 63,
   "metadata": {},
   "outputs": [
    {
     "data": {
      "text/html": [
       "<div>\n",
       "<style scoped>\n",
       "    .dataframe tbody tr th:only-of-type {\n",
       "        vertical-align: middle;\n",
       "    }\n",
       "\n",
       "    .dataframe tbody tr th {\n",
       "        vertical-align: top;\n",
       "    }\n",
       "\n",
       "    .dataframe thead th {\n",
       "        text-align: right;\n",
       "    }\n",
       "</style>\n",
       "<table border=\"1\" class=\"dataframe\">\n",
       "  <thead>\n",
       "    <tr style=\"text-align: right;\">\n",
       "      <th></th>\n",
       "      <th>name</th>\n",
       "      <th>importance</th>\n",
       "    </tr>\n",
       "  </thead>\n",
       "  <tbody>\n",
       "    <tr>\n",
       "      <th>4</th>\n",
       "      <td>pm2.5_mean</td>\n",
       "      <td>0.792688</td>\n",
       "    </tr>\n",
       "    <tr>\n",
       "      <th>2</th>\n",
       "      <td>ozone_max</td>\n",
       "      <td>0.184175</td>\n",
       "    </tr>\n",
       "    <tr>\n",
       "      <th>3</th>\n",
       "      <td>pm10_mean</td>\n",
       "      <td>0.013270</td>\n",
       "    </tr>\n",
       "    <tr>\n",
       "      <th>6</th>\n",
       "      <td>temp_avg</td>\n",
       "      <td>0.005320</td>\n",
       "    </tr>\n",
       "    <tr>\n",
       "      <th>1</th>\n",
       "      <td>no2_max</td>\n",
       "      <td>0.004041</td>\n",
       "    </tr>\n",
       "    <tr>\n",
       "      <th>0</th>\n",
       "      <td>co_max</td>\n",
       "      <td>0.000506</td>\n",
       "    </tr>\n",
       "    <tr>\n",
       "      <th>5</th>\n",
       "      <td>so2_max</td>\n",
       "      <td>0.000000</td>\n",
       "    </tr>\n",
       "    <tr>\n",
       "      <th>7</th>\n",
       "      <td>month</td>\n",
       "      <td>0.000000</td>\n",
       "    </tr>\n",
       "    <tr>\n",
       "      <th>8</th>\n",
       "      <td>weekday</td>\n",
       "      <td>0.000000</td>\n",
       "    </tr>\n",
       "  </tbody>\n",
       "</table>\n",
       "</div>"
      ],
      "text/plain": [
       "         name  importance\n",
       "4  pm2.5_mean    0.792688\n",
       "2   ozone_max    0.184175\n",
       "3   pm10_mean    0.013270\n",
       "6    temp_avg    0.005320\n",
       "1     no2_max    0.004041\n",
       "0      co_max    0.000506\n",
       "5     so2_max    0.000000\n",
       "7       month    0.000000\n",
       "8     weekday    0.000000"
      ]
     },
     "execution_count": 63,
     "metadata": {},
     "output_type": "execute_result"
    }
   ],
   "source": [
    "importance = gs_tree13.best_estimator_['decisiontreeregressor'].feature_importances_\n",
    "name = X_train.columns\n",
    "importance = pd.DataFrame(zip(name, importance), columns=['name', 'importance']).sort_values(by='importance', ascending=False)\n",
    "importance"
   ]
  },
  {
   "cell_type": "markdown",
   "metadata": {},
   "source": [
    "Decision tree important features shows that pm 2.5 mean and ozone max demonstrated as the most important features in determining air quality."
   ]
  },
  {
   "cell_type": "code",
   "execution_count": 64,
   "metadata": {},
   "outputs": [
    {
     "data": {
      "image/png": "[encoded data removed]",
      "text/plain": [
       "<Figure size 720x360 with 1 Axes>"
      ]
     },
     "metadata": {
      "needs_background": "light"
     },
     "output_type": "display_data"
    }
   ],
   "source": [
    "plt.subplots(figsize = (10,5))\n",
    "plt.title('AQI on Test Data vs Predicted Decision Tree Regressor AQI', fontsize = 17)\n",
    "plt.xlabel('Date', fontsize = 15)\n",
    "plt.ylabel('Cumulative AQI', fontsize = 15)\n",
    "sns.scatterplot(x = y_test.index, y = y_test);\n",
    "sns.scatterplot(x = y_test.index, y = pred13);"
   ]
  },
  {
   "cell_type": "markdown",
   "metadata": {},
   "source": [
    "Test AQI values in blue align very well with the predicted aqi values displayed in orange from our model"
   ]
  }
 ],
 "metadata": {
  "kernelspec": {
   "display_name": "Python 3",
   "language": "python",
   "name": "python3"
  },
  "language_info": {
   "codemirror_mode": {
    "name": "ipython",
    "version": 3
   },
   "file_extension": ".py",
   "mimetype": "text/x-python",
   "name": "python",
   "nbconvert_exporter": "python",
   "pygments_lexer": "ipython3",
   "version": "3.8.5"
  }
 },
 "nbformat": 4,
 "nbformat_minor": 4
}
