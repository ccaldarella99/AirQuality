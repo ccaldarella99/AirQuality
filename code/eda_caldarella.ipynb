{
 "cells": [
  {
   "cell_type": "markdown",
   "id": "adapted-trinidad",
   "metadata": {},
   "source": [
    "# EDC and Cleaning"
   ]
  },
  {
   "cell_type": "markdown",
   "id": "ranging-belief",
   "metadata": {},
   "source": [
    "### Contents:\n",
    " - [Import](#Import)\n",
    " - [Inspecting](#Inspecting)\n",
    " - [Functions](#Functions)\n",
    " - [Export](#EXPORT)\n"
   ]
  },
  {
   "cell_type": "markdown",
   "id": "distinct-familiar",
   "metadata": {},
   "source": [
    "## Import\n",
    "[(back to top)](#EDC-and-Cleaning)"
   ]
  },
  {
   "cell_type": "code",
   "execution_count": 1,
   "id": "fitted-timeline",
   "metadata": {},
   "outputs": [],
   "source": [
    "import numpy as np\n",
    "import pandas as pd\n",
    "\n",
    "import os\n",
    "import warnings\n",
    "warnings.simplefilter(\"ignore\")"
   ]
  },
  {
   "cell_type": "code",
   "execution_count": 2,
   "id": "caroline-panel",
   "metadata": {},
   "outputs": [
    {
     "data": {
      "text/plain": [
       "['2017_all_cleveland_oh_CO.csv',\n",
       " '2017_all_cleveland_oh_NO2.csv',\n",
       " '2017_all_cleveland_oh_O3.csv',\n",
       " '2017_all_cleveland_oh_Pb.csv',\n",
       " '2017_all_cleveland_oh_PM10.csv',\n",
       " '2017_all_cleveland_oh_PM2.5.csv',\n",
       " '2017_all_cleveland_oh_SO2.csv']"
      ]
     },
     "execution_count": 2,
     "metadata": {},
     "output_type": "execute_result"
    }
   ],
   "source": [
    "os.listdir('../data/')"
   ]
  },
  {
   "cell_type": "code",
   "execution_count": 3,
   "id": "sporting-chemical",
   "metadata": {},
   "outputs": [],
   "source": [
    "co = pd.read_csv('../data/2017_all_cleveland_oh_CO.csv')\n",
    "\n",
    "no2 = pd.read_csv('../data/2017_all_cleveland_oh_NO2.csv')\n",
    "\n",
    "o3 = pd.read_csv('../data/2017_all_cleveland_oh_O3.csv')\n",
    "\n",
    "pb = pd.read_csv('../data/2017_all_cleveland_oh_Pb.csv')\n",
    "\n",
    "pm10 = pd.read_csv('../data/2017_all_cleveland_oh_PM10.csv')\n",
    "\n",
    "pm25 = pd.read_csv('../data/2017_all_cleveland_oh_PM2.5.csv')\n",
    "\n",
    "so2 = pd.read_csv('../data/2017_all_cleveland_oh_SO2.csv')"
   ]
  },
  {
   "cell_type": "markdown",
   "id": "imported-corner",
   "metadata": {},
   "source": [
    "## Inspecting\n",
    "[(back to top)](#EDC-and-Cleaning)"
   ]
  },
  {
   "cell_type": "code",
   "execution_count": 4,
   "id": "coupled-storage",
   "metadata": {},
   "outputs": [
    {
     "name": "stdout",
     "output_type": "stream",
     "text": [
      "<class 'pandas.core.frame.DataFrame'>\n",
      "RangeIndex: 1433 entries, 0 to 1432\n",
      "Data columns (total 20 columns):\n",
      " #   Column                             Non-Null Count  Dtype  \n",
      "---  ------                             --------------  -----  \n",
      " 0   Date                               1433 non-null   object \n",
      " 1   Source                             1433 non-null   object \n",
      " 2   Site ID                            1433 non-null   int64  \n",
      " 3   POC                                1433 non-null   int64  \n",
      " 4   Daily Max 8-hour CO Concentration  1433 non-null   float64\n",
      " 5   UNITS                              1433 non-null   object \n",
      " 6   DAILY_AQI_VALUE                    1433 non-null   int64  \n",
      " 7   Site Name                          1433 non-null   object \n",
      " 8   DAILY_OBS_COUNT                    1433 non-null   int64  \n",
      " 9   PERCENT_COMPLETE                   1433 non-null   float64\n",
      " 10  AQS_PARAMETER_CODE                 1433 non-null   int64  \n",
      " 11  AQS_PARAMETER_DESC                 1433 non-null   object \n",
      " 12  CBSA_CODE                          1433 non-null   int64  \n",
      " 13  CBSA_NAME                          1433 non-null   object \n",
      " 14  STATE_CODE                         1433 non-null   int64  \n",
      " 15  STATE                              1433 non-null   object \n",
      " 16  COUNTY_CODE                        1433 non-null   int64  \n",
      " 17  COUNTY                             1433 non-null   object \n",
      " 18  SITE_LATITUDE                      1433 non-null   float64\n",
      " 19  SITE_LONGITUDE                     1433 non-null   float64\n",
      "dtypes: float64(4), int64(8), object(8)\n",
      "memory usage: 224.0+ KB\n"
     ]
    }
   ],
   "source": [
    "co.info()"
   ]
  },
  {
   "cell_type": "code",
   "execution_count": 5,
   "id": "informative-arizona",
   "metadata": {},
   "outputs": [
    {
     "data": {
      "text/html": [
       "<div>\n",
       "<style scoped>\n",
       "    .dataframe tbody tr th:only-of-type {\n",
       "        vertical-align: middle;\n",
       "    }\n",
       "\n",
       "    .dataframe tbody tr th {\n",
       "        vertical-align: top;\n",
       "    }\n",
       "\n",
       "    .dataframe thead th {\n",
       "        text-align: right;\n",
       "    }\n",
       "</style>\n",
       "<table border=\"1\" class=\"dataframe\">\n",
       "  <thead>\n",
       "    <tr style=\"text-align: right;\">\n",
       "      <th></th>\n",
       "      <th>Date</th>\n",
       "      <th>Source</th>\n",
       "      <th>Site ID</th>\n",
       "      <th>POC</th>\n",
       "      <th>Daily Max 8-hour CO Concentration</th>\n",
       "      <th>UNITS</th>\n",
       "      <th>DAILY_AQI_VALUE</th>\n",
       "      <th>Site Name</th>\n",
       "      <th>DAILY_OBS_COUNT</th>\n",
       "      <th>PERCENT_COMPLETE</th>\n",
       "      <th>AQS_PARAMETER_CODE</th>\n",
       "      <th>AQS_PARAMETER_DESC</th>\n",
       "      <th>CBSA_CODE</th>\n",
       "      <th>CBSA_NAME</th>\n",
       "      <th>STATE_CODE</th>\n",
       "      <th>STATE</th>\n",
       "      <th>COUNTY_CODE</th>\n",
       "      <th>COUNTY</th>\n",
       "      <th>SITE_LATITUDE</th>\n",
       "      <th>SITE_LONGITUDE</th>\n",
       "    </tr>\n",
       "  </thead>\n",
       "  <tbody>\n",
       "    <tr>\n",
       "      <th>0</th>\n",
       "      <td>01/01/2017</td>\n",
       "      <td>AQS</td>\n",
       "      <td>390350051</td>\n",
       "      <td>1</td>\n",
       "      <td>0.6</td>\n",
       "      <td>ppm</td>\n",
       "      <td>7</td>\n",
       "      <td>Galleria</td>\n",
       "      <td>19</td>\n",
       "      <td>79.0</td>\n",
       "      <td>42101</td>\n",
       "      <td>Carbon monoxide</td>\n",
       "      <td>17460</td>\n",
       "      <td>Cleveland-Elyria, OH</td>\n",
       "      <td>39</td>\n",
       "      <td>Ohio</td>\n",
       "      <td>35</td>\n",
       "      <td>Cuyahoga</td>\n",
       "      <td>41.504605</td>\n",
       "      <td>-81.69045</td>\n",
       "    </tr>\n",
       "    <tr>\n",
       "      <th>1</th>\n",
       "      <td>01/02/2017</td>\n",
       "      <td>AQS</td>\n",
       "      <td>390350051</td>\n",
       "      <td>1</td>\n",
       "      <td>0.8</td>\n",
       "      <td>ppm</td>\n",
       "      <td>9</td>\n",
       "      <td>Galleria</td>\n",
       "      <td>24</td>\n",
       "      <td>100.0</td>\n",
       "      <td>42101</td>\n",
       "      <td>Carbon monoxide</td>\n",
       "      <td>17460</td>\n",
       "      <td>Cleveland-Elyria, OH</td>\n",
       "      <td>39</td>\n",
       "      <td>Ohio</td>\n",
       "      <td>35</td>\n",
       "      <td>Cuyahoga</td>\n",
       "      <td>41.504605</td>\n",
       "      <td>-81.69045</td>\n",
       "    </tr>\n",
       "  </tbody>\n",
       "</table>\n",
       "</div>"
      ],
      "text/plain": [
       "         Date Source    Site ID  POC  Daily Max 8-hour CO Concentration UNITS  \\\n",
       "0  01/01/2017    AQS  390350051    1                                0.6   ppm   \n",
       "1  01/02/2017    AQS  390350051    1                                0.8   ppm   \n",
       "\n",
       "   DAILY_AQI_VALUE Site Name  DAILY_OBS_COUNT  PERCENT_COMPLETE  \\\n",
       "0                7  Galleria               19              79.0   \n",
       "1                9  Galleria               24             100.0   \n",
       "\n",
       "   AQS_PARAMETER_CODE AQS_PARAMETER_DESC  CBSA_CODE             CBSA_NAME  \\\n",
       "0               42101    Carbon monoxide      17460  Cleveland-Elyria, OH   \n",
       "1               42101    Carbon monoxide      17460  Cleveland-Elyria, OH   \n",
       "\n",
       "   STATE_CODE STATE  COUNTY_CODE    COUNTY  SITE_LATITUDE  SITE_LONGITUDE  \n",
       "0          39  Ohio           35  Cuyahoga      41.504605       -81.69045  \n",
       "1          39  Ohio           35  Cuyahoga      41.504605       -81.69045  "
      ]
     },
     "execution_count": 5,
     "metadata": {},
     "output_type": "execute_result"
    }
   ],
   "source": [
    "co.head(2)"
   ]
  },
  {
   "cell_type": "code",
   "execution_count": 6,
   "id": "interior-honey",
   "metadata": {},
   "outputs": [
    {
     "data": {
      "text/html": [
       "<div>\n",
       "<style scoped>\n",
       "    .dataframe tbody tr th:only-of-type {\n",
       "        vertical-align: middle;\n",
       "    }\n",
       "\n",
       "    .dataframe tbody tr th {\n",
       "        vertical-align: top;\n",
       "    }\n",
       "\n",
       "    .dataframe thead th {\n",
       "        text-align: right;\n",
       "    }\n",
       "</style>\n",
       "<table border=\"1\" class=\"dataframe\">\n",
       "  <thead>\n",
       "    <tr style=\"text-align: right;\">\n",
       "      <th></th>\n",
       "      <th>Date</th>\n",
       "      <th>COUNTY</th>\n",
       "      <th>Daily Max 8-hour CO Concentration</th>\n",
       "      <th>DAILY_AQI_VALUE</th>\n",
       "    </tr>\n",
       "    <tr>\n",
       "      <th>date_county</th>\n",
       "      <th></th>\n",
       "      <th></th>\n",
       "      <th></th>\n",
       "      <th></th>\n",
       "    </tr>\n",
       "  </thead>\n",
       "  <tbody>\n",
       "    <tr>\n",
       "      <th>01/01/2017, Cuyahoga</th>\n",
       "      <td>01/01/2017</td>\n",
       "      <td>Cuyahoga</td>\n",
       "      <td>0.6</td>\n",
       "      <td>7</td>\n",
       "    </tr>\n",
       "    <tr>\n",
       "      <th>01/02/2017, Cuyahoga</th>\n",
       "      <td>01/02/2017</td>\n",
       "      <td>Cuyahoga</td>\n",
       "      <td>0.8</td>\n",
       "      <td>9</td>\n",
       "    </tr>\n",
       "  </tbody>\n",
       "</table>\n",
       "</div>"
      ],
      "text/plain": [
       "                            Date    COUNTY  Daily Max 8-hour CO Concentration  \\\n",
       "date_county                                                                     \n",
       "01/01/2017, Cuyahoga  01/01/2017  Cuyahoga                                0.6   \n",
       "01/02/2017, Cuyahoga  01/02/2017  Cuyahoga                                0.8   \n",
       "\n",
       "                      DAILY_AQI_VALUE  \n",
       "date_county                            \n",
       "01/01/2017, Cuyahoga                7  \n",
       "01/02/2017, Cuyahoga                9  "
      ]
     },
     "execution_count": 6,
     "metadata": {},
     "output_type": "execute_result"
    }
   ],
   "source": [
    "co_df = co[['Date', 'COUNTY', 'Daily Max 8-hour CO Concentration', 'DAILY_AQI_VALUE']]\n",
    "co_df['date_county'] = co_df['Date'] + \", \" + co_df['COUNTY']\n",
    "co_df.set_index('date_county', inplace=True)\n",
    "co_df.head(2)"
   ]
  },
  {
   "cell_type": "code",
   "execution_count": 7,
   "id": "silver-employer",
   "metadata": {},
   "outputs": [
    {
     "data": {
      "text/html": [
       "<div>\n",
       "<style scoped>\n",
       "    .dataframe tbody tr th:only-of-type {\n",
       "        vertical-align: middle;\n",
       "    }\n",
       "\n",
       "    .dataframe tbody tr th {\n",
       "        vertical-align: top;\n",
       "    }\n",
       "\n",
       "    .dataframe thead th {\n",
       "        text-align: right;\n",
       "    }\n",
       "</style>\n",
       "<table border=\"1\" class=\"dataframe\">\n",
       "  <thead>\n",
       "    <tr style=\"text-align: right;\">\n",
       "      <th></th>\n",
       "      <th>Daily Max 8-hour CO Concentration</th>\n",
       "      <th>DAILY_AQI_VALUE</th>\n",
       "    </tr>\n",
       "    <tr>\n",
       "      <th>date_county</th>\n",
       "      <th></th>\n",
       "      <th></th>\n",
       "    </tr>\n",
       "  </thead>\n",
       "  <tbody>\n",
       "    <tr>\n",
       "      <th>01/01/2017, Cuyahoga</th>\n",
       "      <td>0.6</td>\n",
       "      <td>7</td>\n",
       "    </tr>\n",
       "    <tr>\n",
       "      <th>01/02/2017, Cuyahoga</th>\n",
       "      <td>0.8</td>\n",
       "      <td>9</td>\n",
       "    </tr>\n",
       "    <tr>\n",
       "      <th>01/03/2017, Cuyahoga</th>\n",
       "      <td>0.9</td>\n",
       "      <td>10</td>\n",
       "    </tr>\n",
       "    <tr>\n",
       "      <th>01/04/2017, Cuyahoga</th>\n",
       "      <td>0.7</td>\n",
       "      <td>8</td>\n",
       "    </tr>\n",
       "    <tr>\n",
       "      <th>01/05/2017, Cuyahoga</th>\n",
       "      <td>0.6</td>\n",
       "      <td>7</td>\n",
       "    </tr>\n",
       "  </tbody>\n",
       "</table>\n",
       "</div>"
      ],
      "text/plain": [
       "                      Daily Max 8-hour CO Concentration  DAILY_AQI_VALUE\n",
       "date_county                                                             \n",
       "01/01/2017, Cuyahoga                                0.6                7\n",
       "01/02/2017, Cuyahoga                                0.8                9\n",
       "01/03/2017, Cuyahoga                                0.9               10\n",
       "01/04/2017, Cuyahoga                                0.7                8\n",
       "01/05/2017, Cuyahoga                                0.6                7"
      ]
     },
     "execution_count": 7,
     "metadata": {},
     "output_type": "execute_result"
    }
   ],
   "source": [
    "co_df.drop(columns=['Date', 'COUNTY'], inplace=True)\n",
    "co_df.head()"
   ]
  },
  {
   "cell_type": "code",
   "execution_count": 8,
   "id": "indonesian-huntington",
   "metadata": {},
   "outputs": [
    {
     "data": {
      "text/plain": [
       "Daily Max 8-hour CO Concentration    0\n",
       "DAILY_AQI_VALUE                      0\n",
       "dtype: int64"
      ]
     },
     "execution_count": 8,
     "metadata": {},
     "output_type": "execute_result"
    }
   ],
   "source": [
    "co_df.isna().sum()"
   ]
  },
  {
   "cell_type": "code",
   "execution_count": 9,
   "id": "israeli-nebraska",
   "metadata": {},
   "outputs": [
    {
     "name": "stdout",
     "output_type": "stream",
     "text": [
      "<class 'pandas.core.frame.DataFrame'>\n",
      "Index: 1433 entries, 01/01/2017, Cuyahoga to 12/31/2017, Lake\n",
      "Data columns (total 2 columns):\n",
      " #   Column                             Non-Null Count  Dtype  \n",
      "---  ------                             --------------  -----  \n",
      " 0   Daily Max 8-hour CO Concentration  1433 non-null   float64\n",
      " 1   DAILY_AQI_VALUE                    1433 non-null   int64  \n",
      "dtypes: float64(1), int64(1)\n",
      "memory usage: 33.6+ KB\n"
     ]
    }
   ],
   "source": [
    "co_df.info()"
   ]
  },
  {
   "cell_type": "code",
   "execution_count": 10,
   "id": "urban-evanescence",
   "metadata": {},
   "outputs": [
    {
     "name": "stdout",
     "output_type": "stream",
     "text": [
      "<class 'pandas.core.frame.DataFrame'>\n",
      "RangeIndex: 699 entries, 0 to 698\n",
      "Data columns (total 20 columns):\n",
      " #   Column                              Non-Null Count  Dtype  \n",
      "---  ------                              --------------  -----  \n",
      " 0   Date                                699 non-null    object \n",
      " 1   Source                              699 non-null    object \n",
      " 2   Site ID                             699 non-null    int64  \n",
      " 3   POC                                 699 non-null    int64  \n",
      " 4   Daily Max 1-hour NO2 Concentration  699 non-null    int64  \n",
      " 5   UNITS                               699 non-null    object \n",
      " 6   DAILY_AQI_VALUE                     699 non-null    int64  \n",
      " 7   Site Name                           699 non-null    object \n",
      " 8   DAILY_OBS_COUNT                     699 non-null    int64  \n",
      " 9   PERCENT_COMPLETE                    699 non-null    float64\n",
      " 10  AQS_PARAMETER_CODE                  699 non-null    int64  \n",
      " 11  AQS_PARAMETER_DESC                  699 non-null    object \n",
      " 12  CBSA_CODE                           699 non-null    int64  \n",
      " 13  CBSA_NAME                           699 non-null    object \n",
      " 14  STATE_CODE                          699 non-null    int64  \n",
      " 15  STATE                               699 non-null    object \n",
      " 16  COUNTY_CODE                         699 non-null    int64  \n",
      " 17  COUNTY                              699 non-null    object \n",
      " 18  SITE_LATITUDE                       699 non-null    float64\n",
      " 19  SITE_LONGITUDE                      699 non-null    float64\n",
      "dtypes: float64(3), int64(9), object(8)\n",
      "memory usage: 109.3+ KB\n"
     ]
    }
   ],
   "source": [
    "no2.info()"
   ]
  },
  {
   "cell_type": "code",
   "execution_count": 11,
   "id": "resident-duration",
   "metadata": {},
   "outputs": [
    {
     "data": {
      "text/html": [
       "<div>\n",
       "<style scoped>\n",
       "    .dataframe tbody tr th:only-of-type {\n",
       "        vertical-align: middle;\n",
       "    }\n",
       "\n",
       "    .dataframe tbody tr th {\n",
       "        vertical-align: top;\n",
       "    }\n",
       "\n",
       "    .dataframe thead th {\n",
       "        text-align: right;\n",
       "    }\n",
       "</style>\n",
       "<table border=\"1\" class=\"dataframe\">\n",
       "  <thead>\n",
       "    <tr style=\"text-align: right;\">\n",
       "      <th></th>\n",
       "      <th>Date</th>\n",
       "      <th>Source</th>\n",
       "      <th>Site ID</th>\n",
       "      <th>POC</th>\n",
       "      <th>Daily Max 1-hour NO2 Concentration</th>\n",
       "      <th>UNITS</th>\n",
       "      <th>DAILY_AQI_VALUE</th>\n",
       "      <th>Site Name</th>\n",
       "      <th>DAILY_OBS_COUNT</th>\n",
       "      <th>PERCENT_COMPLETE</th>\n",
       "      <th>AQS_PARAMETER_CODE</th>\n",
       "      <th>AQS_PARAMETER_DESC</th>\n",
       "      <th>CBSA_CODE</th>\n",
       "      <th>CBSA_NAME</th>\n",
       "      <th>STATE_CODE</th>\n",
       "      <th>STATE</th>\n",
       "      <th>COUNTY_CODE</th>\n",
       "      <th>COUNTY</th>\n",
       "      <th>SITE_LATITUDE</th>\n",
       "      <th>SITE_LONGITUDE</th>\n",
       "    </tr>\n",
       "  </thead>\n",
       "  <tbody>\n",
       "    <tr>\n",
       "      <th>0</th>\n",
       "      <td>01/01/2017</td>\n",
       "      <td>AQS</td>\n",
       "      <td>390350060</td>\n",
       "      <td>1</td>\n",
       "      <td>36</td>\n",
       "      <td>ppb</td>\n",
       "      <td>34</td>\n",
       "      <td>GT Craig NCore</td>\n",
       "      <td>23</td>\n",
       "      <td>96.0</td>\n",
       "      <td>42602</td>\n",
       "      <td>Nitrogen dioxide (NO2)</td>\n",
       "      <td>17460</td>\n",
       "      <td>Cleveland-Elyria, OH</td>\n",
       "      <td>39</td>\n",
       "      <td>Ohio</td>\n",
       "      <td>35</td>\n",
       "      <td>Cuyahoga</td>\n",
       "      <td>41.492117</td>\n",
       "      <td>-81.678449</td>\n",
       "    </tr>\n",
       "    <tr>\n",
       "      <th>1</th>\n",
       "      <td>01/02/2017</td>\n",
       "      <td>AQS</td>\n",
       "      <td>390350060</td>\n",
       "      <td>1</td>\n",
       "      <td>33</td>\n",
       "      <td>ppb</td>\n",
       "      <td>31</td>\n",
       "      <td>GT Craig NCore</td>\n",
       "      <td>23</td>\n",
       "      <td>96.0</td>\n",
       "      <td>42602</td>\n",
       "      <td>Nitrogen dioxide (NO2)</td>\n",
       "      <td>17460</td>\n",
       "      <td>Cleveland-Elyria, OH</td>\n",
       "      <td>39</td>\n",
       "      <td>Ohio</td>\n",
       "      <td>35</td>\n",
       "      <td>Cuyahoga</td>\n",
       "      <td>41.492117</td>\n",
       "      <td>-81.678449</td>\n",
       "    </tr>\n",
       "    <tr>\n",
       "      <th>2</th>\n",
       "      <td>01/03/2017</td>\n",
       "      <td>AQS</td>\n",
       "      <td>390350060</td>\n",
       "      <td>1</td>\n",
       "      <td>24</td>\n",
       "      <td>ppb</td>\n",
       "      <td>23</td>\n",
       "      <td>GT Craig NCore</td>\n",
       "      <td>21</td>\n",
       "      <td>88.0</td>\n",
       "      <td>42602</td>\n",
       "      <td>Nitrogen dioxide (NO2)</td>\n",
       "      <td>17460</td>\n",
       "      <td>Cleveland-Elyria, OH</td>\n",
       "      <td>39</td>\n",
       "      <td>Ohio</td>\n",
       "      <td>35</td>\n",
       "      <td>Cuyahoga</td>\n",
       "      <td>41.492117</td>\n",
       "      <td>-81.678449</td>\n",
       "    </tr>\n",
       "    <tr>\n",
       "      <th>3</th>\n",
       "      <td>01/05/2017</td>\n",
       "      <td>AQS</td>\n",
       "      <td>390350060</td>\n",
       "      <td>1</td>\n",
       "      <td>19</td>\n",
       "      <td>ppb</td>\n",
       "      <td>18</td>\n",
       "      <td>GT Craig NCore</td>\n",
       "      <td>23</td>\n",
       "      <td>96.0</td>\n",
       "      <td>42602</td>\n",
       "      <td>Nitrogen dioxide (NO2)</td>\n",
       "      <td>17460</td>\n",
       "      <td>Cleveland-Elyria, OH</td>\n",
       "      <td>39</td>\n",
       "      <td>Ohio</td>\n",
       "      <td>35</td>\n",
       "      <td>Cuyahoga</td>\n",
       "      <td>41.492117</td>\n",
       "      <td>-81.678449</td>\n",
       "    </tr>\n",
       "    <tr>\n",
       "      <th>4</th>\n",
       "      <td>01/06/2017</td>\n",
       "      <td>AQS</td>\n",
       "      <td>390350060</td>\n",
       "      <td>1</td>\n",
       "      <td>25</td>\n",
       "      <td>ppb</td>\n",
       "      <td>24</td>\n",
       "      <td>GT Craig NCore</td>\n",
       "      <td>23</td>\n",
       "      <td>96.0</td>\n",
       "      <td>42602</td>\n",
       "      <td>Nitrogen dioxide (NO2)</td>\n",
       "      <td>17460</td>\n",
       "      <td>Cleveland-Elyria, OH</td>\n",
       "      <td>39</td>\n",
       "      <td>Ohio</td>\n",
       "      <td>35</td>\n",
       "      <td>Cuyahoga</td>\n",
       "      <td>41.492117</td>\n",
       "      <td>-81.678449</td>\n",
       "    </tr>\n",
       "  </tbody>\n",
       "</table>\n",
       "</div>"
      ],
      "text/plain": [
       "         Date Source    Site ID  POC  Daily Max 1-hour NO2 Concentration  \\\n",
       "0  01/01/2017    AQS  390350060    1                                  36   \n",
       "1  01/02/2017    AQS  390350060    1                                  33   \n",
       "2  01/03/2017    AQS  390350060    1                                  24   \n",
       "3  01/05/2017    AQS  390350060    1                                  19   \n",
       "4  01/06/2017    AQS  390350060    1                                  25   \n",
       "\n",
       "  UNITS  DAILY_AQI_VALUE       Site Name  DAILY_OBS_COUNT  PERCENT_COMPLETE  \\\n",
       "0   ppb               34  GT Craig NCore               23              96.0   \n",
       "1   ppb               31  GT Craig NCore               23              96.0   \n",
       "2   ppb               23  GT Craig NCore               21              88.0   \n",
       "3   ppb               18  GT Craig NCore               23              96.0   \n",
       "4   ppb               24  GT Craig NCore               23              96.0   \n",
       "\n",
       "   AQS_PARAMETER_CODE      AQS_PARAMETER_DESC  CBSA_CODE  \\\n",
       "0               42602  Nitrogen dioxide (NO2)      17460   \n",
       "1               42602  Nitrogen dioxide (NO2)      17460   \n",
       "2               42602  Nitrogen dioxide (NO2)      17460   \n",
       "3               42602  Nitrogen dioxide (NO2)      17460   \n",
       "4               42602  Nitrogen dioxide (NO2)      17460   \n",
       "\n",
       "              CBSA_NAME  STATE_CODE STATE  COUNTY_CODE    COUNTY  \\\n",
       "0  Cleveland-Elyria, OH          39  Ohio           35  Cuyahoga   \n",
       "1  Cleveland-Elyria, OH          39  Ohio           35  Cuyahoga   \n",
       "2  Cleveland-Elyria, OH          39  Ohio           35  Cuyahoga   \n",
       "3  Cleveland-Elyria, OH          39  Ohio           35  Cuyahoga   \n",
       "4  Cleveland-Elyria, OH          39  Ohio           35  Cuyahoga   \n",
       "\n",
       "   SITE_LATITUDE  SITE_LONGITUDE  \n",
       "0      41.492117      -81.678449  \n",
       "1      41.492117      -81.678449  \n",
       "2      41.492117      -81.678449  \n",
       "3      41.492117      -81.678449  \n",
       "4      41.492117      -81.678449  "
      ]
     },
     "execution_count": 11,
     "metadata": {},
     "output_type": "execute_result"
    }
   ],
   "source": [
    "no2.head()"
   ]
  },
  {
   "cell_type": "code",
   "execution_count": 12,
   "id": "metropolitan-reproduction",
   "metadata": {},
   "outputs": [
    {
     "data": {
      "text/html": [
       "<div>\n",
       "<style scoped>\n",
       "    .dataframe tbody tr th:only-of-type {\n",
       "        vertical-align: middle;\n",
       "    }\n",
       "\n",
       "    .dataframe tbody tr th {\n",
       "        vertical-align: top;\n",
       "    }\n",
       "\n",
       "    .dataframe thead th {\n",
       "        text-align: right;\n",
       "    }\n",
       "</style>\n",
       "<table border=\"1\" class=\"dataframe\">\n",
       "  <thead>\n",
       "    <tr style=\"text-align: right;\">\n",
       "      <th></th>\n",
       "      <th>Date</th>\n",
       "      <th>COUNTY</th>\n",
       "      <th>Daily Max 1-hour NO2 Concentration</th>\n",
       "      <th>DAILY_AQI_VALUE</th>\n",
       "    </tr>\n",
       "    <tr>\n",
       "      <th>date_county</th>\n",
       "      <th></th>\n",
       "      <th></th>\n",
       "      <th></th>\n",
       "      <th></th>\n",
       "    </tr>\n",
       "  </thead>\n",
       "  <tbody>\n",
       "    <tr>\n",
       "      <th>01/01/2017, Cuyahoga</th>\n",
       "      <td>01/01/2017</td>\n",
       "      <td>Cuyahoga</td>\n",
       "      <td>36</td>\n",
       "      <td>34</td>\n",
       "    </tr>\n",
       "    <tr>\n",
       "      <th>01/02/2017, Cuyahoga</th>\n",
       "      <td>01/02/2017</td>\n",
       "      <td>Cuyahoga</td>\n",
       "      <td>33</td>\n",
       "      <td>31</td>\n",
       "    </tr>\n",
       "  </tbody>\n",
       "</table>\n",
       "</div>"
      ],
      "text/plain": [
       "                            Date    COUNTY  \\\n",
       "date_county                                  \n",
       "01/01/2017, Cuyahoga  01/01/2017  Cuyahoga   \n",
       "01/02/2017, Cuyahoga  01/02/2017  Cuyahoga   \n",
       "\n",
       "                      Daily Max 1-hour NO2 Concentration  DAILY_AQI_VALUE  \n",
       "date_county                                                                \n",
       "01/01/2017, Cuyahoga                                  36               34  \n",
       "01/02/2017, Cuyahoga                                  33               31  "
      ]
     },
     "execution_count": 12,
     "metadata": {},
     "output_type": "execute_result"
    }
   ],
   "source": [
    "no2_df = no2[['Date', 'COUNTY', 'Daily Max 1-hour NO2 Concentration', 'DAILY_AQI_VALUE']]\n",
    "no2_df['date_county'] = no2_df['Date'] + \", \" + no2_df['COUNTY']\n",
    "no2_df.set_index('date_county', inplace=True)\n",
    "no2_df.head(2)"
   ]
  },
  {
   "cell_type": "code",
   "execution_count": 13,
   "id": "talented-ridge",
   "metadata": {},
   "outputs": [
    {
     "data": {
      "text/html": [
       "<div>\n",
       "<style scoped>\n",
       "    .dataframe tbody tr th:only-of-type {\n",
       "        vertical-align: middle;\n",
       "    }\n",
       "\n",
       "    .dataframe tbody tr th {\n",
       "        vertical-align: top;\n",
       "    }\n",
       "\n",
       "    .dataframe thead th {\n",
       "        text-align: right;\n",
       "    }\n",
       "</style>\n",
       "<table border=\"1\" class=\"dataframe\">\n",
       "  <thead>\n",
       "    <tr style=\"text-align: right;\">\n",
       "      <th></th>\n",
       "      <th>Daily Max 1-hour NO2 Concentration</th>\n",
       "      <th>DAILY_AQI_VALUE</th>\n",
       "    </tr>\n",
       "    <tr>\n",
       "      <th>date_county</th>\n",
       "      <th></th>\n",
       "      <th></th>\n",
       "    </tr>\n",
       "  </thead>\n",
       "  <tbody>\n",
       "    <tr>\n",
       "      <th>01/01/2017, Cuyahoga</th>\n",
       "      <td>36</td>\n",
       "      <td>34</td>\n",
       "    </tr>\n",
       "    <tr>\n",
       "      <th>01/02/2017, Cuyahoga</th>\n",
       "      <td>33</td>\n",
       "      <td>31</td>\n",
       "    </tr>\n",
       "    <tr>\n",
       "      <th>01/03/2017, Cuyahoga</th>\n",
       "      <td>24</td>\n",
       "      <td>23</td>\n",
       "    </tr>\n",
       "    <tr>\n",
       "      <th>01/05/2017, Cuyahoga</th>\n",
       "      <td>19</td>\n",
       "      <td>18</td>\n",
       "    </tr>\n",
       "    <tr>\n",
       "      <th>01/06/2017, Cuyahoga</th>\n",
       "      <td>25</td>\n",
       "      <td>24</td>\n",
       "    </tr>\n",
       "  </tbody>\n",
       "</table>\n",
       "</div>"
      ],
      "text/plain": [
       "                      Daily Max 1-hour NO2 Concentration  DAILY_AQI_VALUE\n",
       "date_county                                                              \n",
       "01/01/2017, Cuyahoga                                  36               34\n",
       "01/02/2017, Cuyahoga                                  33               31\n",
       "01/03/2017, Cuyahoga                                  24               23\n",
       "01/05/2017, Cuyahoga                                  19               18\n",
       "01/06/2017, Cuyahoga                                  25               24"
      ]
     },
     "execution_count": 13,
     "metadata": {},
     "output_type": "execute_result"
    }
   ],
   "source": [
    "no2_df.drop(columns=['Date', 'COUNTY'], inplace=True)\n",
    "no2_df.head()"
   ]
  },
  {
   "cell_type": "code",
   "execution_count": 14,
   "id": "upset-assumption",
   "metadata": {},
   "outputs": [
    {
     "data": {
      "text/plain": [
       "Daily Max 1-hour NO2 Concentration    0\n",
       "DAILY_AQI_VALUE                       0\n",
       "dtype: int64"
      ]
     },
     "execution_count": 14,
     "metadata": {},
     "output_type": "execute_result"
    }
   ],
   "source": [
    "no2_df.isna().sum()"
   ]
  },
  {
   "cell_type": "code",
   "execution_count": 15,
   "id": "funded-proxy",
   "metadata": {},
   "outputs": [
    {
     "name": "stdout",
     "output_type": "stream",
     "text": [
      "<class 'pandas.core.frame.DataFrame'>\n",
      "Index: 699 entries, 01/01/2017, Cuyahoga to 12/31/2017, Cuyahoga\n",
      "Data columns (total 2 columns):\n",
      " #   Column                              Non-Null Count  Dtype\n",
      "---  ------                              --------------  -----\n",
      " 0   Daily Max 1-hour NO2 Concentration  699 non-null    int64\n",
      " 1   DAILY_AQI_VALUE                     699 non-null    int64\n",
      "dtypes: int64(2)\n",
      "memory usage: 16.4+ KB\n"
     ]
    }
   ],
   "source": [
    "no2_df.info()"
   ]
  },
  {
   "cell_type": "code",
   "execution_count": null,
   "id": "through-catalog",
   "metadata": {},
   "outputs": [],
   "source": []
  },
  {
   "cell_type": "code",
   "execution_count": 16,
   "id": "effective-nursery",
   "metadata": {},
   "outputs": [
    {
     "data": {
      "text/plain": [
       "'Daily Max 1-hour NO2 Concentration'"
      ]
     },
     "execution_count": 16,
     "metadata": {},
     "output_type": "execute_result"
    }
   ],
   "source": [
    "no2.columns[4]"
   ]
  },
  {
   "cell_type": "code",
   "execution_count": null,
   "id": "lined-snake",
   "metadata": {},
   "outputs": [],
   "source": []
  },
  {
   "cell_type": "code",
   "execution_count": null,
   "id": "qualified-commission",
   "metadata": {},
   "outputs": [],
   "source": []
  },
  {
   "cell_type": "markdown",
   "id": "labeled-mouth",
   "metadata": {},
   "source": [
    "## Functions\n",
    "[(back to top)](#EDC-and-Cleaning)"
   ]
  },
  {
   "cell_type": "code",
   "execution_count": 17,
   "id": "enhanced-paragraph",
   "metadata": {},
   "outputs": [],
   "source": [
    "def clean_cleaveland_air(df_in, col = ''):\n",
    "    if((len(col) == 0) & (df_in.shape[1] > 4)):\n",
    "        col = df_in.columns[4]\n",
    "    \n",
    "    df_out = df_in[['Date', 'COUNTY', col, 'DAILY_AQI_VALUE']]\n",
    "    df_out['date_county'] = df_out['Date'] + \", \" + df_out['COUNTY']\n",
    "    df_out.set_index('date_county', inplace=True)\n",
    "    df_out.drop(columns=['Date', 'COUNTY'], inplace=True)\n",
    "    print(f'\\nSUM OF NaNs: {df_out.isna().sum().sum()}\\n')\n",
    "    return df_out"
   ]
  },
  {
   "cell_type": "code",
   "execution_count": 18,
   "id": "legal-stake",
   "metadata": {},
   "outputs": [
    {
     "name": "stdout",
     "output_type": "stream",
     "text": [
      "\n",
      "SUM OF NaNs: 0\n",
      "\n"
     ]
    },
    {
     "data": {
      "text/html": [
       "<div>\n",
       "<style scoped>\n",
       "    .dataframe tbody tr th:only-of-type {\n",
       "        vertical-align: middle;\n",
       "    }\n",
       "\n",
       "    .dataframe tbody tr th {\n",
       "        vertical-align: top;\n",
       "    }\n",
       "\n",
       "    .dataframe thead th {\n",
       "        text-align: right;\n",
       "    }\n",
       "</style>\n",
       "<table border=\"1\" class=\"dataframe\">\n",
       "  <thead>\n",
       "    <tr style=\"text-align: right;\">\n",
       "      <th></th>\n",
       "      <th>Daily Max 1-hour NO2 Concentration</th>\n",
       "      <th>DAILY_AQI_VALUE</th>\n",
       "    </tr>\n",
       "    <tr>\n",
       "      <th>date_county</th>\n",
       "      <th></th>\n",
       "      <th></th>\n",
       "    </tr>\n",
       "  </thead>\n",
       "  <tbody>\n",
       "    <tr>\n",
       "      <th>01/01/2017, Cuyahoga</th>\n",
       "      <td>36</td>\n",
       "      <td>34</td>\n",
       "    </tr>\n",
       "    <tr>\n",
       "      <th>01/02/2017, Cuyahoga</th>\n",
       "      <td>33</td>\n",
       "      <td>31</td>\n",
       "    </tr>\n",
       "    <tr>\n",
       "      <th>01/03/2017, Cuyahoga</th>\n",
       "      <td>24</td>\n",
       "      <td>23</td>\n",
       "    </tr>\n",
       "    <tr>\n",
       "      <th>01/05/2017, Cuyahoga</th>\n",
       "      <td>19</td>\n",
       "      <td>18</td>\n",
       "    </tr>\n",
       "    <tr>\n",
       "      <th>01/06/2017, Cuyahoga</th>\n",
       "      <td>25</td>\n",
       "      <td>24</td>\n",
       "    </tr>\n",
       "  </tbody>\n",
       "</table>\n",
       "</div>"
      ],
      "text/plain": [
       "                      Daily Max 1-hour NO2 Concentration  DAILY_AQI_VALUE\n",
       "date_county                                                              \n",
       "01/01/2017, Cuyahoga                                  36               34\n",
       "01/02/2017, Cuyahoga                                  33               31\n",
       "01/03/2017, Cuyahoga                                  24               23\n",
       "01/05/2017, Cuyahoga                                  19               18\n",
       "01/06/2017, Cuyahoga                                  25               24"
      ]
     },
     "execution_count": 18,
     "metadata": {},
     "output_type": "execute_result"
    }
   ],
   "source": [
    "clean_no2 = clean_cleaveland_air(no2) #, 'Daily Max 1-hour NO2 Concentration')\n",
    "clean_no2.head()"
   ]
  },
  {
   "cell_type": "code",
   "execution_count": 19,
   "id": "german-wales",
   "metadata": {},
   "outputs": [
    {
     "name": "stdout",
     "output_type": "stream",
     "text": [
      "\n",
      "SUM OF NaNs: 0\n",
      "\n"
     ]
    },
    {
     "data": {
      "text/html": [
       "<div>\n",
       "<style scoped>\n",
       "    .dataframe tbody tr th:only-of-type {\n",
       "        vertical-align: middle;\n",
       "    }\n",
       "\n",
       "    .dataframe tbody tr th {\n",
       "        vertical-align: top;\n",
       "    }\n",
       "\n",
       "    .dataframe thead th {\n",
       "        text-align: right;\n",
       "    }\n",
       "</style>\n",
       "<table border=\"1\" class=\"dataframe\">\n",
       "  <thead>\n",
       "    <tr style=\"text-align: right;\">\n",
       "      <th></th>\n",
       "      <th>Daily Max 8-hour CO Concentration</th>\n",
       "      <th>DAILY_AQI_VALUE</th>\n",
       "    </tr>\n",
       "    <tr>\n",
       "      <th>date_county</th>\n",
       "      <th></th>\n",
       "      <th></th>\n",
       "    </tr>\n",
       "  </thead>\n",
       "  <tbody>\n",
       "    <tr>\n",
       "      <th>01/01/2017, Cuyahoga</th>\n",
       "      <td>0.6</td>\n",
       "      <td>7</td>\n",
       "    </tr>\n",
       "    <tr>\n",
       "      <th>01/02/2017, Cuyahoga</th>\n",
       "      <td>0.8</td>\n",
       "      <td>9</td>\n",
       "    </tr>\n",
       "    <tr>\n",
       "      <th>01/03/2017, Cuyahoga</th>\n",
       "      <td>0.9</td>\n",
       "      <td>10</td>\n",
       "    </tr>\n",
       "    <tr>\n",
       "      <th>01/04/2017, Cuyahoga</th>\n",
       "      <td>0.7</td>\n",
       "      <td>8</td>\n",
       "    </tr>\n",
       "    <tr>\n",
       "      <th>01/05/2017, Cuyahoga</th>\n",
       "      <td>0.6</td>\n",
       "      <td>7</td>\n",
       "    </tr>\n",
       "  </tbody>\n",
       "</table>\n",
       "</div>"
      ],
      "text/plain": [
       "                      Daily Max 8-hour CO Concentration  DAILY_AQI_VALUE\n",
       "date_county                                                             \n",
       "01/01/2017, Cuyahoga                                0.6                7\n",
       "01/02/2017, Cuyahoga                                0.8                9\n",
       "01/03/2017, Cuyahoga                                0.9               10\n",
       "01/04/2017, Cuyahoga                                0.7                8\n",
       "01/05/2017, Cuyahoga                                0.6                7"
      ]
     },
     "execution_count": 19,
     "metadata": {},
     "output_type": "execute_result"
    }
   ],
   "source": [
    "clean_co = clean_cleaveland_air(co) #, 'Daily Max 8-hour CO Concentration')\n",
    "clean_co.head()"
   ]
  },
  {
   "cell_type": "code",
   "execution_count": null,
   "id": "utility-joseph",
   "metadata": {},
   "outputs": [],
   "source": []
  },
  {
   "cell_type": "code",
   "execution_count": null,
   "id": "promising-indie",
   "metadata": {},
   "outputs": [],
   "source": []
  },
  {
   "cell_type": "code",
   "execution_count": null,
   "id": "greater-criterion",
   "metadata": {},
   "outputs": [],
   "source": []
  },
  {
   "cell_type": "code",
   "execution_count": 20,
   "id": "enclosed-vancouver",
   "metadata": {},
   "outputs": [
    {
     "name": "stdout",
     "output_type": "stream",
     "text": [
      "\n",
      "SUM OF NaNs: 0\n",
      "\n"
     ]
    },
    {
     "data": {
      "text/html": [
       "<div>\n",
       "<style scoped>\n",
       "    .dataframe tbody tr th:only-of-type {\n",
       "        vertical-align: middle;\n",
       "    }\n",
       "\n",
       "    .dataframe tbody tr th {\n",
       "        vertical-align: top;\n",
       "    }\n",
       "\n",
       "    .dataframe thead th {\n",
       "        text-align: right;\n",
       "    }\n",
       "</style>\n",
       "<table border=\"1\" class=\"dataframe\">\n",
       "  <thead>\n",
       "    <tr style=\"text-align: right;\">\n",
       "      <th></th>\n",
       "      <th>Daily Max 8-hour Ozone Concentration</th>\n",
       "      <th>DAILY_AQI_VALUE</th>\n",
       "    </tr>\n",
       "    <tr>\n",
       "      <th>date_county</th>\n",
       "      <th></th>\n",
       "      <th></th>\n",
       "    </tr>\n",
       "  </thead>\n",
       "  <tbody>\n",
       "    <tr>\n",
       "      <th>03/01/2017, Cuyahoga</th>\n",
       "      <td>0.038</td>\n",
       "      <td>35</td>\n",
       "    </tr>\n",
       "    <tr>\n",
       "      <th>03/02/2017, Cuyahoga</th>\n",
       "      <td>0.040</td>\n",
       "      <td>37</td>\n",
       "    </tr>\n",
       "    <tr>\n",
       "      <th>03/03/2017, Cuyahoga</th>\n",
       "      <td>0.040</td>\n",
       "      <td>37</td>\n",
       "    </tr>\n",
       "    <tr>\n",
       "      <th>03/04/2017, Cuyahoga</th>\n",
       "      <td>0.041</td>\n",
       "      <td>38</td>\n",
       "    </tr>\n",
       "    <tr>\n",
       "      <th>03/05/2017, Cuyahoga</th>\n",
       "      <td>0.039</td>\n",
       "      <td>36</td>\n",
       "    </tr>\n",
       "  </tbody>\n",
       "</table>\n",
       "</div>"
      ],
      "text/plain": [
       "                      Daily Max 8-hour Ozone Concentration  DAILY_AQI_VALUE\n",
       "date_county                                                                \n",
       "03/01/2017, Cuyahoga                                 0.038               35\n",
       "03/02/2017, Cuyahoga                                 0.040               37\n",
       "03/03/2017, Cuyahoga                                 0.040               37\n",
       "03/04/2017, Cuyahoga                                 0.041               38\n",
       "03/05/2017, Cuyahoga                                 0.039               36"
      ]
     },
     "execution_count": 20,
     "metadata": {},
     "output_type": "execute_result"
    }
   ],
   "source": [
    "clean_o3 = clean_cleaveland_air(o3)\n",
    "clean_o3.head()"
   ]
  },
  {
   "cell_type": "code",
   "execution_count": 21,
   "id": "legislative-gather",
   "metadata": {},
   "outputs": [
    {
     "name": "stdout",
     "output_type": "stream",
     "text": [
      "\n",
      "SUM OF NaNs: 0\n",
      "\n"
     ]
    },
    {
     "data": {
      "text/html": [
       "<div>\n",
       "<style scoped>\n",
       "    .dataframe tbody tr th:only-of-type {\n",
       "        vertical-align: middle;\n",
       "    }\n",
       "\n",
       "    .dataframe tbody tr th {\n",
       "        vertical-align: top;\n",
       "    }\n",
       "\n",
       "    .dataframe thead th {\n",
       "        text-align: right;\n",
       "    }\n",
       "</style>\n",
       "<table border=\"1\" class=\"dataframe\">\n",
       "  <thead>\n",
       "    <tr style=\"text-align: right;\">\n",
       "      <th></th>\n",
       "      <th>Daily Mean Pb Concentration</th>\n",
       "      <th>DAILY_AQI_VALUE</th>\n",
       "    </tr>\n",
       "    <tr>\n",
       "      <th>date_county</th>\n",
       "      <th></th>\n",
       "      <th></th>\n",
       "    </tr>\n",
       "  </thead>\n",
       "  <tbody>\n",
       "    <tr>\n",
       "      <th>01/01/2017, Cuyahoga</th>\n",
       "      <td>0.007</td>\n",
       "      <td>.</td>\n",
       "    </tr>\n",
       "    <tr>\n",
       "      <th>01/07/2017, Cuyahoga</th>\n",
       "      <td>0.006</td>\n",
       "      <td>.</td>\n",
       "    </tr>\n",
       "    <tr>\n",
       "      <th>01/13/2017, Cuyahoga</th>\n",
       "      <td>0.005</td>\n",
       "      <td>.</td>\n",
       "    </tr>\n",
       "    <tr>\n",
       "      <th>01/19/2017, Cuyahoga</th>\n",
       "      <td>0.007</td>\n",
       "      <td>.</td>\n",
       "    </tr>\n",
       "    <tr>\n",
       "      <th>01/25/2017, Cuyahoga</th>\n",
       "      <td>0.011</td>\n",
       "      <td>.</td>\n",
       "    </tr>\n",
       "  </tbody>\n",
       "</table>\n",
       "</div>"
      ],
      "text/plain": [
       "                      Daily Mean Pb Concentration DAILY_AQI_VALUE\n",
       "date_county                                                      \n",
       "01/01/2017, Cuyahoga                        0.007               .\n",
       "01/07/2017, Cuyahoga                        0.006               .\n",
       "01/13/2017, Cuyahoga                        0.005               .\n",
       "01/19/2017, Cuyahoga                        0.007               .\n",
       "01/25/2017, Cuyahoga                        0.011               ."
      ]
     },
     "execution_count": 21,
     "metadata": {},
     "output_type": "execute_result"
    }
   ],
   "source": [
    "clean_pb = clean_cleaveland_air(pb)\n",
    "clean_pb.head()"
   ]
  },
  {
   "cell_type": "code",
   "execution_count": 22,
   "id": "progressive-module",
   "metadata": {},
   "outputs": [
    {
     "name": "stdout",
     "output_type": "stream",
     "text": [
      "\n",
      "SUM OF NaNs: 0\n",
      "\n"
     ]
    },
    {
     "data": {
      "text/html": [
       "<div>\n",
       "<style scoped>\n",
       "    .dataframe tbody tr th:only-of-type {\n",
       "        vertical-align: middle;\n",
       "    }\n",
       "\n",
       "    .dataframe tbody tr th {\n",
       "        vertical-align: top;\n",
       "    }\n",
       "\n",
       "    .dataframe thead th {\n",
       "        text-align: right;\n",
       "    }\n",
       "</style>\n",
       "<table border=\"1\" class=\"dataframe\">\n",
       "  <thead>\n",
       "    <tr style=\"text-align: right;\">\n",
       "      <th></th>\n",
       "      <th>Daily Mean PM10 Concentration</th>\n",
       "      <th>DAILY_AQI_VALUE</th>\n",
       "    </tr>\n",
       "    <tr>\n",
       "      <th>date_county</th>\n",
       "      <th></th>\n",
       "      <th></th>\n",
       "    </tr>\n",
       "  </thead>\n",
       "  <tbody>\n",
       "    <tr>\n",
       "      <th>01/01/2017, Cuyahoga</th>\n",
       "      <td>28</td>\n",
       "      <td>26</td>\n",
       "    </tr>\n",
       "    <tr>\n",
       "      <th>01/06/2017, Cuyahoga</th>\n",
       "      <td>33</td>\n",
       "      <td>31</td>\n",
       "    </tr>\n",
       "    <tr>\n",
       "      <th>01/11/2017, Cuyahoga</th>\n",
       "      <td>26</td>\n",
       "      <td>24</td>\n",
       "    </tr>\n",
       "    <tr>\n",
       "      <th>01/16/2017, Cuyahoga</th>\n",
       "      <td>46</td>\n",
       "      <td>43</td>\n",
       "    </tr>\n",
       "    <tr>\n",
       "      <th>01/21/2017, Cuyahoga</th>\n",
       "      <td>25</td>\n",
       "      <td>23</td>\n",
       "    </tr>\n",
       "  </tbody>\n",
       "</table>\n",
       "</div>"
      ],
      "text/plain": [
       "                      Daily Mean PM10 Concentration  DAILY_AQI_VALUE\n",
       "date_county                                                         \n",
       "01/01/2017, Cuyahoga                             28               26\n",
       "01/06/2017, Cuyahoga                             33               31\n",
       "01/11/2017, Cuyahoga                             26               24\n",
       "01/16/2017, Cuyahoga                             46               43\n",
       "01/21/2017, Cuyahoga                             25               23"
      ]
     },
     "execution_count": 22,
     "metadata": {},
     "output_type": "execute_result"
    }
   ],
   "source": [
    "clean_pm10 = clean_cleaveland_air(pm10)\n",
    "clean_pm10.head()"
   ]
  },
  {
   "cell_type": "code",
   "execution_count": 23,
   "id": "worth-engine",
   "metadata": {},
   "outputs": [
    {
     "name": "stdout",
     "output_type": "stream",
     "text": [
      "\n",
      "SUM OF NaNs: 0\n",
      "\n"
     ]
    },
    {
     "data": {
      "text/html": [
       "<div>\n",
       "<style scoped>\n",
       "    .dataframe tbody tr th:only-of-type {\n",
       "        vertical-align: middle;\n",
       "    }\n",
       "\n",
       "    .dataframe tbody tr th {\n",
       "        vertical-align: top;\n",
       "    }\n",
       "\n",
       "    .dataframe thead th {\n",
       "        text-align: right;\n",
       "    }\n",
       "</style>\n",
       "<table border=\"1\" class=\"dataframe\">\n",
       "  <thead>\n",
       "    <tr style=\"text-align: right;\">\n",
       "      <th></th>\n",
       "      <th>Daily Mean PM2.5 Concentration</th>\n",
       "      <th>DAILY_AQI_VALUE</th>\n",
       "    </tr>\n",
       "    <tr>\n",
       "      <th>date_county</th>\n",
       "      <th></th>\n",
       "      <th></th>\n",
       "    </tr>\n",
       "  </thead>\n",
       "  <tbody>\n",
       "    <tr>\n",
       "      <th>01/01/2017, Cuyahoga</th>\n",
       "      <td>11.8</td>\n",
       "      <td>49</td>\n",
       "    </tr>\n",
       "    <tr>\n",
       "      <th>01/04/2017, Cuyahoga</th>\n",
       "      <td>5.6</td>\n",
       "      <td>23</td>\n",
       "    </tr>\n",
       "    <tr>\n",
       "      <th>01/07/2017, Cuyahoga</th>\n",
       "      <td>16.6</td>\n",
       "      <td>60</td>\n",
       "    </tr>\n",
       "    <tr>\n",
       "      <th>01/10/2017, Cuyahoga</th>\n",
       "      <td>5.0</td>\n",
       "      <td>21</td>\n",
       "    </tr>\n",
       "    <tr>\n",
       "      <th>01/13/2017, Cuyahoga</th>\n",
       "      <td>6.2</td>\n",
       "      <td>26</td>\n",
       "    </tr>\n",
       "  </tbody>\n",
       "</table>\n",
       "</div>"
      ],
      "text/plain": [
       "                      Daily Mean PM2.5 Concentration  DAILY_AQI_VALUE\n",
       "date_county                                                          \n",
       "01/01/2017, Cuyahoga                            11.8               49\n",
       "01/04/2017, Cuyahoga                             5.6               23\n",
       "01/07/2017, Cuyahoga                            16.6               60\n",
       "01/10/2017, Cuyahoga                             5.0               21\n",
       "01/13/2017, Cuyahoga                             6.2               26"
      ]
     },
     "execution_count": 23,
     "metadata": {},
     "output_type": "execute_result"
    }
   ],
   "source": [
    "clean_pm25 = clean_cleaveland_air(pm25)\n",
    "clean_pm25.head()"
   ]
  },
  {
   "cell_type": "code",
   "execution_count": 24,
   "id": "abroad-temple",
   "metadata": {},
   "outputs": [
    {
     "name": "stdout",
     "output_type": "stream",
     "text": [
      "\n",
      "SUM OF NaNs: 0\n",
      "\n"
     ]
    },
    {
     "data": {
      "text/html": [
       "<div>\n",
       "<style scoped>\n",
       "    .dataframe tbody tr th:only-of-type {\n",
       "        vertical-align: middle;\n",
       "    }\n",
       "\n",
       "    .dataframe tbody tr th {\n",
       "        vertical-align: top;\n",
       "    }\n",
       "\n",
       "    .dataframe thead th {\n",
       "        text-align: right;\n",
       "    }\n",
       "</style>\n",
       "<table border=\"1\" class=\"dataframe\">\n",
       "  <thead>\n",
       "    <tr style=\"text-align: right;\">\n",
       "      <th></th>\n",
       "      <th>Daily Max 1-hour SO2 Concentration</th>\n",
       "      <th>DAILY_AQI_VALUE</th>\n",
       "    </tr>\n",
       "    <tr>\n",
       "      <th>date_county</th>\n",
       "      <th></th>\n",
       "      <th></th>\n",
       "    </tr>\n",
       "  </thead>\n",
       "  <tbody>\n",
       "    <tr>\n",
       "      <th>01/01/2017, Cuyahoga</th>\n",
       "      <td>11.0</td>\n",
       "      <td>16</td>\n",
       "    </tr>\n",
       "    <tr>\n",
       "      <th>01/02/2017, Cuyahoga</th>\n",
       "      <td>6.0</td>\n",
       "      <td>9</td>\n",
       "    </tr>\n",
       "    <tr>\n",
       "      <th>01/03/2017, Cuyahoga</th>\n",
       "      <td>0.0</td>\n",
       "      <td>0</td>\n",
       "    </tr>\n",
       "    <tr>\n",
       "      <th>01/04/2017, Cuyahoga</th>\n",
       "      <td>0.0</td>\n",
       "      <td>0</td>\n",
       "    </tr>\n",
       "    <tr>\n",
       "      <th>01/05/2017, Cuyahoga</th>\n",
       "      <td>0.0</td>\n",
       "      <td>0</td>\n",
       "    </tr>\n",
       "  </tbody>\n",
       "</table>\n",
       "</div>"
      ],
      "text/plain": [
       "                      Daily Max 1-hour SO2 Concentration  DAILY_AQI_VALUE\n",
       "date_county                                                              \n",
       "01/01/2017, Cuyahoga                                11.0               16\n",
       "01/02/2017, Cuyahoga                                 6.0                9\n",
       "01/03/2017, Cuyahoga                                 0.0                0\n",
       "01/04/2017, Cuyahoga                                 0.0                0\n",
       "01/05/2017, Cuyahoga                                 0.0                0"
      ]
     },
     "execution_count": 24,
     "metadata": {},
     "output_type": "execute_result"
    }
   ],
   "source": [
    "clean_so2 = clean_cleaveland_air(so2)\n",
    "clean_so2.head()"
   ]
  },
  {
   "cell_type": "code",
   "execution_count": null,
   "id": "small-nickel",
   "metadata": {},
   "outputs": [],
   "source": []
  },
  {
   "cell_type": "code",
   "execution_count": null,
   "id": "employed-nashville",
   "metadata": {},
   "outputs": [],
   "source": []
  },
  {
   "cell_type": "markdown",
   "id": "unauthorized-acquisition",
   "metadata": {},
   "source": [
    "## EXPORT\n",
    "[(back to top)](#EDC-and-Cleaning)"
   ]
  },
  {
   "cell_type": "code",
   "execution_count": 25,
   "id": "digital-composition",
   "metadata": {},
   "outputs": [],
   "source": [
    "output_files = ['../data/2017_clean_cleveland_oh_CO.csv',\n",
    "                '../data/2017_clean_cleveland_oh_NO2.csv',\n",
    "                '../data/2017_clean_cleveland_oh_O3.csv',\n",
    "                '../data/2017_clean_cleveland_oh_Pb.csv',\n",
    "                '../data/2017_clean_cleveland_oh_PM10.csv',\n",
    "                '../data/2017_clean_cleveland_oh_PM2.5.csv',\n",
    "                '../data/2017_clean_cleveland_oh_SO2.csv']"
   ]
  },
  {
   "cell_type": "code",
   "execution_count": 26,
   "id": "electoral-dealing",
   "metadata": {},
   "outputs": [],
   "source": [
    "output_clean_dfs = [clean_co,\n",
    "                    clean_no2,\n",
    "                    clean_o3,\n",
    "                    clean_pb,\n",
    "                    clean_pm10,\n",
    "                    clean_pm25,\n",
    "                    clean_so2]"
   ]
  },
  {
   "cell_type": "code",
   "execution_count": 27,
   "id": "heated-content",
   "metadata": {},
   "outputs": [],
   "source": [
    "for i in range(len(output_clean_dfs)):\n",
    "    output_clean_dfs[i].to_csv(output_files[i])"
   ]
  },
  {
   "cell_type": "code",
   "execution_count": null,
   "id": "concrete-muscle",
   "metadata": {},
   "outputs": [],
   "source": []
  },
  {
   "cell_type": "code",
   "execution_count": null,
   "id": "animated-stations",
   "metadata": {},
   "outputs": [],
   "source": []
  }
 ],
 "metadata": {
  "kernelspec": {
   "display_name": "Python 3",
   "language": "python",
   "name": "python3"
  },
  "language_info": {
   "codemirror_mode": {
    "name": "ipython",
    "version": 3
   },
   "file_extension": ".py",
   "mimetype": "text/x-python",
   "name": "python",
   "nbconvert_exporter": "python",
   "pygments_lexer": "ipython3",
   "version": "3.8.5"
  }
 },
 "nbformat": 4,
 "nbformat_minor": 5
}
