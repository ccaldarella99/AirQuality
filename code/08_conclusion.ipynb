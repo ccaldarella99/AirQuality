{
 "cells": [
  {
   "cell_type": "markdown",
   "id": "middle-pantyhose",
   "metadata": {},
   "source": [
    "# Conclusion"
   ]
  },
  {
   "cell_type": "markdown",
   "id": "occupied-increase",
   "metadata": {},
   "source": [
    " - [Executive Summary](#Executive-Summary)\n",
    " - [Conclusions and Recommendations](#Conclusions-and-Recommendations)\n",
    " - [Limitations](#Limitations)\n",
    " - [Areas for Further Research and Study](#Areas-for-Further-Research-and-Study)"
   ]
  },
  {
   "cell_type": "markdown",
   "id": "invisible-circle",
   "metadata": {},
   "source": [
    "## Executive Summary\n",
    "[(back to top)](#Conclusion)"
   ]
  },
  {
   "cell_type": "markdown",
   "id": "stretch-warrior",
   "metadata": {},
   "source": [
    "Through exploratory analysis of CDC and EPA data we wanted to evaluate a model that could be helpful for analyzing air pollutants with the thought of creating information for people with respiratory illness.\n",
    "\n",
    "Through our preliminary analysis from CDC data, we investigated cities with high asthma rates. We discovered that Cleveland, Ohio resulted in the highest percentage of adults with asthma in the United States in 2017. Knowing that increasing Air Quality Index (AQI) can negatively impact people with respiratory illensses, we wanted to evaluate the realtionship with air pollutants, temperature, day of the week, and month to see if we could identify any relationship to overall daily air quality data (from the EPA website).\n",
    "\n",
    "With the hopes to create a predictive AQI model, we experimented with Forecasting Machine Learning Models, but the data was too volatile to predict with this type of model. \n",
    "\n",
    "Therefore, we looked at Linear Regression, Neural Networks, and Tree Regressor Models to evaluate important features involved with overall Air Quality Information and to create a Streamlit Application that can relay this to at-risk groups. \n",
    "\n",
    "\n",
    "\n"
   ]
  },
  {
   "cell_type": "markdown",
   "id": "stable-metadata",
   "metadata": {},
   "source": [
    "## Conclusions and Recommendations\n",
    "[(back to top)](#Conclusion)"
   ]
  },
  {
   "cell_type": "markdown",
   "id": "interesting-choir",
   "metadata": {},
   "source": [
    "Through EDA and modelling we were able to identify important features for air quality that impacted overall Air Quality Index (AQI). The features that influenced the AQI the most appeared to be Ozone and PM2.5 (see image below).\n",
    "\n",
    "![](../images/mean_aqi_polut.png)\n",
    "\n",
    "We also discovered a relationship with increased temperature and ozone levels, there tends to be increased AQI values as well (see image below).\n",
    "\n",
    "![](../images/ozone_and_temp.png)\n",
    "\n",
    "We looked at Forecasting, Regression, and Neural Network models to analyze our data and see which was able to give the best description of our features and observations and possibly predict. \n",
    "\n",
    "Forecasting failed to create an accurate predictive model since the daily data is rather volatile, and the Forecasting models generally either performed as well as the baseline or not well at all. \n",
    "\n",
    "We explored several Regression Models, but the Decision Tree Regressor performed the best from that category.  The Decision Tree model performed with a R<sup>2</sup> score of 0.7863 and a Root Mean Square Error of 7.1915.\n",
    "\n",
    "Although Linear Regression and Decision Tree Regressor models performed well, Neural Networks proved to be the best model. The Neural Networks model performed with a R<sup>2</sup> score of 0.8973 and a Root Mean Square Error of 4.9850. The graph below demonstrates how our predicted AQI values align closely with the observed values from our test set.\n",
    "\n",
    "![](../images/pred_vs_test_aqi_2.png)\n",
    "\n",
    "Regression and Neural Network models demonstrated relationships among pollutants regarding overall AQI. Across all models it became apparent that PM2.5 and Ozone were major contributors in predicting the overall Air Quality Index.\n",
    "\n",
    "We recommend that sensitive groups (those with COPD, Asthma, or other respiratory illnesses) should pay special attention to Ozone and PM2.5 levels since they have the highest detriment to overall Air Quality. We also recommend local and state governments to implement stricter anti-pollution measures to accomodate better Air Quality for their citizens."
   ]
  },
  {
   "cell_type": "markdown",
   "id": "proper-kelly",
   "metadata": {},
   "source": [
    "## Limitations\n",
    "[(back to top)](#Conclusion)"
   ]
  },
  {
   "cell_type": "markdown",
   "id": "determined-scoop",
   "metadata": {},
   "source": [
    "While not perfect, what we have started with has given a solid foundation to improve upon. The Nueral Net model created has the potential to become better with more data, and with the possibility of using data that includes extreme conditions, whether hypothetical or factual. As with many other models, collecting more data to train our model would likely show an improvement, and there is plenty of data to use for this topic, both within the features investigated, as well as looking for new features to incorporate.\n",
    "\n",
    "With more data, we could circle back and reevaluate the use of other predictive models, such as Regression and Time Sereies models in addition to trying to improve our Nueral Network model. This may even present an opportunity to try fitting some Ensemble models as well.\n",
    "\n",
    "A constraint we encountered was the limitation of storage and computing power when deploying our model within a Streamlit app to Heroku. As a free online deployment tool, Heroku allowed us to get our app deployed, but with an amount of difficulty that would not be encountered if Hosted with a cloud service like EC2 with Amazon Web Services."
   ]
  },
  {
   "cell_type": "markdown",
   "id": "worth-chick",
   "metadata": {},
   "source": [
    "## Areas for Further Research and Study\n",
    "[(back to top)](#Conclusion)"
   ]
  },
  {
   "cell_type": "markdown",
   "id": "strong-adelaide",
   "metadata": {},
   "source": [
    "Another way to add more to our research would involve taking pollutant readings from websites and RSS feeds in realtime to help add information to our model, as well as sending it to our Streamlit application for ease of use. This process can even be automated on an EC2 instance with a time-based job-scheduler like cron-job.\n",
    "\n",
    "Another possibility would be deploying different models to different users. With the users consent, more data about how well the model predicted could be returned to the backend for future analysis. The user could also give feedback in regard to their enjoyment of the application.\n",
    "\n",
    "This project has lots of versatility, and by building a decent foundation with one city, it makes it possible to implement this in other areas of Cleveland, or other parts of Ohio, the United States, or even the world."
   ]
  },
  {
   "cell_type": "code",
   "execution_count": null,
   "id": "variable-violence",
   "metadata": {},
   "outputs": [],
   "source": []
  }
 ],
 "metadata": {
  "kernelspec": {
   "display_name": "Python 3",
   "language": "python",
   "name": "python3"
  },
  "language_info": {
   "codemirror_mode": {
    "name": "ipython",
    "version": 3
   },
   "file_extension": ".py",
   "mimetype": "text/x-python",
   "name": "python",
   "nbconvert_exporter": "python",
   "pygments_lexer": "ipython3",
   "version": "3.8.5"
  }
 },
 "nbformat": 4,
 "nbformat_minor": 5
}
