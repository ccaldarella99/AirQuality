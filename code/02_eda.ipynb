{
 "cells": [
  {
   "cell_type": "markdown",
   "metadata": {},
   "source": [
    "# EDA\n",
    "### 2 Basic regression models with different features"
   ]
  },
  {
   "cell_type": "markdown",
   "metadata": {},
   "source": [
    "### Contents\n",
    " - [Overview and Import](#Overview-and-Import)\n",
    " - [Features](#Features)\n",
    " - [Train Test Split](#Train-Test-Split)\n",
    " - [Another Regression Model](#Another-Regression-Model)\n",
    " - [Predictions](#Predictions)\n",
    " - [Data Dictionary](#Data-Dictionary)"
   ]
  },
  {
   "cell_type": "markdown",
   "metadata": {},
   "source": [
    "## Overview and Import\n",
    "\n",
    "[(back to top)](#EDA)"
   ]
  },
  {
   "cell_type": "markdown",
   "metadata": {},
   "source": [
    "##### The first model performed better than the second regression model, probably because it had more features. The reason we did a modeling with 5 features was to initially make our streamlit app more user friendly with few inputs for the user. At the end of our project when we had made more modelings we decided to go with the neural network, the model that performed better than any other model that we created."
   ]
  },
  {
   "cell_type": "code",
   "execution_count": 105,
   "metadata": {},
   "outputs": [],
   "source": [
    "#importing librairies\n",
    "import matplotlib.pyplot as plt\n",
    "import numpy as np\n",
    "import pandas as pd\n",
    "import seaborn as sns"
   ]
  },
  {
   "cell_type": "code",
   "execution_count": 106,
   "metadata": {},
   "outputs": [],
   "source": [
    "# Read cvs file\n",
    "df = pd.read_csv('../data/2017-2019_aqi_and_temp.csv')"
   ]
  },
  {
   "cell_type": "code",
   "execution_count": 107,
   "metadata": {},
   "outputs": [],
   "source": [
    "# Getting a 30K foot view of our data using Pandas profiling\n",
    "#from pandas_profiling import ProfileReport\n",
    "#profile = ProfileReport(df, title='Report')\n",
    "#profile"
   ]
  },
  {
   "cell_type": "code",
   "execution_count": 108,
   "metadata": {},
   "outputs": [],
   "source": [
    "# Getting rid of nan values\n",
    "df = df.dropna()"
   ]
  },
  {
   "cell_type": "code",
   "execution_count": 109,
   "metadata": {},
   "outputs": [
    {
     "data": {
      "text/plain": [
       "Index(['date', 'co_max', 'co_aqi_val', 'no2_max', 'no2_aqi_val', 'ozone_max',\n",
       "       'ozone_aqi_val', 'pm10_mean', 'pm10_aqi_val', 'pm2.5_mean',\n",
       "       'pm2.5_aqi_val', 'so2_max', 'so2_aqi_val', 'cumulative_aqi',\n",
       "       'temp_high', 'temp_low', 'temp_avg'],\n",
       "      dtype='object')"
      ]
     },
     "execution_count": 109,
     "metadata": {},
     "output_type": "execute_result"
    }
   ],
   "source": [
    "df.columns"
   ]
  },
  {
   "cell_type": "markdown",
   "metadata": {},
   "source": [
    "## Features\n",
    "[(back to top)](#EDA)\n",
    "### Choosing the features for our first regression model"
   ]
  },
  {
   "cell_type": "code",
   "execution_count": 110,
   "metadata": {},
   "outputs": [],
   "source": [
    "features = ['co_max', 'co_aqi_val', 'no2_max', 'no2_aqi_val', 'ozone_max',\n",
    "       'ozone_aqi_val', 'pm10_mean', 'pm10_aqi_val', 'pm2.5_mean',\n",
    "       'pm2.5_aqi_val', 'so2_max', 'so2_aqi_val',\n",
    "       'temp_high', 'temp_low', 'temp_avg']"
   ]
  },
  {
   "cell_type": "code",
   "execution_count": 111,
   "metadata": {},
   "outputs": [],
   "source": [
    "#setting up our X\n",
    "X = df[features]"
   ]
  },
  {
   "cell_type": "code",
   "execution_count": 112,
   "metadata": {},
   "outputs": [],
   "source": [
    "# Y is what we are trying to predict\n",
    "y = df['cumulative_aqi']"
   ]
  },
  {
   "cell_type": "markdown",
   "metadata": {},
   "source": [
    "## Train Test Split\n",
    "[(back to top)](#EDA)\n",
    "#### Let's do a train test split"
   ]
  },
  {
   "cell_type": "code",
   "execution_count": 113,
   "metadata": {},
   "outputs": [],
   "source": [
    "from sklearn.model_selection import train_test_split"
   ]
  },
  {
   "cell_type": "code",
   "execution_count": 114,
   "metadata": {},
   "outputs": [],
   "source": [
    "X_train, X_test, y_train,y_test = train_test_split(X , y, random_state= 22)"
   ]
  },
  {
   "cell_type": "code",
   "execution_count": 115,
   "metadata": {},
   "outputs": [
    {
     "name": "stdout",
     "output_type": "stream",
     "text": [
      "<class 'pandas.core.frame.DataFrame'>\n",
      "Int64Index: 624 entries, 816 to 181\n",
      "Data columns (total 15 columns):\n",
      " #   Column         Non-Null Count  Dtype  \n",
      "---  ------         --------------  -----  \n",
      " 0   co_max         624 non-null    float64\n",
      " 1   co_aqi_val     624 non-null    float64\n",
      " 2   no2_max        624 non-null    float64\n",
      " 3   no2_aqi_val    624 non-null    float64\n",
      " 4   ozone_max      624 non-null    float64\n",
      " 5   ozone_aqi_val  624 non-null    float64\n",
      " 6   pm10_mean      624 non-null    float64\n",
      " 7   pm10_aqi_val   624 non-null    float64\n",
      " 8   pm2.5_mean     624 non-null    float64\n",
      " 9   pm2.5_aqi_val  624 non-null    float64\n",
      " 10  so2_max        624 non-null    float64\n",
      " 11  so2_aqi_val    624 non-null    float64\n",
      " 12  temp_high      624 non-null    int64  \n",
      " 13  temp_low       624 non-null    int64  \n",
      " 14  temp_avg       624 non-null    float64\n",
      "dtypes: float64(13), int64(2)\n",
      "memory usage: 78.0 KB\n"
     ]
    }
   ],
   "source": [
    "X_train.info()"
   ]
  },
  {
   "cell_type": "code",
   "execution_count": 116,
   "metadata": {},
   "outputs": [
    {
     "name": "stdout",
     "output_type": "stream",
     "text": [
      "<class 'pandas.core.frame.DataFrame'>\n",
      "Int64Index: 209 entries, 40 to 882\n",
      "Data columns (total 15 columns):\n",
      " #   Column         Non-Null Count  Dtype  \n",
      "---  ------         --------------  -----  \n",
      " 0   co_max         209 non-null    float64\n",
      " 1   co_aqi_val     209 non-null    float64\n",
      " 2   no2_max        209 non-null    float64\n",
      " 3   no2_aqi_val    209 non-null    float64\n",
      " 4   ozone_max      209 non-null    float64\n",
      " 5   ozone_aqi_val  209 non-null    float64\n",
      " 6   pm10_mean      209 non-null    float64\n",
      " 7   pm10_aqi_val   209 non-null    float64\n",
      " 8   pm2.5_mean     209 non-null    float64\n",
      " 9   pm2.5_aqi_val  209 non-null    float64\n",
      " 10  so2_max        209 non-null    float64\n",
      " 11  so2_aqi_val    209 non-null    float64\n",
      " 12  temp_high      209 non-null    int64  \n",
      " 13  temp_low       209 non-null    int64  \n",
      " 14  temp_avg       209 non-null    float64\n",
      "dtypes: float64(13), int64(2)\n",
      "memory usage: 26.1 KB\n"
     ]
    }
   ],
   "source": [
    "X_test.info()"
   ]
  },
  {
   "cell_type": "code",
   "execution_count": 117,
   "metadata": {},
   "outputs": [
    {
     "data": {
      "text/plain": [
       "816     56.0\n",
       "41      44.0\n",
       "163     53.0\n",
       "142     38.0\n",
       "473     51.0\n",
       "        ... \n",
       "686     41.0\n",
       "467     29.0\n",
       "464     46.0\n",
       "1068    25.0\n",
       "181     49.0\n",
       "Name: cumulative_aqi, Length: 624, dtype: float64"
      ]
     },
     "execution_count": 117,
     "metadata": {},
     "output_type": "execute_result"
    }
   ],
   "source": [
    "y_train"
   ]
  },
  {
   "cell_type": "code",
   "execution_count": 118,
   "metadata": {},
   "outputs": [
    {
     "data": {
      "text/plain": [
       "40     42.0\n",
       "121    34.0\n",
       "603    30.0\n",
       "275    92.0\n",
       "678    79.0\n",
       "       ... \n",
       "401    64.0\n",
       "995    46.0\n",
       "420    44.0\n",
       "952    56.0\n",
       "882    53.0\n",
       "Name: cumulative_aqi, Length: 209, dtype: float64"
      ]
     },
     "execution_count": 118,
     "metadata": {},
     "output_type": "execute_result"
    }
   ],
   "source": [
    "y_test"
   ]
  },
  {
   "cell_type": "code",
   "execution_count": 119,
   "metadata": {},
   "outputs": [],
   "source": [
    "from sklearn.linear_model import LinearRegression"
   ]
  },
  {
   "cell_type": "code",
   "execution_count": 120,
   "metadata": {},
   "outputs": [],
   "source": [
    "lr_model = LinearRegression()"
   ]
  },
  {
   "cell_type": "code",
   "execution_count": 121,
   "metadata": {},
   "outputs": [
    {
     "data": {
      "text/plain": [
       "LinearRegression()"
      ]
     },
     "execution_count": 121,
     "metadata": {},
     "output_type": "execute_result"
    }
   ],
   "source": [
    "lr_model.fit(X_train, y_train)"
   ]
  },
  {
   "cell_type": "markdown",
   "metadata": {},
   "source": [
    "preds = lr_model.predict(X_test)\n",
    "preds#### Making predictions on the test set. I am using X_test to predict what I think the y values should be"
   ]
  },
  {
   "cell_type": "code",
   "execution_count": 122,
   "metadata": {},
   "outputs": [
    {
     "data": {
      "text/plain": [
       "14.273079867502549"
      ]
     },
     "execution_count": 122,
     "metadata": {},
     "output_type": "execute_result"
    }
   ],
   "source": [
    "lr_model.intercept_"
   ]
  },
  {
   "cell_type": "code",
   "execution_count": 123,
   "metadata": {},
   "outputs": [
    {
     "data": {
      "text/plain": [
       "array([-3.44929604e+00,  2.09118398e-01, -1.43493957e+00,  1.59375450e+00,\n",
       "       -4.82359641e+02,  7.93526092e-01,  2.40811640e-01, -2.59495680e-01,\n",
       "        2.74671773e+00, -1.74261431e-01,  1.58892330e+00, -1.04044805e+00,\n",
       "       -7.46062046e-03, -1.34681511e-03, -4.40371760e-03])"
      ]
     },
     "execution_count": 123,
     "metadata": {},
     "output_type": "execute_result"
    }
   ],
   "source": [
    "lr_model.coef_"
   ]
  },
  {
   "cell_type": "code",
   "execution_count": 124,
   "metadata": {},
   "outputs": [
    {
     "data": {
      "text/plain": [
       "array([42.13788764, 29.92175636, 37.83558978, 57.85035208, 79.0430562 ,\n",
       "       66.68838473, 35.82404286, 27.993594  , 88.28137154, 46.38374592,\n",
       "       41.07086116, 39.6954212 , 34.57831943, 39.4736635 , 34.7287469 ,\n",
       "       34.86270949, 94.21414064, 25.26435899, 70.67927378, 29.79766722,\n",
       "       27.34368619, 49.35861245, 34.04146434, 31.88636161, 36.08189436,\n",
       "       65.72376855, 83.35492633, 55.67274363, 28.31888311, 33.40191494,\n",
       "       67.30327744, 47.64909013, 24.26065037, 48.70088205, 65.70680976,\n",
       "       36.86190803, 37.92796704, 51.67864618, 42.28231192, 44.28634461,\n",
       "       28.84542106, 77.39537424, 38.49992541, 65.411616  , 49.92255328,\n",
       "       32.92248142, 61.10608647, 46.97149024, 35.25454489, 48.22850492,\n",
       "       31.2874564 , 31.87067274, 38.99161358, 34.38448002, 45.23969895,\n",
       "       37.60565602, 56.36591892, 32.49467416, 37.81672382, 35.91504228,\n",
       "       29.97846967, 37.94524769, 25.67677895, 58.21543674, 39.60016112,\n",
       "       30.50620973, 45.67732047, 34.67339105, 39.84019007, 59.26737968,\n",
       "       47.81992082, 25.61274491, 47.14188713, 38.30483489, 26.50830203,\n",
       "       53.81680264, 37.67613522, 73.27963264, 84.95853952, 38.08270736,\n",
       "       43.20574032, 33.53832191, 53.28917719, 57.43186556, 28.26403885,\n",
       "       70.19820859, 34.85081791, 53.58821994, 77.76339765, 36.73609952,\n",
       "       37.58862685, 23.4991306 , 70.68042431, 51.75165856, 43.20865877,\n",
       "       27.38546082, 30.37816389, 33.26535994, 41.65874085, 45.80194982,\n",
       "       29.21632255, 36.73322863, 41.17599935, 31.73911805, 45.53586359,\n",
       "       39.87223818, 33.62950105, 25.64914988, 43.27060611, 33.6310173 ,\n",
       "       55.79660734, 41.5943347 , 64.0911533 , 27.04664081, 57.19778481,\n",
       "       39.39249099, 46.99707209, 12.24600907, 30.0174159 , 43.99262767,\n",
       "       34.54898336, 31.89532316, 38.34626625, 28.42774011, 33.23689968,\n",
       "       43.91359051, 28.60054653, 72.24791921, 53.68959316, 63.86722023,\n",
       "       32.04985446, 29.07057046, 66.67243401, 55.48659119, 36.34438994,\n",
       "       47.31248503, 40.40561457, 36.39338303, 25.91280221, 45.2214017 ,\n",
       "       39.4718422 , 34.96974445, 45.19311171, 29.30457129, 42.45521338,\n",
       "       74.85973429, 43.82365075, 35.99051325, 37.98557554, 42.62679473,\n",
       "       48.63093008, 55.92976597, 31.46836761, 25.11770781, 19.19753247,\n",
       "       48.33884631, 67.21598264, 37.90920317, 49.79738037, 40.17050996,\n",
       "       34.74442668, 41.07786629, 34.34586161, 56.30841381, 24.70355221,\n",
       "       46.30515464, 63.85083653, 34.26286634, 40.83593864, 74.93162114,\n",
       "       47.65809921, 24.72319221, 26.73787144, 65.63798837, 45.19139785,\n",
       "       46.76359015, 29.16049543, 37.42578371, 41.08384201, 27.11785308,\n",
       "       42.12628631, 49.64100269, 33.27901102, 50.91451697, 43.18446318,\n",
       "       34.88370838, 37.9192898 , 49.03868098, 63.97840577, 37.55892475,\n",
       "       40.75967146, 51.68340388, 55.35340843, 39.71567961, 24.45135253,\n",
       "       43.49747392, 32.66103123, 34.2445088 , 49.0815467 , 25.97203289,\n",
       "       28.26883289, 32.18022211, 44.05706842, 46.59220625, 62.66778245,\n",
       "       45.28593935, 41.62203423, 57.18184233, 54.04822976])"
      ]
     },
     "execution_count": 124,
     "metadata": {},
     "output_type": "execute_result"
    }
   ],
   "source": [
    "preds = lr_model.predict(X_test)\n",
    "preds"
   ]
  },
  {
   "cell_type": "code",
   "execution_count": 125,
   "metadata": {},
   "outputs": [
    {
     "data": {
      "text/plain": [
       "40     42.0\n",
       "121    34.0\n",
       "603    30.0\n",
       "275    92.0\n",
       "678    79.0\n",
       "       ... \n",
       "401    64.0\n",
       "995    46.0\n",
       "420    44.0\n",
       "952    56.0\n",
       "882    53.0\n",
       "Name: cumulative_aqi, Length: 209, dtype: float64"
      ]
     },
     "execution_count": 125,
     "metadata": {},
     "output_type": "execute_result"
    }
   ],
   "source": [
    "y_test"
   ]
  },
  {
   "cell_type": "code",
   "execution_count": 126,
   "metadata": {},
   "outputs": [
    {
     "data": {
      "text/plain": [
       "0.8374067916984068"
      ]
     },
     "execution_count": 126,
     "metadata": {},
     "output_type": "execute_result"
    }
   ],
   "source": [
    "lr_model.score(X_test, y_test)"
   ]
  },
  {
   "cell_type": "code",
   "execution_count": null,
   "metadata": {},
   "outputs": [],
   "source": []
  },
  {
   "cell_type": "markdown",
   "metadata": {},
   "source": [
    "## Another Regression Model\n",
    "[(back to top)](#EDA)\n",
    "\n",
    "#### Let's create another regression model for the 5 features that are more correlated to AQI"
   ]
  },
  {
   "cell_type": "code",
   "execution_count": 127,
   "metadata": {
    "tags": []
   },
   "outputs": [
    {
     "data": {
      "text/html": [
       "<div>\n",
       "<style scoped>\n",
       "    .dataframe tbody tr th:only-of-type {\n",
       "        vertical-align: middle;\n",
       "    }\n",
       "\n",
       "    .dataframe tbody tr th {\n",
       "        vertical-align: top;\n",
       "    }\n",
       "\n",
       "    .dataframe thead th {\n",
       "        text-align: right;\n",
       "    }\n",
       "</style>\n",
       "<table border=\"1\" class=\"dataframe\">\n",
       "  <thead>\n",
       "    <tr style=\"text-align: right;\">\n",
       "      <th></th>\n",
       "      <th>co_max</th>\n",
       "      <th>co_aqi_val</th>\n",
       "      <th>no2_max</th>\n",
       "      <th>no2_aqi_val</th>\n",
       "      <th>ozone_max</th>\n",
       "      <th>ozone_aqi_val</th>\n",
       "      <th>pm10_mean</th>\n",
       "      <th>pm10_aqi_val</th>\n",
       "      <th>pm2.5_mean</th>\n",
       "      <th>pm2.5_aqi_val</th>\n",
       "      <th>so2_max</th>\n",
       "      <th>so2_aqi_val</th>\n",
       "      <th>cumulative_aqi</th>\n",
       "      <th>temp_high</th>\n",
       "      <th>temp_low</th>\n",
       "      <th>temp_avg</th>\n",
       "    </tr>\n",
       "  </thead>\n",
       "  <tbody>\n",
       "    <tr>\n",
       "      <th>co_max</th>\n",
       "      <td>1.000000</td>\n",
       "      <td>0.986597</td>\n",
       "      <td>0.599937</td>\n",
       "      <td>0.599859</td>\n",
       "      <td>0.030902</td>\n",
       "      <td>0.048137</td>\n",
       "      <td>0.517415</td>\n",
       "      <td>0.524354</td>\n",
       "      <td>0.539248</td>\n",
       "      <td>0.540587</td>\n",
       "      <td>0.318862</td>\n",
       "      <td>0.337230</td>\n",
       "      <td>0.504213</td>\n",
       "      <td>0.163132</td>\n",
       "      <td>0.037674</td>\n",
       "      <td>0.106302</td>\n",
       "    </tr>\n",
       "    <tr>\n",
       "      <th>co_aqi_val</th>\n",
       "      <td>0.986597</td>\n",
       "      <td>1.000000</td>\n",
       "      <td>0.610021</td>\n",
       "      <td>0.610056</td>\n",
       "      <td>0.044335</td>\n",
       "      <td>0.063370</td>\n",
       "      <td>0.537790</td>\n",
       "      <td>0.544812</td>\n",
       "      <td>0.547411</td>\n",
       "      <td>0.553371</td>\n",
       "      <td>0.333574</td>\n",
       "      <td>0.352091</td>\n",
       "      <td>0.518492</td>\n",
       "      <td>0.182855</td>\n",
       "      <td>0.053290</td>\n",
       "      <td>0.124391</td>\n",
       "    </tr>\n",
       "    <tr>\n",
       "      <th>no2_max</th>\n",
       "      <td>0.599937</td>\n",
       "      <td>0.610021</td>\n",
       "      <td>1.000000</td>\n",
       "      <td>0.999558</td>\n",
       "      <td>0.133758</td>\n",
       "      <td>0.128188</td>\n",
       "      <td>0.569989</td>\n",
       "      <td>0.573460</td>\n",
       "      <td>0.408129</td>\n",
       "      <td>0.418342</td>\n",
       "      <td>0.373433</td>\n",
       "      <td>0.385800</td>\n",
       "      <td>0.451642</td>\n",
       "      <td>0.096926</td>\n",
       "      <td>-0.039358</td>\n",
       "      <td>0.033931</td>\n",
       "    </tr>\n",
       "    <tr>\n",
       "      <th>no2_aqi_val</th>\n",
       "      <td>0.599859</td>\n",
       "      <td>0.610056</td>\n",
       "      <td>0.999558</td>\n",
       "      <td>1.000000</td>\n",
       "      <td>0.132646</td>\n",
       "      <td>0.127336</td>\n",
       "      <td>0.570054</td>\n",
       "      <td>0.573517</td>\n",
       "      <td>0.408869</td>\n",
       "      <td>0.419058</td>\n",
       "      <td>0.372116</td>\n",
       "      <td>0.384590</td>\n",
       "      <td>0.452129</td>\n",
       "      <td>0.099393</td>\n",
       "      <td>-0.037009</td>\n",
       "      <td>0.036380</td>\n",
       "    </tr>\n",
       "    <tr>\n",
       "      <th>ozone_max</th>\n",
       "      <td>0.030902</td>\n",
       "      <td>0.044335</td>\n",
       "      <td>0.133758</td>\n",
       "      <td>0.132646</td>\n",
       "      <td>1.000000</td>\n",
       "      <td>0.971392</td>\n",
       "      <td>0.375580</td>\n",
       "      <td>0.380481</td>\n",
       "      <td>-0.038889</td>\n",
       "      <td>-0.011406</td>\n",
       "      <td>0.191226</td>\n",
       "      <td>0.199076</td>\n",
       "      <td>0.236033</td>\n",
       "      <td>0.526546</td>\n",
       "      <td>0.446499</td>\n",
       "      <td>0.496927</td>\n",
       "    </tr>\n",
       "    <tr>\n",
       "      <th>ozone_aqi_val</th>\n",
       "      <td>0.048137</td>\n",
       "      <td>0.063370</td>\n",
       "      <td>0.128188</td>\n",
       "      <td>0.127336</td>\n",
       "      <td>0.971392</td>\n",
       "      <td>1.000000</td>\n",
       "      <td>0.376989</td>\n",
       "      <td>0.382380</td>\n",
       "      <td>0.002094</td>\n",
       "      <td>0.027020</td>\n",
       "      <td>0.177493</td>\n",
       "      <td>0.185374</td>\n",
       "      <td>0.300180</td>\n",
       "      <td>0.512097</td>\n",
       "      <td>0.436392</td>\n",
       "      <td>0.484307</td>\n",
       "    </tr>\n",
       "    <tr>\n",
       "      <th>pm10_mean</th>\n",
       "      <td>0.517415</td>\n",
       "      <td>0.537790</td>\n",
       "      <td>0.569989</td>\n",
       "      <td>0.570054</td>\n",
       "      <td>0.375580</td>\n",
       "      <td>0.376989</td>\n",
       "      <td>1.000000</td>\n",
       "      <td>0.997978</td>\n",
       "      <td>0.487980</td>\n",
       "      <td>0.518325</td>\n",
       "      <td>0.488429</td>\n",
       "      <td>0.511596</td>\n",
       "      <td>0.557125</td>\n",
       "      <td>0.437356</td>\n",
       "      <td>0.289876</td>\n",
       "      <td>0.374411</td>\n",
       "    </tr>\n",
       "    <tr>\n",
       "      <th>pm10_aqi_val</th>\n",
       "      <td>0.524354</td>\n",
       "      <td>0.544812</td>\n",
       "      <td>0.573460</td>\n",
       "      <td>0.573517</td>\n",
       "      <td>0.380481</td>\n",
       "      <td>0.382380</td>\n",
       "      <td>0.997978</td>\n",
       "      <td>1.000000</td>\n",
       "      <td>0.493591</td>\n",
       "      <td>0.524418</td>\n",
       "      <td>0.486654</td>\n",
       "      <td>0.509558</td>\n",
       "      <td>0.562341</td>\n",
       "      <td>0.443139</td>\n",
       "      <td>0.294209</td>\n",
       "      <td>0.379599</td>\n",
       "    </tr>\n",
       "    <tr>\n",
       "      <th>pm2.5_mean</th>\n",
       "      <td>0.539248</td>\n",
       "      <td>0.547411</td>\n",
       "      <td>0.408129</td>\n",
       "      <td>0.408869</td>\n",
       "      <td>-0.038889</td>\n",
       "      <td>0.002094</td>\n",
       "      <td>0.487980</td>\n",
       "      <td>0.493591</td>\n",
       "      <td>1.000000</td>\n",
       "      <td>0.981298</td>\n",
       "      <td>0.191838</td>\n",
       "      <td>0.199427</td>\n",
       "      <td>0.864797</td>\n",
       "      <td>-0.004627</td>\n",
       "      <td>-0.077875</td>\n",
       "      <td>-0.039377</td>\n",
       "    </tr>\n",
       "    <tr>\n",
       "      <th>pm2.5_aqi_val</th>\n",
       "      <td>0.540587</td>\n",
       "      <td>0.553371</td>\n",
       "      <td>0.418342</td>\n",
       "      <td>0.419058</td>\n",
       "      <td>-0.011406</td>\n",
       "      <td>0.027020</td>\n",
       "      <td>0.518325</td>\n",
       "      <td>0.524418</td>\n",
       "      <td>0.981298</td>\n",
       "      <td>1.000000</td>\n",
       "      <td>0.216932</td>\n",
       "      <td>0.226130</td>\n",
       "      <td>0.848021</td>\n",
       "      <td>0.024402</td>\n",
       "      <td>-0.054063</td>\n",
       "      <td>-0.012361</td>\n",
       "    </tr>\n",
       "    <tr>\n",
       "      <th>so2_max</th>\n",
       "      <td>0.318862</td>\n",
       "      <td>0.333574</td>\n",
       "      <td>0.373433</td>\n",
       "      <td>0.372116</td>\n",
       "      <td>0.191226</td>\n",
       "      <td>0.177493</td>\n",
       "      <td>0.488429</td>\n",
       "      <td>0.486654</td>\n",
       "      <td>0.191838</td>\n",
       "      <td>0.216932</td>\n",
       "      <td>1.000000</td>\n",
       "      <td>0.993299</td>\n",
       "      <td>0.329865</td>\n",
       "      <td>0.233367</td>\n",
       "      <td>0.133998</td>\n",
       "      <td>0.189992</td>\n",
       "    </tr>\n",
       "    <tr>\n",
       "      <th>so2_aqi_val</th>\n",
       "      <td>0.337230</td>\n",
       "      <td>0.352091</td>\n",
       "      <td>0.385800</td>\n",
       "      <td>0.384590</td>\n",
       "      <td>0.199076</td>\n",
       "      <td>0.185374</td>\n",
       "      <td>0.511596</td>\n",
       "      <td>0.509558</td>\n",
       "      <td>0.199427</td>\n",
       "      <td>0.226130</td>\n",
       "      <td>0.993299</td>\n",
       "      <td>1.000000</td>\n",
       "      <td>0.327845</td>\n",
       "      <td>0.242610</td>\n",
       "      <td>0.136597</td>\n",
       "      <td>0.196235</td>\n",
       "    </tr>\n",
       "    <tr>\n",
       "      <th>cumulative_aqi</th>\n",
       "      <td>0.504213</td>\n",
       "      <td>0.518492</td>\n",
       "      <td>0.451642</td>\n",
       "      <td>0.452129</td>\n",
       "      <td>0.236033</td>\n",
       "      <td>0.300180</td>\n",
       "      <td>0.557125</td>\n",
       "      <td>0.562341</td>\n",
       "      <td>0.864797</td>\n",
       "      <td>0.848021</td>\n",
       "      <td>0.329865</td>\n",
       "      <td>0.327845</td>\n",
       "      <td>1.000000</td>\n",
       "      <td>0.134017</td>\n",
       "      <td>0.046116</td>\n",
       "      <td>0.094510</td>\n",
       "    </tr>\n",
       "    <tr>\n",
       "      <th>temp_high</th>\n",
       "      <td>0.163132</td>\n",
       "      <td>0.182855</td>\n",
       "      <td>0.096926</td>\n",
       "      <td>0.099393</td>\n",
       "      <td>0.526546</td>\n",
       "      <td>0.512097</td>\n",
       "      <td>0.437356</td>\n",
       "      <td>0.443139</td>\n",
       "      <td>-0.004627</td>\n",
       "      <td>0.024402</td>\n",
       "      <td>0.233367</td>\n",
       "      <td>0.242610</td>\n",
       "      <td>0.134017</td>\n",
       "      <td>1.000000</td>\n",
       "      <td>0.938291</td>\n",
       "      <td>0.986505</td>\n",
       "    </tr>\n",
       "    <tr>\n",
       "      <th>temp_low</th>\n",
       "      <td>0.037674</td>\n",
       "      <td>0.053290</td>\n",
       "      <td>-0.039358</td>\n",
       "      <td>-0.037009</td>\n",
       "      <td>0.446499</td>\n",
       "      <td>0.436392</td>\n",
       "      <td>0.289876</td>\n",
       "      <td>0.294209</td>\n",
       "      <td>-0.077875</td>\n",
       "      <td>-0.054063</td>\n",
       "      <td>0.133998</td>\n",
       "      <td>0.136597</td>\n",
       "      <td>0.046116</td>\n",
       "      <td>0.938291</td>\n",
       "      <td>1.000000</td>\n",
       "      <td>0.982254</td>\n",
       "    </tr>\n",
       "    <tr>\n",
       "      <th>temp_avg</th>\n",
       "      <td>0.106302</td>\n",
       "      <td>0.124391</td>\n",
       "      <td>0.033931</td>\n",
       "      <td>0.036380</td>\n",
       "      <td>0.496927</td>\n",
       "      <td>0.484307</td>\n",
       "      <td>0.374411</td>\n",
       "      <td>0.379599</td>\n",
       "      <td>-0.039377</td>\n",
       "      <td>-0.012361</td>\n",
       "      <td>0.189992</td>\n",
       "      <td>0.196235</td>\n",
       "      <td>0.094510</td>\n",
       "      <td>0.986505</td>\n",
       "      <td>0.982254</td>\n",
       "      <td>1.000000</td>\n",
       "    </tr>\n",
       "  </tbody>\n",
       "</table>\n",
       "</div>"
      ],
      "text/plain": [
       "                  co_max  co_aqi_val   no2_max  no2_aqi_val  ozone_max  \\\n",
       "co_max          1.000000    0.986597  0.599937     0.599859   0.030902   \n",
       "co_aqi_val      0.986597    1.000000  0.610021     0.610056   0.044335   \n",
       "no2_max         0.599937    0.610021  1.000000     0.999558   0.133758   \n",
       "no2_aqi_val     0.599859    0.610056  0.999558     1.000000   0.132646   \n",
       "ozone_max       0.030902    0.044335  0.133758     0.132646   1.000000   \n",
       "ozone_aqi_val   0.048137    0.063370  0.128188     0.127336   0.971392   \n",
       "pm10_mean       0.517415    0.537790  0.569989     0.570054   0.375580   \n",
       "pm10_aqi_val    0.524354    0.544812  0.573460     0.573517   0.380481   \n",
       "pm2.5_mean      0.539248    0.547411  0.408129     0.408869  -0.038889   \n",
       "pm2.5_aqi_val   0.540587    0.553371  0.418342     0.419058  -0.011406   \n",
       "so2_max         0.318862    0.333574  0.373433     0.372116   0.191226   \n",
       "so2_aqi_val     0.337230    0.352091  0.385800     0.384590   0.199076   \n",
       "cumulative_aqi  0.504213    0.518492  0.451642     0.452129   0.236033   \n",
       "temp_high       0.163132    0.182855  0.096926     0.099393   0.526546   \n",
       "temp_low        0.037674    0.053290 -0.039358    -0.037009   0.446499   \n",
       "temp_avg        0.106302    0.124391  0.033931     0.036380   0.496927   \n",
       "\n",
       "                ozone_aqi_val  pm10_mean  pm10_aqi_val  pm2.5_mean  \\\n",
       "co_max               0.048137   0.517415      0.524354    0.539248   \n",
       "co_aqi_val           0.063370   0.537790      0.544812    0.547411   \n",
       "no2_max              0.128188   0.569989      0.573460    0.408129   \n",
       "no2_aqi_val          0.127336   0.570054      0.573517    0.408869   \n",
       "ozone_max            0.971392   0.375580      0.380481   -0.038889   \n",
       "ozone_aqi_val        1.000000   0.376989      0.382380    0.002094   \n",
       "pm10_mean            0.376989   1.000000      0.997978    0.487980   \n",
       "pm10_aqi_val         0.382380   0.997978      1.000000    0.493591   \n",
       "pm2.5_mean           0.002094   0.487980      0.493591    1.000000   \n",
       "pm2.5_aqi_val        0.027020   0.518325      0.524418    0.981298   \n",
       "so2_max              0.177493   0.488429      0.486654    0.191838   \n",
       "so2_aqi_val          0.185374   0.511596      0.509558    0.199427   \n",
       "cumulative_aqi       0.300180   0.557125      0.562341    0.864797   \n",
       "temp_high            0.512097   0.437356      0.443139   -0.004627   \n",
       "temp_low             0.436392   0.289876      0.294209   -0.077875   \n",
       "temp_avg             0.484307   0.374411      0.379599   -0.039377   \n",
       "\n",
       "                pm2.5_aqi_val   so2_max  so2_aqi_val  cumulative_aqi  \\\n",
       "co_max               0.540587  0.318862     0.337230        0.504213   \n",
       "co_aqi_val           0.553371  0.333574     0.352091        0.518492   \n",
       "no2_max              0.418342  0.373433     0.385800        0.451642   \n",
       "no2_aqi_val          0.419058  0.372116     0.384590        0.452129   \n",
       "ozone_max           -0.011406  0.191226     0.199076        0.236033   \n",
       "ozone_aqi_val        0.027020  0.177493     0.185374        0.300180   \n",
       "pm10_mean            0.518325  0.488429     0.511596        0.557125   \n",
       "pm10_aqi_val         0.524418  0.486654     0.509558        0.562341   \n",
       "pm2.5_mean           0.981298  0.191838     0.199427        0.864797   \n",
       "pm2.5_aqi_val        1.000000  0.216932     0.226130        0.848021   \n",
       "so2_max              0.216932  1.000000     0.993299        0.329865   \n",
       "so2_aqi_val          0.226130  0.993299     1.000000        0.327845   \n",
       "cumulative_aqi       0.848021  0.329865     0.327845        1.000000   \n",
       "temp_high            0.024402  0.233367     0.242610        0.134017   \n",
       "temp_low            -0.054063  0.133998     0.136597        0.046116   \n",
       "temp_avg            -0.012361  0.189992     0.196235        0.094510   \n",
       "\n",
       "                temp_high  temp_low  temp_avg  \n",
       "co_max           0.163132  0.037674  0.106302  \n",
       "co_aqi_val       0.182855  0.053290  0.124391  \n",
       "no2_max          0.096926 -0.039358  0.033931  \n",
       "no2_aqi_val      0.099393 -0.037009  0.036380  \n",
       "ozone_max        0.526546  0.446499  0.496927  \n",
       "ozone_aqi_val    0.512097  0.436392  0.484307  \n",
       "pm10_mean        0.437356  0.289876  0.374411  \n",
       "pm10_aqi_val     0.443139  0.294209  0.379599  \n",
       "pm2.5_mean      -0.004627 -0.077875 -0.039377  \n",
       "pm2.5_aqi_val    0.024402 -0.054063 -0.012361  \n",
       "so2_max          0.233367  0.133998  0.189992  \n",
       "so2_aqi_val      0.242610  0.136597  0.196235  \n",
       "cumulative_aqi   0.134017  0.046116  0.094510  \n",
       "temp_high        1.000000  0.938291  0.986505  \n",
       "temp_low         0.938291  1.000000  0.982254  \n",
       "temp_avg         0.986505  0.982254  1.000000  "
      ]
     },
     "execution_count": 127,
     "metadata": {},
     "output_type": "execute_result"
    }
   ],
   "source": [
    "df.corr()"
   ]
  },
  {
   "cell_type": "code",
   "execution_count": 128,
   "metadata": {},
   "outputs": [],
   "source": [
    "features = ['temp_high','co_max', 'no2_max',\n",
    "        'pm10_mean', 'pm2.5_mean',]"
   ]
  },
  {
   "cell_type": "code",
   "execution_count": 129,
   "metadata": {},
   "outputs": [],
   "source": [
    "X = df[features]"
   ]
  },
  {
   "cell_type": "code",
   "execution_count": 130,
   "metadata": {},
   "outputs": [],
   "source": [
    "y = df['cumulative_aqi']"
   ]
  },
  {
   "cell_type": "code",
   "execution_count": 131,
   "metadata": {},
   "outputs": [],
   "source": [
    "from sklearn.model_selection import train_test_split"
   ]
  },
  {
   "cell_type": "code",
   "execution_count": 132,
   "metadata": {},
   "outputs": [],
   "source": [
    "X_train, X_test, y_train,y_test = train_test_split(X , y, random_state= 22)"
   ]
  },
  {
   "cell_type": "code",
   "execution_count": 133,
   "metadata": {},
   "outputs": [
    {
     "name": "stdout",
     "output_type": "stream",
     "text": [
      "<class 'pandas.core.frame.DataFrame'>\n",
      "Int64Index: 624 entries, 816 to 181\n",
      "Data columns (total 5 columns):\n",
      " #   Column      Non-Null Count  Dtype  \n",
      "---  ------      --------------  -----  \n",
      " 0   temp_high   624 non-null    int64  \n",
      " 1   co_max      624 non-null    float64\n",
      " 2   no2_max     624 non-null    float64\n",
      " 3   pm10_mean   624 non-null    float64\n",
      " 4   pm2.5_mean  624 non-null    float64\n",
      "dtypes: float64(4), int64(1)\n",
      "memory usage: 29.2 KB\n"
     ]
    }
   ],
   "source": [
    "X_train.info()"
   ]
  },
  {
   "cell_type": "code",
   "execution_count": 134,
   "metadata": {},
   "outputs": [
    {
     "name": "stdout",
     "output_type": "stream",
     "text": [
      "<class 'pandas.core.frame.DataFrame'>\n",
      "Int64Index: 209 entries, 40 to 882\n",
      "Data columns (total 5 columns):\n",
      " #   Column      Non-Null Count  Dtype  \n",
      "---  ------      --------------  -----  \n",
      " 0   temp_high   209 non-null    int64  \n",
      " 1   co_max      209 non-null    float64\n",
      " 2   no2_max     209 non-null    float64\n",
      " 3   pm10_mean   209 non-null    float64\n",
      " 4   pm2.5_mean  209 non-null    float64\n",
      "dtypes: float64(4), int64(1)\n",
      "memory usage: 9.8 KB\n"
     ]
    }
   ],
   "source": [
    "X_test.info()"
   ]
  },
  {
   "cell_type": "code",
   "execution_count": 135,
   "metadata": {},
   "outputs": [
    {
     "data": {
      "text/plain": [
       "816     56.0\n",
       "41      44.0\n",
       "163     53.0\n",
       "142     38.0\n",
       "473     51.0\n",
       "        ... \n",
       "686     41.0\n",
       "467     29.0\n",
       "464     46.0\n",
       "1068    25.0\n",
       "181     49.0\n",
       "Name: cumulative_aqi, Length: 624, dtype: float64"
      ]
     },
     "execution_count": 135,
     "metadata": {},
     "output_type": "execute_result"
    }
   ],
   "source": [
    "y_train"
   ]
  },
  {
   "cell_type": "code",
   "execution_count": 136,
   "metadata": {},
   "outputs": [
    {
     "data": {
      "text/plain": [
       "40     42.0\n",
       "121    34.0\n",
       "603    30.0\n",
       "275    92.0\n",
       "678    79.0\n",
       "       ... \n",
       "401    64.0\n",
       "995    46.0\n",
       "420    44.0\n",
       "952    56.0\n",
       "882    53.0\n",
       "Name: cumulative_aqi, Length: 209, dtype: float64"
      ]
     },
     "execution_count": 136,
     "metadata": {},
     "output_type": "execute_result"
    }
   ],
   "source": [
    "y_test"
   ]
  },
  {
   "cell_type": "code",
   "execution_count": 137,
   "metadata": {},
   "outputs": [],
   "source": [
    "from sklearn.linear_model import LinearRegression"
   ]
  },
  {
   "cell_type": "code",
   "execution_count": 138,
   "metadata": {},
   "outputs": [],
   "source": [
    "lr_model = LinearRegression()"
   ]
  },
  {
   "cell_type": "code",
   "execution_count": 139,
   "metadata": {},
   "outputs": [
    {
     "data": {
      "text/plain": [
       "LinearRegression()"
      ]
     },
     "execution_count": 139,
     "metadata": {},
     "output_type": "execute_result"
    }
   ],
   "source": [
    "lr_model.fit(X_train, y_train)"
   ]
  },
  {
   "cell_type": "markdown",
   "metadata": {},
   "source": [
    "## Predictions\n",
    "[(back to top)](#EDA)\n",
    "#### Making predictions on the test set. I am using X_test to predict what I think the y values should be for the 5 features we have chosen"
   ]
  },
  {
   "cell_type": "code",
   "execution_count": 140,
   "metadata": {},
   "outputs": [
    {
     "data": {
      "text/plain": [
       "15.71103231952133"
      ]
     },
     "execution_count": 140,
     "metadata": {},
     "output_type": "execute_result"
    }
   ],
   "source": [
    "lr_model.intercept_"
   ]
  },
  {
   "cell_type": "code",
   "execution_count": 141,
   "metadata": {},
   "outputs": [
    {
     "data": {
      "text/plain": [
       "array([ 0.07109816, -4.51931618,  0.10350801,  0.09424943,  2.19499569])"
      ]
     },
     "execution_count": 141,
     "metadata": {},
     "output_type": "execute_result"
    }
   ],
   "source": [
    "lr_model.coef_"
   ]
  },
  {
   "cell_type": "code",
   "execution_count": 142,
   "metadata": {},
   "outputs": [
    {
     "data": {
      "text/plain": [
       "array([43.15593768, 27.8798418 , 41.30264819, 50.14629871, 80.94142997,\n",
       "       66.33448863, 32.60988422, 28.39143671, 87.10786276, 53.06797536,\n",
       "       44.08588509, 36.13832836, 36.38133732, 46.19812502, 32.8328872 ,\n",
       "       38.78525331, 76.58011115, 26.65421099, 72.77315639, 28.82448444,\n",
       "       31.77026572, 50.17052316, 34.54156291, 30.49392558, 37.18251865,\n",
       "       66.76666855, 84.01308443, 57.53484159, 26.3893142 , 32.21658582,\n",
       "       54.49880244, 48.96732896, 23.06694186, 55.82541403, 63.83307684,\n",
       "       35.01095813, 36.50684828, 56.5517397 , 45.05291797, 46.95332809,\n",
       "       24.82715704, 75.5795133 , 42.59462743, 52.29722404, 51.77503049,\n",
       "       30.61724357, 64.69643755, 50.12553176, 35.45556908, 50.53699355,\n",
       "       33.0204561 , 32.44843794, 37.98767003, 37.20768355, 51.9227604 ,\n",
       "       40.22003333, 55.15716808, 29.21806788, 44.46715398, 38.82264572,\n",
       "       27.50702295, 39.453069  , 21.32459401, 57.80382028, 41.02689457,\n",
       "       25.5578783 , 45.9589706 , 36.20196632, 39.96433145, 57.97855378,\n",
       "       47.27385696, 27.4221788 , 49.6574337 , 38.93882624, 24.61760457,\n",
       "       55.57425946, 41.4164881 , 51.13775163, 79.84321122, 34.9524904 ,\n",
       "       40.28543372, 35.83922717, 57.03142683, 58.57198001, 32.27822105,\n",
       "       70.80634172, 33.59831815, 57.48200724, 56.77119412, 36.28228958,\n",
       "       39.0712417 , 26.00716226, 71.2216407 , 55.00518985, 43.21994431,\n",
       "       24.05744761, 25.19346226, 31.14652467, 39.946755  , 45.89449932,\n",
       "       25.49301003, 36.64787183, 40.30260185, 29.34532046, 43.84269435,\n",
       "       39.76697967, 31.18656136, 24.90810855, 41.83697671, 30.4706857 ,\n",
       "       55.72188374, 44.71329754, 54.86197832, 27.72564197, 59.04910237,\n",
       "       38.42197764, 51.29662283, 15.61648864, 31.15297768, 48.95510141,\n",
       "       37.05751267, 35.28873357, 36.58702958, 28.70995937, 31.03188149,\n",
       "       43.44056122, 28.20928965, 69.98591819, 58.47455226, 60.59132997,\n",
       "       31.42865018, 26.63596977, 61.87345414, 57.11464807, 35.05113778,\n",
       "       52.40067364, 41.4136981 , 35.39383719, 23.33979515, 47.99062726,\n",
       "       41.75951776, 33.19739672, 44.53216892, 30.09926957, 39.03124325,\n",
       "       69.9355187 , 49.87115657, 36.82984617, 35.03956659, 43.21751609,\n",
       "       52.50152959, 53.92088787, 29.19334488, 25.65276095, 20.77617434,\n",
       "       47.09831536, 66.42563445, 40.1920839 , 50.26831794, 38.43563517,\n",
       "       32.15552748, 42.58823572, 31.00869134, 55.72836747, 25.44978472,\n",
       "       45.78318791, 63.31811331, 33.55420067, 42.51254332, 46.71096961,\n",
       "       51.09361364, 22.42196892, 24.50560718, 65.05234721, 44.35247593,\n",
       "       48.78730858, 28.37733994, 38.02409985, 36.8314613 , 28.96734107,\n",
       "       42.87082848, 50.27755263, 32.53719673, 51.31461122, 44.00261496,\n",
       "       36.76223445, 40.85688806, 49.51423742, 64.37386274, 38.40174827,\n",
       "       38.06836008, 50.58969252, 57.85909449, 41.03501278, 23.12448299,\n",
       "       45.54849978, 34.95514673, 34.07578552, 51.22037853, 23.41723088,\n",
       "       29.80203292, 33.43050569, 45.44678853, 52.79623779, 60.51395949,\n",
       "       47.86328332, 41.89170306, 54.96811567, 55.88598195])"
      ]
     },
     "execution_count": 142,
     "metadata": {},
     "output_type": "execute_result"
    }
   ],
   "source": [
    "preds = lr_model.predict(X_test)\n",
    "preds"
   ]
  },
  {
   "cell_type": "code",
   "execution_count": 143,
   "metadata": {},
   "outputs": [
    {
     "data": {
      "text/plain": [
       "40     42.0\n",
       "121    34.0\n",
       "603    30.0\n",
       "275    92.0\n",
       "678    79.0\n",
       "       ... \n",
       "401    64.0\n",
       "995    46.0\n",
       "420    44.0\n",
       "952    56.0\n",
       "882    53.0\n",
       "Name: cumulative_aqi, Length: 209, dtype: float64"
      ]
     },
     "execution_count": 143,
     "metadata": {},
     "output_type": "execute_result"
    }
   ],
   "source": [
    "y_test"
   ]
  },
  {
   "cell_type": "code",
   "execution_count": 144,
   "metadata": {},
   "outputs": [
    {
     "data": {
      "text/plain": [
       "0.7170180212467077"
      ]
     },
     "execution_count": 144,
     "metadata": {},
     "output_type": "execute_result"
    }
   ],
   "source": [
    "lr_model.score(X_test, y_test)"
   ]
  },
  {
   "cell_type": "code",
   "execution_count": null,
   "metadata": {},
   "outputs": [],
   "source": []
  },
  {
   "cell_type": "markdown",
   "metadata": {},
   "source": [
    "### Data Dictionary\n",
    "[(back to top)](#EDA)\n",
    "\n",
    "| Feature            | Python Type | Data Type  | Descritpion   |\n",
    "| ---                | ---         | ---        | ---           |\n",
    "| date (index)       | datetime    | Continuous | Date when observations were made  |\n",
    "| high_temp          |   int64     | Continuous | Highest Temperature measured for the day (in degrees Fahrenheit) |\n",
    "| low_temp           |   int64     | Continuous | Lowest Temperature measured for the day (in degrees Fahrenheit) |\n",
    "| co_max             | float64     | Continuous | Amount of Carbon Monoxide measured in ppm |\n",
    "| co_aqi_val         | float64     | Continuous | AQI value of Carbon Monoxide |\n",
    "| no2_max            | float64     | Continuous | Amount of Nitrogen Dioxide measured in ppb |\n",
    "| no2_aqi_val        | float64     | Continuous | AQI value of Nitrogen Dioxide |\n",
    "| ozone_max          | float64     | Continuous | Amount of Ozone measured in ppm |\n",
    "| ozone_aqi_val      | float64     | Continuous | AQI value of Ozone |\n",
    "| pm10_mean          | float64     | Continuous | Average amount of 10um Particulate Matter measured in ug/m<sup>3</sup> |\n",
    "| pm10_aqi_val       | float64     | Continuous | AQI value of 10um Particulate Matter |\n",
    "| pm2.5_mean         | float64     | Continuous | Average amount of 2.5um Particulate Matter measured in ug/m<sup>3</sup> |\n",
    "| pm2.5_aqi_val      | float64     | Continuous | AQI value of 2.5um Particulate Matter |\n",
    "| so2_max            | float64     | Continuous | Amount of Sulfur Dioxide measured in ppb |\n",
    "| so2_aqi_val        | float64     | Continuous | AQI value of Sulfur Dioxide |\n",
    "| cumulitive_aqi     | float64     | Continuous | Calculated AQI for the day by taking the maximum value from all pollutants |\n",
    "| pct_change_aqi     | float64     | Continuous | Percent changed in AQI from previous day |\n",
    "| average_daily_temp | float64     | Continuous | Calculated Average Temperature (in degrees Fahrenheit; Mean of Highest and Lowest Temperatures) |\n",
    "| month              | float64     | Nominal    | Month denoted by numeric value one through twelve |\n",
    "| weekday            | float64     | Nominal    | Day of the week, assuming the week starts on Monday, which is denoted by 0 and ends on Sunday which is denoted by 6 |"
   ]
  },
  {
   "cell_type": "code",
   "execution_count": null,
   "metadata": {},
   "outputs": [],
   "source": []
  }
 ],
 "metadata": {
  "kernelspec": {
   "display_name": "Python 3",
   "language": "python",
   "name": "python3"
  },
  "language_info": {
   "codemirror_mode": {
    "name": "ipython",
    "version": 3
   },
   "file_extension": ".py",
   "mimetype": "text/x-python",
   "name": "python",
   "nbconvert_exporter": "python",
   "pygments_lexer": "ipython3",
   "version": "3.8.5"
  }
 },
 "nbformat": 4,
 "nbformat_minor": 4
}
